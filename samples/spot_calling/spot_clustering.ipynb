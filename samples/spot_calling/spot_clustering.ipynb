{
 "cells": [
  {
   "cell_type": "markdown",
   "metadata": {},
   "source": [
    "# Mask R-CNN - Train on Shapes Dataset\n",
    "\n",
    "\n",
    "This notebook shows how to train Mask R-CNN on your own dataset. To keep things simple we use a synthetic dataset of shapes (squares, triangles, and circles) which enables fast training. You'd still need a GPU, though, because the network backbone is a Resnet101, which would be too slow to train on a CPU. On a GPU, you can start to get okay-ish results in a few minutes, and good results in less than an hour.\n",
    "\n",
    "The code of the *Shapes* dataset is included below. It generates images on the fly, so it doesn't require downloading any data. And it can generate images of any size, so we pick a small image size to train faster. "
   ]
  },
  {
   "cell_type": "code",
   "execution_count": null,
   "metadata": {},
   "outputs": [],
   "source": []
  },
  {
   "cell_type": "code",
   "execution_count": 1,
   "metadata": {},
   "outputs": [
    {
     "name": "stderr",
     "output_type": "stream",
     "text": [
      "/usr/local/lib/python3.6/site-packages/tensorflow/python/framework/dtypes.py:523: FutureWarning: Passing (type, 1) or '1type' as a synonym of type is deprecated; in a future version of numpy, it will be understood as (type, (1,)) / '(1,)type'.\n",
      "  _np_qint8 = np.dtype([(\"qint8\", np.int8, 1)])\n",
      "/usr/local/lib/python3.6/site-packages/tensorflow/python/framework/dtypes.py:524: FutureWarning: Passing (type, 1) or '1type' as a synonym of type is deprecated; in a future version of numpy, it will be understood as (type, (1,)) / '(1,)type'.\n",
      "  _np_quint8 = np.dtype([(\"quint8\", np.uint8, 1)])\n",
      "/usr/local/lib/python3.6/site-packages/tensorflow/python/framework/dtypes.py:525: FutureWarning: Passing (type, 1) or '1type' as a synonym of type is deprecated; in a future version of numpy, it will be understood as (type, (1,)) / '(1,)type'.\n",
      "  _np_qint16 = np.dtype([(\"qint16\", np.int16, 1)])\n",
      "/usr/local/lib/python3.6/site-packages/tensorflow/python/framework/dtypes.py:526: FutureWarning: Passing (type, 1) or '1type' as a synonym of type is deprecated; in a future version of numpy, it will be understood as (type, (1,)) / '(1,)type'.\n",
      "  _np_quint16 = np.dtype([(\"quint16\", np.uint16, 1)])\n",
      "/usr/local/lib/python3.6/site-packages/tensorflow/python/framework/dtypes.py:527: FutureWarning: Passing (type, 1) or '1type' as a synonym of type is deprecated; in a future version of numpy, it will be understood as (type, (1,)) / '(1,)type'.\n",
      "  _np_qint32 = np.dtype([(\"qint32\", np.int32, 1)])\n",
      "/usr/local/lib/python3.6/site-packages/tensorflow/python/framework/dtypes.py:532: FutureWarning: Passing (type, 1) or '1type' as a synonym of type is deprecated; in a future version of numpy, it will be understood as (type, (1,)) / '(1,)type'.\n",
      "  np_resource = np.dtype([(\"resource\", np.ubyte, 1)])\n",
      "Using TensorFlow backend.\n"
     ]
    }
   ],
   "source": [
    "%load_ext autoreload\n",
    "%autoreload 2\n",
    "\n",
    "import os\n",
    "import sys\n",
    "import random\n",
    "import math\n",
    "import re\n",
    "import time\n",
    "import numpy as np\n",
    "import cv2\n",
    "import matplotlib\n",
    "import matplotlib.pyplot as plt\n",
    "\n",
    "# Root directory of the project\n",
    "ROOT_DIR = os.path.abspath(\"../../\")\n",
    "\n",
    "# Import Mask RCNN\n",
    "sys.path.append(ROOT_DIR)  # To find local version of the library\n",
    "from mrcnn.config import Config\n",
    "from mrcnn import utils\n",
    "import mrcnn.model as modellib\n",
    "from mrcnn import visualize\n",
    "from mrcnn.model import log\n",
    "\n",
    "%matplotlib inline \n",
    "\n",
    "# Directory to save logs and trained model\n",
    "MODEL_DIR = os.path.join(ROOT_DIR, \"logs\")\n",
    "\n",
    "# Local path to trained weights file\n",
    "COCO_MODEL_PATH = os.path.join(ROOT_DIR, \"mask_rcnn_coco.h5\")\n",
    "# Download COCO trained weights from Releases if needed\n",
    "if not os.path.exists(COCO_MODEL_PATH):\n",
    "    utils.download_trained_weights(COCO_MODEL_PATH)\n",
    "    \n",
    "os.environ[\"CUDA_VISIBLE_DEVICES\"] = \"3\""
   ]
  },
  {
   "cell_type": "code",
   "execution_count": 17,
   "metadata": {},
   "outputs": [
    {
     "data": {
      "text/plain": [
       "'/home/marziehhaghighi/workspace_DL/Mask_RCNN/logs'"
      ]
     },
     "execution_count": 17,
     "metadata": {},
     "output_type": "execute_result"
    }
   ],
   "source": [
    "MODEL_DIR"
   ]
  },
  {
   "cell_type": "code",
   "execution_count": 2,
   "metadata": {},
   "outputs": [],
   "source": [
    "# import tensorflow as tf\n",
    "# tf.compat.v1.disable_eager_execution()"
   ]
  },
  {
   "cell_type": "code",
   "execution_count": 3,
   "metadata": {},
   "outputs": [],
   "source": [
    "# tf.compat.v1.disable_eager_execution()"
   ]
  },
  {
   "cell_type": "markdown",
   "metadata": {},
   "source": [
    "## Configurations"
   ]
  },
  {
   "cell_type": "code",
   "execution_count": 2,
   "metadata": {},
   "outputs": [
    {
     "name": "stdout",
     "output_type": "stream",
     "text": [
      "\n",
      "Configurations:\n",
      "BACKBONE                       resnet101\n",
      "BACKBONE_STRIDES               [4, 8, 16, 32, 64]\n",
      "BATCH_SIZE                     8\n",
      "BBOX_STD_DEV                   [0.1 0.1 0.2 0.2]\n",
      "COMPUTE_BACKBONE_SHAPE         None\n",
      "DETECTION_MAX_INSTANCES        100\n",
      "DETECTION_MIN_CONFIDENCE       0.7\n",
      "DETECTION_NMS_THRESHOLD        0.3\n",
      "FPN_CLASSIF_FC_LAYERS_SIZE     1024\n",
      "GPU_COUNT                      1\n",
      "GRADIENT_CLIP_NORM             5.0\n",
      "IMAGES_PER_GPU                 8\n",
      "IMAGE_CHANNEL_COUNT            3\n",
      "IMAGE_MAX_DIM                  1024\n",
      "IMAGE_META_SIZE                17\n",
      "IMAGE_MIN_DIM                  1024\n",
      "IMAGE_MIN_SCALE                0\n",
      "IMAGE_RESIZE_MODE              square\n",
      "IMAGE_SHAPE                    [1024 1024    3]\n",
      "LEARNING_MOMENTUM              0.9\n",
      "LEARNING_RATE                  0.001\n",
      "LOSS_WEIGHTS                   {'rpn_class_loss': 1.0, 'rpn_bbox_loss': 1.0, 'mrcnn_class_loss': 1.0, 'mrcnn_bbox_loss': 1.0, 'mrcnn_mask_loss': 1.0}\n",
      "MASK_POOL_SIZE                 14\n",
      "MASK_SHAPE                     [28, 28]\n",
      "MAX_GT_INSTANCES               100\n",
      "MEAN_PIXEL                     [123.7 116.8 103.9]\n",
      "MINI_MASK_SHAPE                (56, 56)\n",
      "NAME                           spots\n",
      "NUM_CLASSES                    5\n",
      "POOL_SIZE                      7\n",
      "POST_NMS_ROIS_INFERENCE        1000\n",
      "POST_NMS_ROIS_TRAINING         2000\n",
      "PRE_NMS_LIMIT                  6000\n",
      "ROI_POSITIVE_RATIO             0.33\n",
      "RPN_ANCHOR_RATIOS              [0.5, 1, 2]\n",
      "RPN_ANCHOR_SCALES              (8, 16, 32, 64, 128)\n",
      "RPN_ANCHOR_STRIDE              1\n",
      "RPN_BBOX_STD_DEV               [0.1 0.1 0.2 0.2]\n",
      "RPN_NMS_THRESHOLD              0.7\n",
      "RPN_TRAIN_ANCHORS_PER_IMAGE    256\n",
      "STEPS_PER_EPOCH                100\n",
      "TOP_DOWN_PYRAMID_SIZE          256\n",
      "TRAIN_BN                       False\n",
      "TRAIN_ROIS_PER_IMAGE           32\n",
      "USE_MINI_MASK                  True\n",
      "USE_RPN_ROIS                   True\n",
      "VALIDATION_STEPS               5\n",
      "WEIGHT_DECAY                   0.0001\n",
      "\n",
      "\n"
     ]
    }
   ],
   "source": [
    "class SpotsConfig(Config):\n",
    "    \"\"\"Configuration for training on the toy shapes dataset.\n",
    "    Derives from the base Config class and overrides values specific\n",
    "    to the toy shapes dataset.\n",
    "    \"\"\"\n",
    "    # Give the configuration a recognizable name\n",
    "    NAME = \"spots\"\n",
    "\n",
    "    # Train on 1 GPU and 8 images per GPU. We can put multiple images on each\n",
    "    # GPU because the images are small. Batch size is 8 (GPUs * images/GPU).\n",
    "    GPU_COUNT = 1\n",
    "    IMAGES_PER_GPU = 8\n",
    "\n",
    "    # Number of classes (including background)\n",
    "    NUM_CLASSES = 1 + 4  # background + 4 shapes\n",
    "\n",
    "    # Use small images for faster training. Set the limits of the small side\n",
    "    # the large side, and that determines the image shape.\n",
    "    IMAGE_MIN_DIM = 1024#128\n",
    "    IMAGE_MAX_DIM = 1024#128\n",
    "\n",
    "    # Use smaller anchors because our image and objects are small\n",
    "    RPN_ANCHOR_SCALES = (8, 16, 32, 64, 128)  # anchor side in pixels\n",
    "\n",
    "    # Reduce training ROIs per image because the images are small and have\n",
    "    # few objects. Aim to allow ROI sampling to pick 33% positive ROIs.\n",
    "    TRAIN_ROIS_PER_IMAGE = 32\n",
    "\n",
    "    # Use a small epoch since the data is simple\n",
    "    STEPS_PER_EPOCH = 100\n",
    "\n",
    "    # use small validation steps since the epoch is small\n",
    "    VALIDATION_STEPS = 5\n",
    "    \n",
    "config = SpotsConfig()\n",
    "config.display()"
   ]
  },
  {
   "cell_type": "code",
   "execution_count": 3,
   "metadata": {},
   "outputs": [
    {
     "name": "stdout",
     "output_type": "stream",
     "text": [
      "1.0\n",
      "-1.0\n"
     ]
    }
   ],
   "source": [
    "from sklearn.metrics.cluster import normalized_mutual_info_score\n",
    "from sklearn.metrics import matthews_corrcoef\n",
    "print(normalized_mutual_info_score([1, 1, 0, 0], [0, 0, 1, 1]))\n",
    "print(matthews_corrcoef([1, 1, 0, 0], [0, 0, 1, 1]))"
   ]
  },
  {
   "cell_type": "code",
   "execution_count": 29,
   "metadata": {},
   "outputs": [],
   "source": [
    "A=np.array([1, 4, 0, 0,5,0])\n",
    "B=np.array([1, 5, 0, 0])\n",
    "# A.shape\n",
    "# B=np.zeros(A.shape)"
   ]
  },
  {
   "cell_type": "code",
   "execution_count": 30,
   "metadata": {},
   "outputs": [
    {
     "data": {
      "text/plain": [
       "(array([0, 1, 4]), array([2, 3, 5]))"
      ]
     },
     "execution_count": 30,
     "metadata": {},
     "output_type": "execute_result"
    }
   ],
   "source": [
    "non_zero_ind=np.where(A!=0)[0]\n",
    "zero_ind=np.where(A==0)[0]\n",
    "non_zero_ind, zero_ind"
   ]
  },
  {
   "cell_type": "code",
   "execution_count": 32,
   "metadata": {},
   "outputs": [
    {
     "data": {
      "text/plain": [
       "array([1, 4, 5])"
      ]
     },
     "execution_count": 32,
     "metadata": {},
     "output_type": "execute_result"
    }
   ],
   "source": [
    "A1=A[A!=0]\n",
    "A1"
   ]
  },
  {
   "cell_type": "code",
   "execution_count": 33,
   "metadata": {},
   "outputs": [
    {
     "ename": "IndexError",
     "evalue": "index 7 is out of bounds for axis 0 with size 6",
     "output_type": "error",
     "traceback": [
      "\u001b[0;31m---------------------------------------------------------------------------\u001b[0m",
      "\u001b[0;31mIndexError\u001b[0m                                Traceback (most recent call last)",
      "\u001b[0;32m<ipython-input-33-8c0459457b41>\u001b[0m in \u001b[0;36m<module>\u001b[0;34m\u001b[0m\n\u001b[0;32m----> 1\u001b[0;31m \u001b[0mnp\u001b[0m\u001b[0;34m.\u001b[0m\u001b[0minsert\u001b[0m\u001b[0;34m(\u001b[0m\u001b[0mA1\u001b[0m\u001b[0;34m,\u001b[0m \u001b[0mzero_ind\u001b[0m\u001b[0;34m,\u001b[0m \u001b[0;36m0\u001b[0m\u001b[0;34m)\u001b[0m\u001b[0;34m\u001b[0m\u001b[0m\n\u001b[0m",
      "\u001b[0;32m<__array_function__ internals>\u001b[0m in \u001b[0;36minsert\u001b[0;34m(*args, **kwargs)\u001b[0m\n",
      "\u001b[0;32m~/.local/lib/python3.6/site-packages/numpy/lib/function_base.py\u001b[0m in \u001b[0;36minsert\u001b[0;34m(arr, obj, values, axis)\u001b[0m\n\u001b[1;32m   4620\u001b[0m     \u001b[0mnewshape\u001b[0m\u001b[0;34m[\u001b[0m\u001b[0maxis\u001b[0m\u001b[0;34m]\u001b[0m \u001b[0;34m+=\u001b[0m \u001b[0mnumnew\u001b[0m\u001b[0;34m\u001b[0m\u001b[0m\n\u001b[1;32m   4621\u001b[0m     \u001b[0mold_mask\u001b[0m \u001b[0;34m=\u001b[0m \u001b[0mones\u001b[0m\u001b[0;34m(\u001b[0m\u001b[0mnewshape\u001b[0m\u001b[0;34m[\u001b[0m\u001b[0maxis\u001b[0m\u001b[0;34m]\u001b[0m\u001b[0;34m,\u001b[0m \u001b[0mdtype\u001b[0m\u001b[0;34m=\u001b[0m\u001b[0mbool\u001b[0m\u001b[0;34m)\u001b[0m\u001b[0;34m\u001b[0m\u001b[0m\n\u001b[0;32m-> 4622\u001b[0;31m     \u001b[0mold_mask\u001b[0m\u001b[0;34m[\u001b[0m\u001b[0mindices\u001b[0m\u001b[0;34m]\u001b[0m \u001b[0;34m=\u001b[0m \u001b[0;32mFalse\u001b[0m\u001b[0;34m\u001b[0m\u001b[0m\n\u001b[0m\u001b[1;32m   4623\u001b[0m \u001b[0;34m\u001b[0m\u001b[0m\n\u001b[1;32m   4624\u001b[0m     \u001b[0mnew\u001b[0m \u001b[0;34m=\u001b[0m \u001b[0mempty\u001b[0m\u001b[0;34m(\u001b[0m\u001b[0mnewshape\u001b[0m\u001b[0;34m,\u001b[0m \u001b[0marr\u001b[0m\u001b[0;34m.\u001b[0m\u001b[0mdtype\u001b[0m\u001b[0;34m,\u001b[0m \u001b[0marrorder\u001b[0m\u001b[0;34m)\u001b[0m\u001b[0;34m\u001b[0m\u001b[0m\n",
      "\u001b[0;31mIndexError\u001b[0m: index 7 is out of bounds for axis 0 with size 6"
     ]
    }
   ],
   "source": [
    "np.insert(A1, zero_ind, 0)"
   ]
  },
  {
   "cell_type": "code",
   "execution_count": 3,
   "metadata": {},
   "outputs": [],
   "source": [
    "# import sklearn\n",
    "# sklearn.metrics.consensus_score(A, B)"
   ]
  },
  {
   "cell_type": "code",
   "execution_count": 19,
   "metadata": {},
   "outputs": [
    {
     "data": {
      "text/plain": [
       "0.25"
      ]
     },
     "execution_count": 19,
     "metadata": {},
     "output_type": "execute_result"
    }
   ],
   "source": [
    "A=[1, 4, 0, 0]\n",
    "B=[1, 5, 0, 0]\n",
    "from sklearn.neighbors import DistanceMetric\n",
    "dist = DistanceMetric.get_metric('hamming')\n",
    "X = [A,B]\n",
    "dist.pairwise(X)[0,1]"
   ]
  },
  {
   "cell_type": "code",
   "execution_count": 44,
   "metadata": {},
   "outputs": [
    {
     "data": {
      "text/plain": [
       "array([[0. , 0.5],\n",
       "       [0.5, 0. ]])"
      ]
     },
     "execution_count": 44,
     "metadata": {},
     "output_type": "execute_result"
    }
   ],
   "source": [
    "dist.pairwise(X)"
   ]
  },
  {
   "cell_type": "code",
   "execution_count": 10,
   "metadata": {},
   "outputs": [
    {
     "data": {
      "text/plain": [
       "array([23, 34, 36])"
      ]
     },
     "execution_count": 10,
     "metadata": {},
     "output_type": "execute_result"
    }
   ],
   "source": [
    "a = np.array([1,2,3])\n",
    "my_dict = {1:23, 2:34, 3:36, 4:45}\n",
    "np.vectorize(my_dict.get)(a)\n"
   ]
  },
  {
   "cell_type": "code",
   "execution_count": 42,
   "metadata": {},
   "outputs": [
    {
     "data": {
      "text/plain": [
       "[[1, 2, 0, 0], [0, 0, 0, 0]]"
      ]
     },
     "execution_count": 42,
     "metadata": {},
     "output_type": "execute_result"
    }
   ],
   "source": [
    "dist.dist_to_rdist(X)"
   ]
  },
  {
   "cell_type": "code",
   "execution_count": 31,
   "metadata": {},
   "outputs": [
    {
     "name": "stderr",
     "output_type": "stream",
     "text": [
      "/usr/local/lib/python3.6/site-packages/sklearn/metrics/classification.py:538: RuntimeWarning: invalid value encountered in double_scalars\n",
      "  mcc = cov_ytyp / np.sqrt(cov_ytyt * cov_ypyp)\n"
     ]
    },
    {
     "data": {
      "text/plain": [
       "0.0"
      ]
     },
     "execution_count": 31,
     "metadata": {},
     "output_type": "execute_result"
    }
   ],
   "source": [
    "matthews_corrcoef([1, 2, 0, 0], [0, 0, 0, 0])"
   ]
  },
  {
   "cell_type": "markdown",
   "metadata": {},
   "source": [
    "## Notebook Preferences"
   ]
  },
  {
   "cell_type": "code",
   "execution_count": 3,
   "metadata": {},
   "outputs": [],
   "source": [
    "def get_ax(rows=1, cols=1, size=8):\n",
    "    \"\"\"Return a Matplotlib Axes array to be used in\n",
    "    all visualizations in the notebook. Provide a\n",
    "    central point to control graph sizes.\n",
    "    \n",
    "    Change the default size attribute to control the size\n",
    "    of rendered images\n",
    "    \"\"\"\n",
    "    _, ax = plt.subplots(rows, cols, figsize=(size*cols, size*rows))\n",
    "    return ax"
   ]
  },
  {
   "cell_type": "markdown",
   "metadata": {},
   "source": [
    "## Dataset\n",
    "\n",
    "Create a synthetic dataset\n",
    "\n",
    "Extend the Dataset class and add a method to load the shapes dataset, `load_shapes()`, and override the following methods:\n",
    "\n",
    "* load_image()\n",
    "* load_mask()\n",
    "* image_reference()"
   ]
  },
  {
   "cell_type": "code",
   "execution_count": 4,
   "metadata": {},
   "outputs": [],
   "source": [
    "class ShapesDataset(utils.Dataset):\n",
    "    \"\"\"Generates the shapes synthetic dataset. The dataset consists of simple\n",
    "    shapes (triangles, squares, circles) placed randomly on a blank surface.\n",
    "    The images are generated on the fly. No file access required.\n",
    "    \"\"\"\n",
    "\n",
    "    def load_shapes(self, count, height, width):\n",
    "        \"\"\"Generate the requested number of synthetic images.\n",
    "        count: number of images to generate.\n",
    "        height, width: the size of the generated images.\n",
    "        \"\"\"\n",
    "        # Add classes\n",
    "        self.add_class(\"shapes\", 1, \"square\")\n",
    "        self.add_class(\"shapes\", 2, \"circle\")\n",
    "        self.add_class(\"shapes\", 3, \"triangle\")\n",
    "        self.add_class(\"shapes\", 4, \"ellipse\")\n",
    "\n",
    "        # Add images\n",
    "        # Generate random specifications of images (i.e. color and\n",
    "        # list of shapes sizes and locations). This is more compact than\n",
    "        # actual images. Images are generated on the fly in load_image().\n",
    "        for i in range(count):\n",
    "            bg_color, shapes = self.random_image(height, width)\n",
    "            self.add_image(\"shapes\", image_id=i, path=None,\n",
    "                           width=width, height=height,\n",
    "                           bg_color=bg_color, shapes=shapes)\n",
    "            \n",
    "    def load_image(self, image_id):\n",
    "        \"\"\"Generate an image from the specs of the given image ID.\n",
    "        Typically this function loads the image from a file, but\n",
    "        in this case it generates the image on the fly from the\n",
    "        specs in image_info.\n",
    "        \"\"\"\n",
    "        info = self.image_info[image_id]\n",
    "        bg_color = np.array(info['bg_color']).reshape([1, 1, 3])\n",
    "        image = np.ones([info['height'], info['width'], 3], dtype=np.uint8)\n",
    "        image = image * bg_color.astype(np.uint8)\n",
    "        for shape, color, dims in info['shapes']:\n",
    "            image = self.draw_shape(image, shape, dims, color)\n",
    "        return image\n",
    "\n",
    "    def image_reference(self, image_id):\n",
    "        \"\"\"Return the shapes data of the image.\"\"\"\n",
    "        info = self.image_info[image_id]\n",
    "        if info[\"source\"] == \"shapes\":\n",
    "            return info[\"shapes\"]\n",
    "        else:\n",
    "            super(self.__class__).image_reference(self, image_id)\n",
    "\n",
    "    def load_mask(self, image_id):\n",
    "        \"\"\"Generate instance masks for shapes of the given image ID.\n",
    "        \"\"\"\n",
    "        info = self.image_info[image_id]\n",
    "        shapes = info['shapes']\n",
    "        count = len(shapes)\n",
    "        mask = np.zeros([info['height'], info['width'], count], dtype=np.uint8)\n",
    "        for i, (shape, _, dims) in enumerate(info['shapes']):\n",
    "            mask[:, :, i:i+1] = self.draw_shape(mask[:, :, i:i+1].copy(),\n",
    "                                                shape, dims, 1)\n",
    "        # Handle occlusions\n",
    "        occlusion = np.logical_not(mask[:, :, -1]).astype(np.uint8)\n",
    "        for i in range(count-2, -1, -1):\n",
    "            mask[:, :, i] = mask[:, :, i] * occlusion\n",
    "            occlusion = np.logical_and(occlusion, np.logical_not(mask[:, :, i]))\n",
    "        # Map class names to class IDs.\n",
    "        class_ids = np.array([self.class_names.index(s[0]) for s in shapes])\n",
    "        return mask.astype(np.bool), class_ids.astype(np.int32)\n",
    "\n",
    "    def draw_shape(self, image, shape, dims, color):\n",
    "        \"\"\"Draws a shape from the given specs.\"\"\"\n",
    "        # Get the center x, y and the size s\n",
    "        x, y, s = dims\n",
    "        if shape == 'square':\n",
    "            cv2.rectangle(image, (x-s, y-s), (x+s, y+s), color, -1)\n",
    "        elif shape == \"circle\":\n",
    "            cv2.circle(image, (x, y), s, color, -1)\n",
    "        elif shape == \"triangle\":\n",
    "            points = np.array([[(x, y-s),\n",
    "                                (x-s/math.sin(math.radians(60)), y+s),\n",
    "                                (x+s/math.sin(math.radians(60)), y+s),\n",
    "                                ]], dtype=np.int32)\n",
    "            cv2.fillPoly(image, points, color)\n",
    "        elif shape == \"ellipse\":\n",
    "#             cv2.ellipse(mask, (x, y), (ax, ay), angle, 0, 360, 255, -1)\n",
    "            cv2.ellipse(image, (x, y), (s,2*s),45,0, 360, color, -1)\n",
    "            \n",
    "            \n",
    "        return image\n",
    "\n",
    "    def random_shape(self, height, width):\n",
    "        \"\"\"Generates specifications of a random shape that lies within\n",
    "        the given height and width boundaries.\n",
    "        Returns a tuple of three valus:\n",
    "        * The shape name (square, circle, ...)\n",
    "        * Shape color: a tuple of 3 values, RGB.\n",
    "        * Shape dimensions: A tuple of values that define the shape size\n",
    "                            and location. Differs per shape type.\n",
    "        \"\"\"\n",
    "        # Shape\n",
    "        shape = random.choice([\"square\", \"circle\", \"triangle\", \"ellipse\"])\n",
    "#         shape = random.choice([\"square\", \"circle\"])\n",
    "        # Color\n",
    "        color = tuple([random.randint(0, 255) for _ in range(3)])\n",
    "        # Center x, y\n",
    "        buffer = 20\n",
    "        y = random.randint(buffer, height - buffer - 1)\n",
    "        x = random.randint(buffer, width - buffer - 1)\n",
    "        # Size\n",
    "#         s = random.randint(buffer, height//4)\n",
    "        s = random.randint(buffer, int(height//20))\n",
    "        return shape, color, (x, y, s)\n",
    "    \n",
    "\n",
    "    def random_image(self, height, width):\n",
    "        \"\"\"Creates random specifications of an image with multiple shapes.\n",
    "        Returns the background color of the image and a list of shape\n",
    "        specifications that can be used to draw the image.\n",
    "        \"\"\"\n",
    "        # Pick random background color\n",
    "        bg_color = np.array([random.randint(0, 255) for _ in range(3)])\n",
    "        # Generate a few random shapes and record their\n",
    "        # bounding boxes\n",
    "        shapes = []\n",
    "        boxes = []\n",
    "        N = random.randint(10, 30)\n",
    "        for _ in range(N):\n",
    "            shape, color, dims = self.random_shape(height, width)\n",
    "            shapes.append((shape, color, dims))\n",
    "            x, y, s = dims\n",
    "            boxes.append([y-s, x-s, y+s, x+s])\n",
    "        # Apply non-max suppression wit 0.3 threshold to avoid\n",
    "        # shapes covering each other\n",
    "        keep_ixs = utils.non_max_suppression(np.array(boxes), np.arange(N), 0.3)\n",
    "        shapes = [s for i, s in enumerate(shapes) if i in keep_ixs]\n",
    "        return bg_color, shapes"
   ]
  },
  {
   "cell_type": "code",
   "execution_count": 5,
   "metadata": {},
   "outputs": [],
   "source": [
    "# Training dataset\n",
    "dataset_train = ShapesDataset()\n",
    "dataset_train.load_shapes(500, config.IMAGE_SHAPE[0], config.IMAGE_SHAPE[1])\n",
    "dataset_train.prepare()\n",
    "\n",
    "# Validation dataset\n",
    "dataset_val = ShapesDataset()\n",
    "dataset_val.load_shapes(50, config.IMAGE_SHAPE[0], config.IMAGE_SHAPE[1])\n",
    "dataset_val.prepare()"
   ]
  },
  {
   "cell_type": "code",
   "execution_count": 22,
   "metadata": {},
   "outputs": [],
   "source": [
    "# dataset_val.image_ids"
   ]
  },
  {
   "cell_type": "code",
   "execution_count": 28,
   "metadata": {},
   "outputs": [
    {
     "data": {
      "text/plain": [
       "{'': [0], 'shapes': [0, 1, 2, 3]}"
      ]
     },
     "execution_count": 28,
     "metadata": {},
     "output_type": "execute_result"
    }
   ],
   "source": [
    "dataset_val.source_class_ids"
   ]
  },
  {
   "cell_type": "code",
   "execution_count": 24,
   "metadata": {},
   "outputs": [
    {
     "data": {
      "text/plain": [
       "{'.0': 0, 'shapes.1': 1, 'shapes.2': 2, 'shapes.3': 3}"
      ]
     },
     "execution_count": 24,
     "metadata": {},
     "output_type": "execute_result"
    }
   ],
   "source": [
    "dataset_train.class_from_source_map"
   ]
  },
  {
   "cell_type": "code",
   "execution_count": null,
   "metadata": {},
   "outputs": [],
   "source": []
  },
  {
   "cell_type": "code",
   "execution_count": null,
   "metadata": {},
   "outputs": [],
   "source": []
  },
  {
   "cell_type": "code",
   "execution_count": 6,
   "metadata": {},
   "outputs": [
    {
     "data": {
      "image/png": "[encoded data removed]",
      "text/plain": [
       "<matplotlib.figure.Figure at 0x7fc48d52f470>"
      ]
     },
     "metadata": {
      "needs_background": "light"
     },
     "output_type": "display_data"
    },
    {
     "data": {
      "image/png": "[encoded data removed]",
      "text/plain": [
       "<matplotlib.figure.Figure at 0x7fc39faa8978>"
      ]
     },
     "metadata": {
      "needs_background": "light"
     },
     "output_type": "display_data"
    },
    {
     "data": {
      "image/png": "[encoded data removed]",
      "text/plain": [
       "<matplotlib.figure.Figure at 0x7fc39f8fc588>"
      ]
     },
     "metadata": {
      "needs_background": "light"
     },
     "output_type": "display_data"
    },
    {
     "data": {
      "image/png": "[encoded data removed]",
      "text/plain": [
       "<matplotlib.figure.Figure at 0x7fc39fa6aa58>"
      ]
     },
     "metadata": {
      "needs_background": "light"
     },
     "output_type": "display_data"
    }
   ],
   "source": [
    "# Load and display random samples\n",
    "image_ids = np.random.choice(dataset_train.image_ids, 4)\n",
    "for image_id in image_ids:\n",
    "    image = dataset_train.load_image(image_id)\n",
    "    mask, class_ids = dataset_train.load_mask(image_id)\n",
    "    visualize.display_top_masks(image, mask, class_ids, dataset_train.class_names)"
   ]
  },
  {
   "cell_type": "markdown",
   "metadata": {},
   "source": [
    "## Create Model"
   ]
  },
  {
   "cell_type": "code",
   "execution_count": 7,
   "metadata": {},
   "outputs": [
    {
     "name": "stdout",
     "output_type": "stream",
     "text": [
      "gt_class_ids Tensor(\"input_gt_class_ids:0\", shape=(?, ?), dtype=int32)\n",
      "target_class_ids Tensor(\"proposal_targets/target_class_ids:0\", shape=(8, ?), dtype=int32)\n",
      "gt_class_ids Tensor(\"input_gt_class_ids:0\", shape=(?, ?), dtype=int32)\n",
      "target_class_ids Tensor(\"proposal_targets/target_class_ids:0\", shape=(8, ?), dtype=int32)\n",
      "shared Tensor(\"pool_squeeze/Squeeze_1:0\", shape=(?, 32, 1024), dtype=float32)\n",
      "mrcnn_class_logits Tensor(\"mrcnn_class_logits/Reshape_1:0\", shape=(?, 32, 5), dtype=float32)\n",
      "mrcnn_class_logits Tensor(\"mrcnn_class_logits/Reshape_1:0\", shape=(?, 32, 5), dtype=float32)\n",
      "mrcnn_class Tensor(\"mrcnn_class/Reshape_1:0\", shape=(?, 32, 5), dtype=float32)\n",
      "pred_class_logits Tensor(\"mrcnn_class_logits/Reshape_1:0\", shape=(?, 32, 5), dtype=float32)\n",
      "pred_class_ids (?, 32)\n",
      "target_class_ids (8, ?)\n",
      "pred_class_logits Tensor(\"mrcnn_class_loss/Placeholder_1:0\", shape=(?, 32, 5), dtype=float32)\n",
      "pred_class_ids (?, 32)\n",
      "target_class_ids (?, 32)\n"
     ]
    }
   ],
   "source": [
    "# Create model in training mode\n",
    "config.head='def'\n",
    "config.assign_label_mode =\"classification\"#\"clustering\",\"classification\"\n",
    "model = modellib.MaskRCNN(mode=\"training\", config=config,\n",
    "                          model_dir=MODEL_DIR)"
   ]
  },
  {
   "cell_type": "code",
   "execution_count": 10,
   "metadata": {},
   "outputs": [
    {
     "name": "stdout",
     "output_type": "stream",
     "text": [
      "gt_class_ids Tensor(\"input_gt_class_ids_1:0\", shape=(?, ?), dtype=int32)\n",
      "target_class_ids Tensor(\"proposal_targets_1/target_class_ids:0\", shape=(8, ?), dtype=int32)\n",
      "gt_class_ids Tensor(\"input_gt_class_ids_1:0\", shape=(?, ?), dtype=int32)\n",
      "target_class_ids Tensor(\"proposal_targets_1/target_class_ids:0\", shape=(8, ?), dtype=int32)\n",
      "shared Tensor(\"pool_squeeze_1/Squeeze_1:0\", shape=(?, 32, 1024), dtype=float32)\n",
      "pred_class_ids Tensor(\"pred_4_lambda_layer_1:0\", shape=(?, 32), dtype=int64)\n",
      "clustering_labels Tensor(\"lambda_layer_1/kmeansclus:0\", shape=(?, 32), dtype=int32)\n",
      "mrcnn_class_logits Tensor(\"mrcnn_class_logits_1/Reshape_1:0\", shape=(?, 32, 5), dtype=float32)\n",
      "mrcnn_class Tensor(\"mrcnn_class_1/Reshape_1:0\", shape=(?, 32, 5), dtype=float32)\n",
      "pred_class_logits Tensor(\"mrcnn_class_logits_1/Reshape_1:0\", shape=(?, 32, 5), dtype=float32)\n",
      "pred_class_ids (?, 32)\n",
      "target_class_ids (?, 32)\n",
      "pred_class_logits Tensor(\"mrcnn_class_loss_1/Placeholder_1:0\", shape=(?, 32, 5), dtype=float32)\n",
      "pred_class_ids (?, 32)\n",
      "target_class_ids (?, 32)\n"
     ]
    }
   ],
   "source": [
    "# Create model in training mode\n",
    "config.head='def'\n",
    "config.assign_label_mode =\"clustering\"#\"clustering\",\"classification\"\n",
    "model = modellib.MaskRCNN(mode=\"training\", config=config,\n",
    "                          model_dir=MODEL_DIR)"
   ]
  },
  {
   "cell_type": "code",
   "execution_count": 29,
   "metadata": {},
   "outputs": [
    {
     "data": {
      "text/plain": [
       "(5, 4)"
      ]
     },
     "execution_count": 29,
     "metadata": {},
     "output_type": "execute_result"
    }
   ],
   "source": [
    "from sklearn import preprocessing\n",
    "lb = preprocessing.LabelBinarizer()\n",
    "lb.fit_transform([3,2,4,3,10]).shape"
   ]
  },
  {
   "cell_type": "code",
   "execution_count": 11,
   "metadata": {
    "scrolled": false
   },
   "outputs": [],
   "source": [
    "# Which weights to start with?\n",
    "init_with = \"coco\"  # imagenet, coco, or last\n",
    "\n",
    "if init_with == \"imagenet\":\n",
    "    model.load_weights(model.get_imagenet_weights(), by_name=True)\n",
    "elif init_with == \"coco\":\n",
    "    # Load weights trained on MS COCO, but skip layers that\n",
    "    # are different due to the different number of classes\n",
    "    # See README for instructions to download the COCO weights\n",
    "    model.load_weights(COCO_MODEL_PATH, by_name=True,\n",
    "                       exclude=[\"mrcnn_class_logits\", \"mrcnn_bbox_fc\", \n",
    "                                \"mrcnn_bbox\", \"mrcnn_mask\"])\n",
    "elif init_with == \"last\":\n",
    "    # Load the last model you trained and continue training\n",
    "    model.load_weights(model.find_last(), by_name=True)"
   ]
  },
  {
   "cell_type": "code",
   "execution_count": 17,
   "metadata": {},
   "outputs": [
    {
     "data": {
      "text/plain": [
       "0.001"
      ]
     },
     "execution_count": 17,
     "metadata": {},
     "output_type": "execute_result"
    }
   ],
   "source": [
    "# Checkpoint Path:  /deepmatter/mask_rcnn/logs/shapes2017102802/mask_rcnn_{epoch:04d}.h5\n",
    "dataset_train."
   ]
  },
  {
   "cell_type": "markdown",
   "metadata": {},
   "source": [
    "## Training\n",
    "\n",
    "Train in two stages:\n",
    "1. Only the heads. Here we're freezing all the backbone layers and training only the randomly initialized layers (i.e. the ones that we didn't use pre-trained weights from MS COCO). To train only the head layers, pass `layers='heads'` to the `train()` function.\n",
    "\n",
    "2. Fine-tune all layers. For this simple example it's not necessary, but we're including it to show the process. Simply pass `layers=\"all` to train all layers."
   ]
  },
  {
   "cell_type": "code",
   "execution_count": null,
   "metadata": {
    "scrolled": true
   },
   "outputs": [
    {
     "name": "stdout",
     "output_type": "stream",
     "text": [
      "\n",
      "Starting at epoch 0. LR=0.001\n",
      "\n",
      "Checkpoint Path: /home/marziehhaghighi/workspace_DL/Mask_RCNN/logs/spots20200603T1947/mask_rcnn_spots_{epoch:04d}.h5\n",
      "Selecting layers to train\n",
      "fpn_c5p5               (Conv2D)\n",
      "fpn_c4p4               (Conv2D)\n",
      "fpn_c3p3               (Conv2D)\n",
      "fpn_c2p2               (Conv2D)\n",
      "fpn_p5                 (Conv2D)\n",
      "fpn_p2                 (Conv2D)\n",
      "fpn_p3                 (Conv2D)\n",
      "fpn_p4                 (Conv2D)\n",
      "In model:  rpn_model\n",
      "    rpn_conv_shared        (Conv2D)\n",
      "    rpn_class_raw          (Conv2D)\n",
      "    rpn_bbox_pred          (Conv2D)\n",
      "mrcnn_mask_conv1       (TimeDistributed)\n",
      "mrcnn_mask_bn1         (TimeDistributed)\n",
      "mrcnn_mask_conv2       (TimeDistributed)\n",
      "mrcnn_mask_bn2         (TimeDistributed)\n",
      "mrcnn_class_conv1      (TimeDistributed)\n",
      "mrcnn_class_bn1        (TimeDistributed)\n",
      "mrcnn_mask_conv3       (TimeDistributed)\n",
      "mrcnn_mask_bn3         (TimeDistributed)\n",
      "mrcnn_class_conv2      (TimeDistributed)\n",
      "mrcnn_class_bn2        (TimeDistributed)\n",
      "mrcnn_mask_conv4       (TimeDistributed)\n",
      "mrcnn_mask_bn4         (TimeDistributed)\n",
      "mrcnn_bbox_fc          (TimeDistributed)\n",
      "mrcnn_mask_deconv      (TimeDistributed)\n",
      "mrcnn_class_logits     (TimeDistributed)\n",
      "mrcnn_mask             (TimeDistributed)\n",
      "Epoch 1/1\n",
      "[0 1 2 3 4] 2\n",
      "map_dict {2: 0, 0: 1, 1: 4, 3: 2, 4: 3}\n",
      "reassigned_labels [3 3 3 3 2 2 3 3 3 2 0 0 0 0 0 0 0 0 0 0 0 4 4 2 0 1 1 4 0 1 0 0 4 3 4 2 1\n",
      " 3 4 4 3 3 1 0 0 1 3 1 1 3 0 0 1 1 0 1 1 1 1 1 0 0 0 0 2 2 2 1 2 2 2 3 2 1\n",
      " 0 0 1 0 1 1 0 0 0 0 1 1 0 1 0 0 0 1 4 0 0 0 3 4 0 4 3 3 2 3 4 4 4 4 4 0 0\n",
      " 2 0 0 4 4 1 2 4 4 4 0 4 0 0 1 0 0 2 3 0 3 2 3 0 0 3 2 0 0 0 0 0 0 0 0 0 1\n",
      " 0 0 1 1 0 1 1 0 1 1 0 0 3 2 3 2 3 2 3 2 3 2 0 0 1 0 0 1 1 0 0 0 0 1 4 1 1\n",
      " 0 0 0 0 0 0 0 2 2 3 2 3 3 3 3 3 2 1 0 0 0 0 0 0 1 0 1 0 1 1 0 0 2 0 1 1 1\n",
      " 0 0 3 3 3 3 3 3 3 3 2 3 1 0 1 0 0 1 0 0 0 0 0 0 0 0 3 0 0 1 4 0 0 0]\n",
      "gt_ids [[4 4 4 4 2 2 4 4 4 2 0 0 0 0 0 0 0 0 0 0 0 0 0 0 0 0 0 0 0 0 0 0]\n",
      " [4 4 4 4 4 4 4 4 4 4 0 0 0 0 0 0 0 0 0 0 0 0 0 0 0 0 0 0 0 0 0 0]\n",
      " [2 2 2 2 2 2 2 4 2 2 0 0 0 0 0 0 0 0 0 0 0 0 0 0 0 0 0 0 0 0 0 0]\n",
      " [4 3 3 3 4 4 2 4 3 3 0 0 0 0 0 0 0 0 0 0 0 0 0 0 0 0 0 0 0 0 0 0]\n",
      " [2 4 3 4 2 4 1 1 4 2 0 0 0 0 0 0 0 0 0 0 0 0 0 0 0 0 0 0 0 0 0 0]\n",
      " [4 3 4 2 4 2 2 2 2 2 0 0 0 0 0 0 0 0 0 0 0 0 0 0 0 0 0 0 0 0 0 0]\n",
      " [2 2 4 2 4 4 4 4 4 4 0 0 0 0 0 0 0 0 0 0 0 0 0 0 0 0 0 0 0 0 0 0]\n",
      " [4 4 4 4 4 4 4 4 2 4 0 0 0 0 0 0 0 0 0 0 0 0 0 0 0 0 0 0 0 0 0 0]]\n",
      "  1/100 [..............................] - ETA: 5:00:18 - loss: 11.0787 - rpn_class_loss: 0.6132 - rpn_bbox_loss: 1.8223 - mrcnn_class_loss: 4.2130 - mrcnn_bbox_loss: 2.3379 - mrcnn_mask_loss: 2.0923[0 1 2 3 4] 4\n",
      "map_dict {4: 0, 0: 4, 1: 1, 2: 3, 3: 2}\n",
      "reassigned_labels [1 3 1 3 1 3 3 1 3 3 0 2 0 4 0 0 0 4 2 2 0 0 0 2 0 4 2 4 0 2 0 0 3 1 3 1 2\n",
      " 3 2 1 3 2 0 2 0 4 2 0 4 2 0 4 0 2 0 2 0 4 0 0 0 0 0 0 1 1 2 1 1 3 3 1 3 1\n",
      " 2 0 4 0 4 0 0 2 0 0 0 0 4 0 0 0 4 1 2 2 0 0 3 3 1 1 3 1 3 1 3 3 4 4 2 4 0\n",
      " 0 0 1 0 2 4 0 0 4 2 4 1 0 4 0 0 0 3 3 1 0 0 3 1 3 1 3 2 0 4 2 4 3 0 0 2 2\n",
      " 4 0 0 0 2 2 4 0 2 4 0 0 1 3 1 3 1 1 3 1 1 3 2 4 0 0 0 0 0 4 0 0 2 4 0 0 2\n",
      " 0 0 0 0 0 0 0 1 1 1 1 3 3 3 1 1 3 0 0 2 0 1 0 0 0 2 0 4 0 0 0 4 4 0 0 4 0\n",
      " 0 0 3 1 3 3 3 3 3 3 1 3 0 4 0 0 0 0 2 0 0 0 0 0 4 4 2 0 2 0 1 4 0 0]\n",
      "gt_ids [[2 4 4 4 4 4 4 3 4 4 0 0 0 0 0 0 0 0 0 0 0 0 0 0 0 0 0 0 0 0 0 0]\n",
      " [4 4 4 2 4 4 4 2 4 4 0 0 0 0 0 0 0 0 0 0 0 0 0 0 0 0 0 0 0 0 0 0]\n",
      " [2 2 2 2 2 4 4 2 4 2 0 0 0 0 0 0 0 0 0 0 0 0 0 0 0 0 0 0 0 0 0 0]\n",
      " [4 4 2 3 4 3 4 3 4 4 0 0 0 0 0 0 0 0 0 0 0 0 0 0 0 0 0 0 0 0 0 0]\n",
      " [4 4 3 1 1 4 2 4 2 4 0 0 0 0 0 0 0 0 0 0 0 0 0 0 0 0 0 0 0 0 0 0]\n",
      " [3 4 2 4 2 2 4 2 2 4 0 0 0 0 0 0 0 0 0 0 0 0 0 0 0 0 0 0 0 0 0 0]\n",
      " [4 4 2 4 4 4 4 2 4 4 0 0 0 0 0 0 0 0 0 0 0 0 0 0 0 0 0 0 0 0 0 0]\n",
      " [4 2 4 4 4 4 4 4 2 4 0 0 0 0 0 0 0 0 0 0 0 0 0 0 0 0 0 0 0 0 0 0]]\n",
      "  2/100 [..............................] - ETA: 2:33:37 - loss: 9.8784 - rpn_class_loss: 0.6115 - rpn_bbox_loss: 1.8121 - mrcnn_class_loss: 3.7551 - mrcnn_bbox_loss: 2.2413 - mrcnn_mask_loss: 1.4585 [0 1 2 3 4] 1\n",
      "map_dict {1: 0, 0: 4, 2: 1, 3: 3, 4: 2}\n",
      "reassigned_labels [1 3 2 3 3 1 3 1 3 3 4 2 0 2 2 1 2 4 3 0 4 1 0 2 2 0 0 2 0 0 0 0 3 0 2 1 3\n",
      " 1 3 3 4 2 2 0 1 2 2 2 2 2 0 4 0 0 0 2 2 2 0 0 0 2 0 0 3 1 1 1 1 2 1 1 2 1\n",
      " 4 4 0 2 0 4 0 2 0 0 4 2 0 1 0 0 0 4 0 0 0 0 3 3 1 3 2 1 3 3 3 1 4 1 4 4 0\n",
      " 0 0 4 0 2 4 0 2 0 0 4 0 0 4 2 0 0 3 3 1 3 1 1 3 2 3 3 0 0 2 4 1 2 0 2 4 0\n",
      " 0 2 2 2 0 2 2 4 4 1 0 0 1 1 1 3 3 1 3 3 1 3 0 4 2 0 0 4 0 2 0 0 0 2 4 2 0\n",
      " 4 4 0 2 4 0 0 1 3 3 1 1 3 3 1 3 3 2 0 0 2 2 0 4 0 2 4 0 2 2 2 0 2 2 2 0 2\n",
      " 0 0 3 3 1 1 3 3 3 3 3 3 2 1 1 2 2 0 0 2 3 2 2 0 2 2 0 0 4 0 0 3 0 0]\n",
      "gt_ids [[4 4 2 4 4 2 4 2 4 4 0 0 0 0 0 0 0 0 0 0 0 0 0 0 0 0 0 0 0 0 0 0]\n",
      " [4 3 4 2 4 4 4 4 4 4 0 0 0 0 0 0 0 0 0 0 0 0 0 0 0 0 0 0 0 0 0 0]\n",
      " [4 2 2 3 2 2 2 2 2 2 0 0 0 0 0 0 0 0 0 0 0 0 0 0 0 0 0 0 0 0 0 0]\n",
      " [4 4 3 4 2 3 4 4 4 3 0 0 0 0 0 0 0 0 0 0 0 0 0 0 0 0 0 0 0 0 0 0]\n",
      " [4 4 1 4 2 2 4 2 4 4 0 0 0 0 0 0 0 0 0 0 0 0 0 0 0 0 0 0 0 0 0 0]\n",
      " [2 3 2 4 4 2 4 4 2 4 0 0 0 0 0 0 0 0 0 0 0 0 0 0 0 0 0 0 0 0 0 0]\n",
      " [2 4 4 4 4 4 4 2 4 4 0 0 0 0 0 0 0 0 0 0 0 0 0 0 0 0 0 0 0 0 0 0]\n",
      " [4 4 2 3 4 4 4 4 4 4 0 0 0 0 0 0 0 0 0 0 0 0 0 0 0 0 0 0 0 0 0 0]]\n",
      "  3/100 [..............................] - ETA: 1:43:19 - loss: 9.1952 - rpn_class_loss: 0.6085 - rpn_bbox_loss: 1.7945 - mrcnn_class_loss: 3.3536 - mrcnn_bbox_loss: 2.1544 - mrcnn_mask_loss: 1.2841[0 1 2 3 4] 1\n",
      "map_dict {1: 0, 0: 1, 2: 3, 3: 4, 4: 2}\n",
      "reassigned_labels [3 3 3 3 3 3 3 3 3 3 0 2 0 1 0 1 0 1 0 4 0 0 3 0 1 2 0 0 0 0 0 0 3 3 3 3 3\n",
      " 4 4 1 3 3 0 0 0 4 1 4 4 4 0 4 4 0 0 1 4 1 0 2 4 2 0 0 4 3 3 4 3 3 3 2 1 3\n",
      " 0 4 0 2 0 2 4 1 2 4 0 4 0 4 4 1 0 0 0 0 0 0 3 3 2 3 2 3 3 3 2 2 0 0 0 2 0\n",
      " 0 4 2 0 0 2 2 2 0 0 0 2 0 4 0 0 0 2 3 2 1 3 2 2 2 2 1 0 4 0 0 4 4 1 4 0 4\n",
      " 4 0 0 0 2 0 4 4 0 0 0 0 3 2 2 2 3 3 3 3 3 1 0 0 0 2 0 0 0 0 0 0 1 0 0 2 0\n",
      " 4 2 0 0 0 0 0 3 3 3 3 1 3 3 3 3 3 0 0 0 0 4 4 2 1 2 1 4 0 0 2 0 0 4 4 0 2\n",
      " 0 0 3 3 3 3 3 3 2 3 3 3 2 2 1 0 2 0 0 1 4 4 2 4 2 1 4 4 4 1 0 1 0 0]\n",
      "gt_ids [[4 2 4 4 4 4 4 4 4 4 0 0 0 0 0 0 0 0 0 0 0 0 0 0 0 0 0 0 0 0 0 0]\n",
      " [4 4 4 4 4 4 4 2 2 4 0 0 0 0 0 0 0 0 0 0 0 0 0 0 0 0 0 0 0 0 0 0]\n",
      " [2 2 2 2 2 2 2 3 2 2 0 0 0 0 0 0 0 0 0 0 0 0 0 0 0 0 0 0 0 0 0 0]\n",
      " [4 4 3 4 3 4 4 4 3 3 0 0 0 0 0 0 0 0 0 0 0 0 0 0 0 0 0 0 0 0 0 0]\n",
      " [1 4 1 2 4 2 2 2 3 2 0 0 0 0 0 0 0 0 0 0 0 0 0 0 0 0 0 0 0 0 0 0]\n",
      " [2 3 2 2 4 4 4 4 2 2 0 0 0 0 0 0 0 0 0 0 0 0 0 0 0 0 0 0 0 0 0 0]\n",
      " [4 4 4 4 4 2 2 4 4 4 0 0 0 0 0 0 0 0 0 0 0 0 0 0 0 0 0 0 0 0 0 0]\n",
      " [4 4 4 4 4 4 3 4 2 4 0 0 0 0 0 0 0 0 0 0 0 0 0 0 0 0 0 0 0 0 0 0]]\n",
      "  4/100 [>.............................] - ETA: 1:17:46 - loss: 8.7149 - rpn_class_loss: 0.6042 - rpn_bbox_loss: 1.7695 - mrcnn_class_loss: 2.9503 - mrcnn_bbox_loss: 2.0901 - mrcnn_mask_loss: 1.3008[0 1 2 3 4] 1\n",
      "map_dict {1: 0, 0: 4, 2: 1, 3: 2, 4: 3}\n",
      "reassigned_labels [3 1 3 1 3 1 3 3 3 1 2 0 2 0 0 2 0 0 0 0 0 1 2 4 1 4 0 4 0 4 0 0 2 3 3 3 2\n",
      " 2 1 3 3 2 0 4 3 0 4 0 4 4 3 0 0 0 4 0 4 2 4 0 0 2 0 0 2 2 1 1 3 1 1 1 1 1\n",
      " 0 0 0 0 2 2 2 0 2 0 4 4 0 0 0 0 0 0 4 1 0 0 3 1 3 3 3 1 3 1 3 1 0 4 0 0 4\n",
      " 4 0 0 4 0 0 0 0 0 2 4 0 4 0 2 0 0 3 0 3 3 0 1 1 3 0 3 4 0 2 0 0 2 2 4 2 0\n",
      " 2 2 0 0 4 0 2 2 1 0 0 0 1 3 3 1 0 3 3 1 3 1 0 0 0 0 0 2 0 2 0 2 0 0 4 4 4\n",
      " 2 0 2 0 0 0 0 1 1 3 3 1 1 3 1 1 3 0 0 0 4 0 0 2 0 0 0 0 2 0 0 1 2 4 4 2 0\n",
      " 0 0 3 1 3 1 3 1 1 3 3 3 0 0 0 0 4 4 2 0 0 0 0 2 2 0 0 2 4 0 0 0 0 0]\n",
      "gt_ids [[4 4 4 2 4 3 4 4 4 4 0 0 0 0 0 0 0 0 0 0 0 0 0 0 0 0 0 0 0 0 0 0]\n",
      " [4 4 4 4 4 4 2 4 4 4 0 0 0 0 0 0 0 0 0 0 0 0 0 0 0 0 0 0 0 0 0 0]\n",
      " [2 2 2 3 4 2 2 2 2 2 0 0 0 0 0 0 0 0 0 0 0 0 0 0 0 0 0 0 0 0 0 0]\n",
      " [4 3 4 4 4 3 4 3 4 3 0 0 0 0 0 0 0 0 0 0 0 0 0 0 0 0 0 0 0 0 0 0]\n",
      " [4 1 4 4 1 2 2 4 1 4 0 0 0 0 0 0 0 0 0 0 0 0 0 0 0 0 0 0 0 0 0 0]\n",
      " [3 4 4 2 3 4 4 2 4 2 0 0 0 0 0 0 0 0 0 0 0 0 0 0 0 0 0 0 0 0 0 0]\n",
      " [4 4 4 4 4 2 4 4 2 4 0 0 0 0 0 0 0 0 0 0 0 0 0 0 0 0 0 0 0 0 0 0]\n",
      " [4 2 4 4 4 3 2 4 4 4 0 0 0 0 0 0 0 0 0 0 0 0 0 0 0 0 0 0 0 0 0 0]]\n",
      "  5/100 [>.............................] - ETA: 1:02:26 - loss: 8.2054 - rpn_class_loss: 0.5986 - rpn_bbox_loss: 1.7375 - mrcnn_class_loss: 2.6233 - mrcnn_bbox_loss: 2.0340 - mrcnn_mask_loss: 1.2120[0 1 2 3 4] 0\n",
      "map_dict {0: 0, 1: 3, 2: 2, 3: 4, 4: 1}\n",
      "reassigned_labels [3 3 1 3 1 3 1 1 1 1 0 0 0 4 0 2 0 0 0 0 0 0 0 0 4 4 0 0 2 4 0 0 3 1 1 3 2\n",
      " 1 3 3 3 3 4 0 0 0 0 0 2 2 2 0 2 4 2 4 3 3 4 0 4 2 0 0 1 1 2 4 2 1 3 1 3 1\n",
      " 0 4 2 4 2 4 0 0 4 0 4 0 0 0 0 2 0 4 4 2 0 0 1 2 3 2 2 2 1 3 3 2 4 2 4 0 0\n",
      " 0 0 0 2 0 4 0 0 0 0 4 0 0 0 0 0 0 1 3 0 1 2 1 2 2 2 1 0 4 0 0 0 0 2 4 4 0\n",
      " 2 4 4 4 1 0 4 0 4 4 0 0 1 2 2 1 2 2 3 2 3 3 0 2 0 4 2 0 2 0 0 0 0 0 0 0 0\n",
      " 0 0 4 2 2 0 0 1 3 1 1 1 1 1 1 1 1 4 0 2 0 0 0 0 4 2 2 0 0 2 0 0 4 2 0 2 0\n",
      " 0 0 1 1 3 1 1 3 1 1 1 1 0 4 0 0 4 0 2 0 4 0 2 2 2 4 0 4 2 0 2 0 0 0]\n",
      "gt_ids [[4 4 4 4 2 4 2 4 2 4 0 0 0 0 0 0 0 0 0 0 0 0 0 0 0 0 0 0 0 0 0 0]\n",
      " [4 2 4 4 4 4 4 4 4 4 0 0 0 0 0 0 0 0 0 0 0 0 0 0 0 0 0 0 0 0 0 0]\n",
      " [2 2 2 2 3 2 4 2 4 2 0 0 0 0 0 0 0 0 0 0 0 0 0 0 0 0 0 0 0 0 0 0]\n",
      " [4 3 4 3 3 3 4 4 4 3 0 0 0 0 0 0 0 0 0 0 0 0 0 0 0 0 0 0 0 0 0 0]\n",
      " [2 4 1 2 2 4 1 1 2 4 0 0 0 0 0 0 0 0 0 0 0 0 0 0 0 0 0 0 0 0 0 0]\n",
      " [2 3 2 2 3 2 4 2 4 4 0 0 0 0 0 0 0 0 0 0 0 0 0 0 0 0 0 0 0 0 0 0]\n",
      " [2 4 4 4 2 4 4 4 4 4 0 0 0 0 0 0 0 0 0 0 0 0 0 0 0 0 0 0 0 0 0 0]\n",
      " [2 4 4 4 4 4 4 4 4 4 0 0 0 0 0 0 0 0 0 0 0 0 0 0 0 0 0 0 0 0 0 0]]\n"
     ]
    },
    {
     "name": "stdout",
     "output_type": "stream",
     "text": [
      "  6/100 [>.............................] - ETA: 52:11 - loss: 7.7915 - rpn_class_loss: 0.5914 - rpn_bbox_loss: 1.6986 - mrcnn_class_loss: 2.4174 - mrcnn_bbox_loss: 1.9872 - mrcnn_mask_loss: 1.0969  [0 1 2 3 4] 1\n",
      "map_dict {1: 0, 0: 4, 2: 3, 3: 2, 4: 1}\n",
      "reassigned_labels [3 2 2 3 2 2 3 2 3 3 4 2 0 4 0 4 2 4 0 0 1 0 0 0 1 0 1 4 4 0 0 0 4 3 3 4 3\n",
      " 3 2 4 1 3 3 4 0 0 4 0 4 1 0 0 0 1 0 0 0 0 4 0 0 0 0 0 2 2 3 4 2 2 3 2 2 2\n",
      " 0 4 0 0 4 4 0 4 0 0 0 0 0 4 0 4 0 4 0 4 0 0 3 2 3 2 3 3 3 2 3 2 1 0 1 1 0\n",
      " 1 0 4 0 0 4 1 1 0 0 1 1 0 0 1 0 0 2 0 2 2 3 3 3 2 0 0 4 4 0 1 0 4 1 0 1 0\n",
      " 0 0 0 4 0 0 0 0 1 4 0 0 2 3 2 2 2 3 3 2 2 2 4 0 1 0 0 4 0 0 0 0 0 0 0 4 1\n",
      " 0 4 0 0 0 0 0 2 2 3 3 2 2 2 3 2 3 0 3 4 4 0 2 0 4 0 0 0 1 1 0 1 1 0 0 4 0\n",
      " 0 0 3 2 3 3 3 3 3 3 2 2 1 4 0 4 0 4 0 0 0 4 0 0 4 0 4 0 4 0 0 4 0 0]\n",
      "gt_ids [[4 4 4 4 2 2 4 2 4 4 0 0 0 0 0 0 0 0 0 0 0 0 0 0 0 0 0 0 0 0 0 0]\n",
      " [4 4 4 4 4 4 2 4 4 4 0 0 0 0 0 0 0 0 0 0 0 0 0 0 0 0 0 0 0 0 0 0]\n",
      " [3 2 4 2 2 2 4 3 2 2 0 0 0 0 0 0 0 0 0 0 0 0 0 0 0 0 0 0 0 0 0 0]\n",
      " [4 3 4 3 4 4 4 3 4 3 0 0 0 0 0 0 0 0 0 0 0 0 0 0 0 0 0 0 0 0 0 0]\n",
      " [3 1 2 2 4 4 4 2 1 1 0 0 0 0 0 0 0 0 0 0 0 0 0 0 0 0 0 0 0 0 0 0]\n",
      " [2 4 2 2 2 4 4 3 3 2 0 0 0 0 0 0 0 0 0 0 0 0 0 0 0 0 0 0 0 0 0 0]\n",
      " [2 4 4 4 4 4 4 4 4 4 0 0 0 0 0 0 0 0 0 0 0 0 0 0 0 0 0 0 0 0 0 0]\n",
      " [4 3 4 4 4 4 4 4 2 2 0 0 0 0 0 0 0 0 0 0 0 0 0 0 0 0 0 0 0 0 0 0]]\n",
      "  7/100 [=>............................] - ETA: 44:51 - loss: 7.4987 - rpn_class_loss: 0.5827 - rpn_bbox_loss: 1.6554 - mrcnn_class_loss: 2.2329 - mrcnn_bbox_loss: 1.9131 - mrcnn_mask_loss: 1.1147[0 1 2 3 4] 1\n",
      "map_dict {1: 0, 0: 4, 2: 3, 3: 2, 4: 1}\n",
      "reassigned_labels [2 2 2 2 3 3 3 3 3 2 4 1 1 0 1 1 0 3 0 1 1 0 4 1 4 1 4 0 4 1 1 1 3 3 3 2 3\n",
      " 3 3 0 3 3 4 4 4 0 4 4 1 1 1 1 0 0 1 1 1 1 1 0 1 0 1 1 2 3 2 2 4 3 2 0 3 2\n",
      " 4 1 4 4 4 1 4 4 1 0 4 0 4 4 4 1 1 4 1 1 1 1 0 3 3 3 2 3 3 0 3 3 0 1 0 1 1\n",
      " 1 1 1 1 4 1 1 1 1 4 0 1 0 0 1 1 1 0 0 3 2 2 3 0 1 0 3 4 1 0 1 4 4 1 4 0 4\n",
      " 4 1 4 1 0 1 4 0 0 4 0 0 2 3 2 2 2 2 2 2 0 3 1 4 1 1 4 0 1 4 1 4 4 1 1 1 1\n",
      " 1 1 1 1 4 1 1 2 2 2 2 2 3 1 2 2 3 2 0 0 4 0 1 1 1 4 0 4 1 4 1 0 0 4 4 0 0\n",
      " 1 1 3 3 3 3 2 2 3 3 3 2 1 1 1 4 4 4 4 1 1 0 1 1 4 4 1 1 1 1 1 0 1 1]\n",
      "gt_ids [[4 4 2 2 4 4 4 4 4 2 0 0 0 0 0 0 0 0 0 0 0 0 0 0 0 0 0 0 0 0 0 0]\n",
      " [4 4 4 4 4 4 4 4 4 4 0 0 0 0 0 0 0 0 0 0 0 0 0 0 0 0 0 0 0 0 0 0]\n",
      " [2 4 2 2 2 4 2 3 4 2 0 0 0 0 0 0 0 0 0 0 0 0 0 0 0 0 0 0 0 0 0 0]\n",
      " [3 4 4 4 2 4 4 3 4 4 0 0 0 0 0 0 0 0 0 0 0 0 0 0 0 0 0 0 0 0 0 0]\n",
      " [2 3 4 2 2 4 2 1 1 4 0 0 0 0 0 0 0 0 0 0 0 0 0 0 0 0 0 0 0 0 0 0]\n",
      " [2 4 2 2 2 2 2 2 3 4 0 0 0 0 0 0 0 0 0 0 0 0 0 0 0 0 0 0 0 0 0 0]\n",
      " [4 2 4 2 4 4 1 4 4 4 0 0 0 0 0 0 0 0 0 0 0 0 0 0 0 0 0 0 0 0 0 0]\n",
      " [4 4 4 4 4 2 4 4 4 4 0 0 0 0 0 0 0 0 0 0 0 0 0 0 0 0 0 0 0 0 0 0]]\n",
      "  8/100 [=>............................] - ETA: 39:20 - loss: 7.3962 - rpn_class_loss: 0.5728 - rpn_bbox_loss: 1.6101 - mrcnn_class_loss: 2.3015 - mrcnn_bbox_loss: 1.8152 - mrcnn_mask_loss: 1.0966[0 1 2 3 4] 1\n",
      "map_dict {1: 0, 0: 2, 2: 1, 3: 4, 4: 3}\n",
      "reassigned_labels [1 1 1 3 3 4 3 3 3 3 0 0 2 0 0 0 4 4 4 4 0 0 0 1 1 0 2 0 4 0 0 0 3 4 3 3 1\n",
      " 3 3 3 3 1 2 0 4 1 0 4 0 1 0 0 4 0 4 4 0 0 0 4 4 4 0 0 1 1 3 1 1 4 3 3 4 3\n",
      " 0 2 0 2 0 0 2 0 0 0 0 0 2 2 0 2 4 2 0 0 0 0 3 1 3 1 3 3 1 3 3 1 2 0 2 0 2\n",
      " 1 0 0 0 2 1 0 0 0 4 2 0 0 1 4 0 0 0 3 3 1 3 3 3 4 1 0 0 4 4 0 2 4 0 3 0 0\n",
      " 2 2 0 2 4 2 4 0 0 0 0 0 1 3 1 1 1 1 3 3 1 1 0 0 1 0 4 4 0 0 0 2 0 0 4 0 0\n",
      " 0 2 2 0 0 0 0 3 1 3 0 1 3 3 1 1 3 0 2 0 0 4 4 1 0 1 0 0 4 4 4 4 2 4 2 0 1\n",
      " 0 0 3 3 3 1 3 3 3 1 3 1 4 4 0 4 0 4 4 2 0 2 0 0 0 0 0 2 4 2 2 2 0 0]\n",
      "gt_ids [[2 2 2 4 4 2 4 4 4 4 0 0 0 0 0 0 0 0 0 0 0 0 0 0 0 0 0 0 0 0 0 0]\n",
      " [4 4 4 4 2 4 4 4 4 4 0 0 0 0 0 0 0 0 0 0 0 0 0 0 0 0 0 0 0 0 0 0]\n",
      " [2 3 4 2 2 2 4 4 2 4 0 0 0 0 0 0 0 0 0 0 0 0 0 0 0 0 0 0 0 0 0 0]\n",
      " [4 3 4 3 4 4 3 4 4 3 0 0 0 0 0 0 0 0 0 0 0 0 0 0 0 0 0 0 0 0 0 0]\n",
      " [1 4 4 3 4 4 4 2 2 1 0 0 0 0 0 0 0 0 0 0 0 0 0 0 0 0 0 0 0 0 0 0]\n",
      " [2 4 2 2 2 3 4 4 2 3 0 0 0 0 0 0 0 0 0 0 0 0 0 0 0 0 0 0 0 0 0 0]\n",
      " [4 2 4 1 4 4 4 4 2 4 0 0 0 0 0 0 0 0 0 0 0 0 0 0 0 0 0 0 0 0 0 0]\n",
      " [4 4 4 2 4 4 4 3 4 2 0 0 0 0 0 0 0 0 0 0 0 0 0 0 0 0 0 0 0 0 0 0]]\n",
      "  9/100 [=>............................] - ETA: 35:02 - loss: 7.0796 - rpn_class_loss: 0.5621 - rpn_bbox_loss: 1.5657 - mrcnn_class_loss: 2.1464 - mrcnn_bbox_loss: 1.7229 - mrcnn_mask_loss: 1.0826[0 1 2 3 4] 0\n",
      "map_dict {0: 0, 1: 3, 2: 2, 3: 4, 4: 1}\n",
      "reassigned_labels [2 3 2 2 3 3 3 3 2 3 0 4 0 0 1 0 0 0 4 4 0 0 4 4 0 0 0 0 0 0 0 0 1 1 1 0 2\n",
      " 1 1 3 0 3 4 0 0 1 1 4 0 4 0 0 0 0 4 4 0 0 4 4 1 0 0 0 2 3 3 1 3 2 2 2 2 2\n",
      " 0 0 1 0 1 0 0 0 0 0 1 4 0 0 0 0 0 0 4 0 0 0 3 1 3 1 3 2 1 3 1 3 0 1 0 0 0\n",
      " 0 4 0 0 0 1 0 0 4 0 0 0 1 0 4 0 0 0 2 1 3 2 3 1 3 1 0 4 4 0 4 4 4 0 0 4 4\n",
      " 0 4 4 4 4 4 0 0 0 4 0 0 2 2 1 2 3 3 2 3 2 3 0 0 0 0 0 0 0 4 4 1 0 0 0 0 1\n",
      " 0 0 0 0 4 0 0 2 2 2 0 2 2 2 2 2 2 0 0 0 4 1 4 4 0 0 4 0 0 4 0 1 0 4 0 4 0\n",
      " 0 0 2 3 3 3 3 2 3 3 2 2 0 4 0 0 0 0 0 4 0 0 0 4 0 0 0 0 0 0 0 4 0 0]\n",
      "gt_ids [[2 4 2 2 4 4 4 4 2 4 0 0 0 0 0 0 0 0 0 0 0 0 0 0 0 0 0 0 0 0 0 0]\n",
      " [4 4 4 3 2 4 4 4 3 4 0 0 0 0 0 0 0 0 0 0 0 0 0 0 0 0 0 0 0 0 0 0]\n",
      " [2 4 4 3 4 2 2 2 2 2 0 0 0 0 0 0 0 0 0 0 0 0 0 0 0 0 0 0 0 0 0 0]\n",
      " [4 3 4 3 4 2 3 4 3 4 0 0 0 0 0 0 0 0 0 0 0 0 0 0 0 0 0 0 0 0 0 0]\n",
      " [1 2 2 4 2 4 3 4 2 1 0 0 0 0 0 0 0 0 0 0 0 0 0 0 0 0 0 0 0 0 0 0]\n",
      " [2 2 3 2 4 4 2 4 2 4 0 0 0 0 0 0 0 0 0 0 0 0 0 0 0 0 0 0 0 0 0 0]\n",
      " [4 4 4 1 4 4 2 4 4 4 0 0 0 0 0 0 0 0 0 0 0 0 0 0 0 0 0 0 0 0 0 0]\n",
      " [2 4 4 4 4 2 4 4 4 2 0 0 0 0 0 0 0 0 0 0 0 0 0 0 0 0 0 0 0 0 0 0]]\n",
      " 10/100 [==>...........................] - ETA: 31:36 - loss: 6.7719 - rpn_class_loss: 0.5505 - rpn_bbox_loss: 1.5228 - mrcnn_class_loss: 1.9927 - mrcnn_bbox_loss: 1.6441 - mrcnn_mask_loss: 1.0618[0 1 2 3 4] 2\n",
      "map_dict {2: 0, 0: 2, 1: 1, 3: 4, 4: 3}\n",
      "reassigned_labels [3 1 3 3 3 3 3 1 1 3 2 0 0 2 0 0 0 0 4 0 4 0 0 2 4 0 0 0 0 0 0 0 1 3 1 1 4\n",
      " 3 3 3 1 1 0 4 0 0 0 0 0 0 3 0 4 4 0 4 3 0 0 0 0 4 0 0 4 0 1 1 4 3 1 1 1 2\n",
      " 4 0 4 0 4 0 0 0 0 0 4 1 0 0 0 0 0 4 4 0 0 0 2 3 2 1 3 2 3 2 3 2 2 2 2 4 0\n",
      " 4 0 0 2 0 0 2 0 4 2 2 4 2 0 0 0 0 3 0 1 0 2 3 3 0 1 3 4 4 4 0 0 4 4 4 4 0\n",
      " 4 4 4 4 0 4 0 4 0 2 0 0 3 3 1 1 0 3 1 3 1 3 4 2 4 4 0 0 0 0 0 4 0 0 4 4 0\n",
      " 0 4 0 0 0 0 0 1 1 1 1 1 0 1 1 1 1 0 0 4 0 4 4 4 0 0 4 0 4 1 4 0 0 4 0 4 4\n",
      " 0 0 3 3 3 3 1 3 3 1 2 1 4 4 0 0 0 0 0 4 0 0 4 4 0 1 0 2 4 0 4 0 0 0]\n",
      "gt_ids [[4 2 4 4 4 4 4 2 2 4 0 0 0 0 0 0 0 0 0 0 0 0 0 0 0 0 0 0 0 0 0 0]\n",
      " [4 4 4 4 4 4 4 4 2 2 0 0 0 0 0 0 0 0 0 0 0 0 0 0 0 0 0 0 0 0 0 0]\n",
      " [2 1 2 2 2 4 2 2 2 3 0 0 0 0 0 0 0 0 0 0 0 0 0 0 0 0 0 0 0 0 0 0]\n",
      " [3 4 3 2 4 3 4 3 4 3 0 0 0 0 0 0 0 0 0 0 0 0 0 0 0 0 0 0 0 0 0 0]\n",
      " [4 1 2 1 3 4 4 1 2 4 0 0 0 0 0 0 0 0 0 0 0 0 0 0 0 0 0 0 0 0 0 0]\n",
      " [4 4 2 2 1 4 2 4 2 4 0 0 0 0 0 0 0 0 0 0 0 0 0 0 0 0 0 0 0 0 0 0]\n",
      " [4 2 4 4 4 1 4 4 2 4 0 0 0 0 0 0 0 0 0 0 0 0 0 0 0 0 0 0 0 0 0 0]\n",
      " [4 4 4 4 2 4 4 4 3 2 0 0 0 0 0 0 0 0 0 0 0 0 0 0 0 0 0 0 0 0 0 0]]\n",
      " 11/100 [==>...........................] - ETA: 28:47 - loss: 6.4931 - rpn_class_loss: 0.5380 - rpn_bbox_loss: 1.4821 - mrcnn_class_loss: 1.8729 - mrcnn_bbox_loss: 1.5685 - mrcnn_mask_loss: 1.0316[0 1 2 3 4] 1\n",
      "map_dict {1: 0, 0: 2, 2: 4, 3: 3, 4: 1}\n",
      "reassigned_labels [2 3 3 3 3 2 3 3 2 3 0 0 0 0 1 0 4 0 4 1 1 1 0 0 0 0 0 4 0 0 0 0 0 4 3 3 2\n",
      " 3 2 1 3 0 4 0 4 0 0 0 0 0 0 3 0 3 4 3 4 3 4 4 0 4 0 0 4 2 2 3 2 2 2 0 2 2\n",
      " 4 0 4 0 0 0 0 4 0 0 4 0 4 0 0 4 0 4 4 0 0 0 1 3 3 3 3 1 1 1 3 2 0 4 1 1 4\n",
      " 0 0 0 4 0 0 0 1 1 1 0 0 1 1 0 0 0 3 2 1 1 0 2 0 3 2 2 0 0 4 0 4 4 0 0 1 4\n",
      " 4 0 0 4 0 4 4 4 0 4 0 0 1 0 1 3 3 2 3 0 2 2 4 4 4 0 4 1 0 4 0 0 4 0 0 0 0\n",
      " 0 0 0 0 0 0 0 2 2 2 2 2 2 2 2 2 2 0 4 4 4 0 0 0 0 1 0 1 4 0 0 4 0 0 1 1 4\n",
      " 0 0 2 3 2 3 3 3 3 3 3 2 0 4 0 2 4 0 0 0 0 1 0 0 0 0 4 0 0 0 4 0 0 0]\n",
      "gt_ids [[2 4 4 4 4 4 4 4 2 4 0 0 0 0 0 0 0 0 0 0 0 0 0 0 0 0 0 0 0 0 0 0]\n",
      " [3 4 4 4 2 4 2 4 4 3 0 0 0 0 0 0 0 0 0 0 0 0 0 0 0 0 0 0 0 0 0 0]\n",
      " [2 2 2 4 4 2 2 1 2 2 0 0 0 0 0 0 0 0 0 0 0 0 0 0 0 0 0 0 0 0 0 0]\n",
      " [3 4 4 4 4 3 3 3 4 2 0 0 0 0 0 0 0 0 0 0 0 0 0 0 0 0 0 0 0 0 0 0]\n",
      " [4 2 2 2 1 2 2 4 2 2 0 0 0 0 0 0 0 0 0 0 0 0 0 0 0 0 0 0 0 0 0 0]\n",
      " [3 1 3 4 4 2 4 3 2 2 0 0 0 0 0 0 0 0 0 0 0 0 0 0 0 0 0 0 0 0 0 0]\n",
      " [4 4 4 2 2 4 4 4 4 4 0 0 0 0 0 0 0 0 0 0 0 0 0 0 0 0 0 0 0 0 0 0]\n",
      " [2 4 4 4 4 4 4 4 4 2 0 0 0 0 0 0 0 0 0 0 0 0 0 0 0 0 0 0 0 0 0 0]]\n",
      " 12/100 [==>...........................] - ETA: 26:25 - loss: 6.2478 - rpn_class_loss: 0.5245 - rpn_bbox_loss: 1.4445 - mrcnn_class_loss: 1.7627 - mrcnn_bbox_loss: 1.5047 - mrcnn_mask_loss: 1.0115[0 1 2 3 4] 1\n",
      "map_dict {1: 0, 0: 4, 2: 3, 3: 2, 4: 1}\n",
      "reassigned_labels [2 2 1 3 3 2 1 3 3 1 4 4 0 4 4 4 4 4 0 0 4 0 0 0 0 0 4 0 0 0 0 0 0 4 3 4 3\n",
      " 3 1 2 3 2 0 0 0 1 0 4 4 4 0 4 0 0 0 4 3 0 4 4 0 4 0 0 3 2 0 1 4 2 2 1 2 2\n",
      " 0 4 0 4 4 0 0 0 0 0 0 0 0 0 0 4 4 0 0 0 0 0 1 1 1 1 3 3 3 1 3 1 0 0 0 0 0\n",
      " 4 0 0 0 4 0 0 0 4 0 0 3 0 0 4 0 0 1 0 2 1 1 1 1 1 2 2 0 4 0 0 0 0 4 0 4 0\n",
      " 4 0 4 0 0 4 0 0 4 0 0 0 3 1 0 3 2 1 1 2 2 1 4 0 0 0 0 4 0 4 4 0 0 0 0 0 4\n",
      " 0 0 0 0 0 0 0 1 0 2 2 2 2 2 2 1 2 0 0 0 4 0 4 0 0 1 4 1 0 0 4 0 0 0 0 4 0\n",
      " 0 0 1 1 3 3 1 2 2 3 3 2 0 0 0 0 4 4 0 0 0 0 0 4 4 0 0 0 0 4 0 4 0 0]\n",
      "gt_ids [[2 4 2 4 4 4 2 4 4 3 0 0 0 0 0 0 0 0 0 0 0 0 0 0 0 0 0 0 0 0 0 0]\n",
      " [3 4 4 4 4 4 4 4 4 4 0 0 0 0 0 0 0 0 0 0 0 0 0 0 0 0 0 0 0 0 0 0]\n",
      " [4 4 1 2 2 2 4 2 2 4 0 0 0 0 0 0 0 0 0 0 0 0 0 0 0 0 0 0 0 0 0 0]\n",
      " [3 3 3 2 4 4 4 3 4 2 0 0 0 0 0 0 0 0 0 0 0 0 0 0 0 0 0 0 0 0 0 0]\n",
      " [2 1 2 2 2 3 2 2 4 2 0 0 0 0 0 0 0 0 0 0 0 0 0 0 0 0 0 0 0 0 0 0]\n",
      " [4 2 1 4 2 2 2 2 2 1 0 0 0 0 0 0 0 0 0 0 0 0 0 0 0 0 0 0 0 0 0 0]\n",
      " [4 1 4 4 4 4 4 4 2 4 0 0 0 0 0 0 0 0 0 0 0 0 0 0 0 0 0 0 0 0 0 0]\n",
      " [2 2 4 4 2 4 4 4 4 4 0 0 0 0 0 0 0 0 0 0 0 0 0 0 0 0 0 0 0 0 0 0]]\n"
     ]
    },
    {
     "name": "stdout",
     "output_type": "stream",
     "text": [
      " 13/100 [==>...........................] - ETA: 24:26 - loss: 6.0057 - rpn_class_loss: 0.5101 - rpn_bbox_loss: 1.4100 - mrcnn_class_loss: 1.6635 - mrcnn_bbox_loss: 1.4420 - mrcnn_mask_loss: 0.9800[0 1 2 3 4] 1\n",
      "map_dict {1: 0, 0: 2, 2: 3, 3: 4, 4: 1}\n",
      "reassigned_labels [1 3 3 3 2 3 3 2 3 2 1 0 4 2 4 4 4 0 0 1 0 1 0 0 0 0 0 1 0 0 0 0 4 3 3 3 3\n",
      " 1 3 3 1 2 0 0 1 4 0 4 0 0 1 4 4 0 0 4 0 0 0 4 0 0 0 0 3 3 2 4 2 0 4 2 2 0\n",
      " 1 0 0 0 4 1 4 2 4 4 4 0 0 4 0 4 4 0 4 4 0 0 3 2 3 1 3 3 3 2 1 3 0 1 0 0 1\n",
      " 1 1 0 1 0 4 1 0 0 0 4 1 0 3 1 0 0 2 0 2 2 0 3 0 3 3 2 0 4 0 4 4 0 0 0 4 4\n",
      " 4 0 0 0 0 0 0 0 0 0 0 0 3 3 2 3 2 2 3 2 2 2 0 0 4 0 0 0 4 1 2 0 4 0 4 0 4\n",
      " 0 0 0 0 0 0 0 2 2 0 2 2 2 2 2 2 1 0 4 4 4 4 4 0 1 0 0 4 0 0 4 0 2 0 4 4 4\n",
      " 0 0 3 3 3 1 2 3 2 3 2 3 0 0 0 0 0 0 4 0 1 0 1 0 4 1 1 0 0 4 0 4 0 0]\n",
      "gt_ids [[3 4 4 4 2 4 4 4 4 2 0 0 0 0 0 0 0 0 0 0 0 0 0 0 0 0 0 0 0 0 0 0]\n",
      " [4 4 4 4 4 4 4 4 4 2 0 0 0 0 0 0 0 0 0 0 0 0 0 0 0 0 0 0 0 0 0 0]\n",
      " [4 4 2 2 2 1 2 2 2 1 0 0 0 0 0 0 0 0 0 0 0 0 0 0 0 0 0 0 0 0 0 0]\n",
      " [4 2 4 3 4 4 4 3 3 4 0 0 0 0 0 0 0 0 0 0 0 0 0 0 0 0 0 0 0 0 0 0]\n",
      " [2 1 2 2 1 4 1 4 4 2 0 0 0 0 0 0 0 0 0 0 0 0 0 0 0 0 0 0 0 0 0 0]\n",
      " [4 4 3 4 2 2 4 2 2 2 0 0 0 0 0 0 0 0 0 0 0 0 0 0 0 0 0 0 0 0 0 0]\n",
      " [4 4 1 4 2 4 4 2 4 3 0 0 0 0 0 0 0 0 0 0 0 0 0 0 0 0 0 0 0 0 0 0]\n",
      " [4 4 4 3 2 4 2 4 4 4 0 0 0 0 0 0 0 0 0 0 0 0 0 0 0 0 0 0 0 0 0 0]]\n",
      " 14/100 [===>..........................] - ETA: 22:42 - loss: 5.8037 - rpn_class_loss: 0.4951 - rpn_bbox_loss: 1.3787 - mrcnn_class_loss: 1.5869 - mrcnn_bbox_loss: 1.3845 - mrcnn_mask_loss: 0.9585[0 1 2 3 4] 4\n",
      "map_dict {4: 0, 0: 4, 1: 1, 2: 3, 3: 2}\n",
      "reassigned_labels [0 3 0 2 2 3 3 2 3 2 1 4 0 4 1 1 1 1 4 0 1 4 1 1 1 4 1 1 0 1 0 0 0 4 3 3 3\n",
      " 2 1 2 3 2 0 4 1 4 0 4 4 4 0 4 0 4 3 4 1 4 4 1 4 0 0 0 2 4 4 0 2 4 2 4 2 2\n",
      " 0 1 1 1 1 0 4 1 4 1 1 1 1 0 4 1 1 1 1 1 0 0 2 3 2 2 3 3 1 2 3 2 4 0 0 4 1\n",
      " 0 1 0 1 4 1 1 1 1 0 1 1 0 1 1 0 0 0 2 0 0 0 0 0 2 2 0 4 4 1 4 0 4 1 1 4 4\n",
      " 1 0 4 1 4 1 4 0 1 1 0 0 2 2 0 2 2 3 3 0 2 2 4 4 4 1 1 4 0 1 4 1 1 1 1 1 4\n",
      " 1 0 4 1 1 0 0 2 0 2 2 2 0 2 2 2 2 0 1 1 4 1 1 4 1 4 1 0 1 1 1 1 0 4 1 0 1\n",
      " 0 0 3 3 2 2 2 0 3 2 3 3 4 1 1 1 1 4 0 0 1 4 1 1 1 1 1 1 1 1 1 4 0 0]\n",
      "gt_ids [[1 4 3 2 4 4 4 2 4 4 0 0 0 0 0 0 0 0 0 0 0 0 0 0 0 0 0 0 0 0 0 0]\n",
      " [1 4 4 4 4 4 3 4 4 2 0 0 0 0 0 0 0 0 0 0 0 0 0 0 0 0 0 0 0 0 0 0]\n",
      " [2 2 2 1 4 2 4 2 2 4 0 0 0 0 0 0 0 0 0 0 0 0 0 0 0 0 0 0 0 0 0 0]\n",
      " [4 4 3 2 4 4 1 3 4 3 0 0 0 0 0 0 0 0 0 0 0 0 0 0 0 0 0 0 0 0 0 0]\n",
      " [1 2 1 2 2 1 2 2 2 1 0 0 0 0 0 0 0 0 0 0 0 0 0 0 0 0 0 0 0 0 0 0]\n",
      " [2 2 3 2 2 4 4 3 2 2 0 0 0 0 0 0 0 0 0 0 0 0 0 0 0 0 0 0 0 0 0 0]\n",
      " [4 1 2 4 4 3 4 4 4 4 0 0 0 0 0 0 0 0 0 0 0 0 0 0 0 0 0 0 0 0 0 0]\n",
      " [4 4 2 2 4 2 4 2 4 4 0 0 0 0 0 0 0 0 0 0 0 0 0 0 0 0 0 0 0 0 0 0]]\n",
      " 15/100 [===>..........................] - ETA: 21:11 - loss: 5.7461 - rpn_class_loss: 0.4794 - rpn_bbox_loss: 1.3501 - mrcnn_class_loss: 1.6566 - mrcnn_bbox_loss: 1.3222 - mrcnn_mask_loss: 0.9377[0 1 2 3 4] 2\n",
      "map_dict {2: 0, 0: 3, 1: 1, 3: 2, 4: 4}\n",
      "reassigned_labels [3 0 3 3 0 2 3 3 3 2 0 1 0 4 1 4 1 4 4 1 4 0 1 1 1 1 1 1 1 0 0 0 0 3 0 3 4\n",
      " 3 4 2 1 4 4 0 1 1 4 4 4 4 1 4 4 1 1 4 4 4 1 0 4 4 0 0 4 3 2 2 3 2 2 2 4 2\n",
      " 1 1 0 1 1 4 1 1 1 4 1 1 1 1 1 1 4 2 4 1 0 0 0 0 2 3 2 0 3 1 3 3 0 1 1 0 0\n",
      " 1 0 4 4 1 4 0 0 0 1 0 1 4 1 1 0 0 0 3 3 0 2 2 0 2 2 2 1 1 4 1 1 4 0 1 1 1\n",
      " 1 1 1 0 4 0 1 0 1 1 0 0 3 2 2 3 0 0 2 2 0 0 1 1 4 1 1 4 1 1 1 1 1 1 1 0 1\n",
      " 0 1 0 1 1 0 0 2 0 2 2 1 0 2 2 2 2 0 4 0 0 0 1 2 4 1 1 0 4 1 2 1 1 1 4 1 0\n",
      " 0 0 3 0 3 3 2 3 2 0 2 3 1 1 1 4 4 0 1 0 1 1 4 1 1 1 1 0 1 0 4 0 0 0]\n",
      "gt_ids [[4 3 4 4 1 2 4 4 4 2 0 0 0 0 0 0 0 0 0 0 0 0 0 0 0 0 0 0 0 0 0 0]\n",
      " [1 4 3 4 4 4 4 4 3 4 0 0 0 0 0 0 0 0 0 0 0 0 0 0 0 0 0 0 0 0 0 0]\n",
      " [2 4 2 2 4 2 2 2 2 4 0 0 0 0 0 0 0 0 0 0 0 0 0 0 0 0 0 0 0 0 0 0]\n",
      " [3 3 2 4 2 3 4 1 4 4 0 0 0 0 0 0 0 0 0 0 0 0 0 0 0 0 0 0 0 0 0 0]\n",
      " [1 4 4 1 2 2 2 2 2 2 0 0 0 0 0 0 0 0 0 0 0 0 0 0 0 0 0 0 0 0 0 0]\n",
      " [4 2 2 4 3 1 2 2 1 3 0 0 0 0 0 0 0 0 0 0 0 0 0 0 0 0 0 0 0 0 0 0]\n",
      " [4 3 2 4 1 3 4 4 4 4 0 0 0 0 0 0 0 0 0 0 0 0 0 0 0 0 0 0 0 0 0 0]\n",
      " [4 3 4 4 2 4 4 2 2 4 0 0 0 0 0 0 0 0 0 0 0 0 0 0 0 0 0 0 0 0 0 0]]\n",
      " 16/100 [===>..........................] - ETA: 19:52 - loss: 5.6761 - rpn_class_loss: 0.4635 - rpn_bbox_loss: 1.3240 - mrcnn_class_loss: 1.7055 - mrcnn_bbox_loss: 1.2631 - mrcnn_mask_loss: 0.9200[0 1 2 3 4] 1\n",
      "map_dict {1: 0, 0: 3, 2: 4, 3: 2, 4: 1}\n",
      "reassigned_labels [3 0 1 3 3 3 2 1 3 3 0 0 0 0 4 0 0 0 0 0 4 0 0 4 0 0 0 0 4 0 0 0 2 4 3 0 2\n",
      " 0 3 2 0 0 0 4 4 0 0 0 0 0 4 4 0 4 4 0 4 4 0 0 4 4 0 0 2 2 2 2 4 3 3 0 4 2\n",
      " 0 1 4 0 0 0 0 0 4 0 0 0 1 0 4 0 0 0 0 4 0 0 3 0 2 1 1 3 1 2 1 1 0 0 0 1 0\n",
      " 1 0 0 1 1 0 0 0 1 0 1 0 4 0 0 0 0 2 3 3 2 2 0 0 3 0 2 4 4 4 0 0 4 0 4 0 4\n",
      " 4 4 0 4 0 0 0 0 4 4 0 0 2 2 0 2 0 2 0 2 2 1 0 0 0 1 3 2 4 0 4 0 0 0 0 0 4\n",
      " 4 0 4 0 0 0 0 0 2 2 0 0 3 2 2 2 2 0 0 0 0 0 0 0 4 0 4 0 4 4 0 4 4 4 0 0 0\n",
      " 0 0 2 3 3 2 3 1 2 2 2 3 0 0 0 0 0 0 0 0 4 4 0 4 0 0 0 0 0 3 2 0 0 0]\n",
      "gt_ids [[4 1 3 4 4 4 2 3 4 4 0 0 0 0 0 0 0 0 0 0 0 0 0 0 0 0 0 0 0 0 0 0]\n",
      " [2 4 4 1 2 3 4 2 3 1 0 0 0 0 0 0 0 0 0 0 0 0 0 0 0 0 0 0 0 0 0 0]\n",
      " [2 2 2 4 2 4 4 3 2 2 0 0 0 0 0 0 0 0 0 0 0 0 0 0 0 0 0 0 0 0 0 0]\n",
      " [4 1 2 3 3 4 3 2 3 3 0 0 0 0 0 0 0 0 0 0 0 0 0 0 0 0 0 0 0 0 0 0]\n",
      " [2 4 4 2 2 1 1 4 1 2 0 0 0 0 0 0 0 0 0 0 0 0 0 0 0 0 0 0 0 0 0 0]\n",
      " [2 2 3 2 1 2 3 2 2 3 0 0 0 0 0 0 0 0 0 0 0 0 0 0 0 0 0 0 0 0 0 0]\n",
      " [1 4 2 1 3 4 4 4 2 4 0 0 0 0 0 0 0 0 0 0 0 0 0 0 0 0 0 0 0 0 0 0]\n",
      " [2 4 4 2 4 3 2 2 2 4 0 0 0 0 0 0 0 0 0 0 0 0 0 0 0 0 0 0 0 0 0 0]]\n",
      " 17/100 [====>.........................] - ETA: 18:42 - loss: 5.4878 - rpn_class_loss: 0.4477 - rpn_bbox_loss: 1.3001 - mrcnn_class_loss: 1.6242 - mrcnn_bbox_loss: 1.2200 - mrcnn_mask_loss: 0.8958[0 1 2 3 4] 1\n",
      "map_dict {1: 0, 0: 2, 2: 4, 3: 3, 4: 1}\n",
      "reassigned_labels [1 2 2 1 2 2 2 2 2 2 0 0 0 0 0 0 1 1 4 0 4 0 4 0 0 0 0 0 0 0 0 0 2 4 2 2 4\n",
      " 2 0 2 1 2 4 0 0 1 0 0 4 1 4 0 0 0 0 4 0 0 0 0 1 0 0 0 2 4 4 2 2 2 1 1 4 2\n",
      " 0 0 4 4 0 0 0 0 3 3 0 3 0 0 4 0 0 0 0 0 0 0 2 1 1 2 2 1 1 2 2 0 1 1 3 0 1\n",
      " 0 0 0 0 4 1 1 1 0 0 1 3 1 0 4 0 0 0 1 2 0 2 2 1 2 1 2 0 0 3 0 1 0 4 3 3 0\n",
      " 3 3 3 3 3 0 4 0 4 0 0 0 2 2 1 2 1 2 0 1 1 2 0 4 3 0 0 1 1 3 0 3 0 0 3 4 0\n",
      " 0 0 0 0 0 0 0 2 2 1 0 2 2 2 0 0 1 0 0 3 0 1 0 3 0 0 0 3 4 0 0 3 3 0 0 0 1\n",
      " 0 0 2 2 2 2 1 2 2 1 1 2 0 0 0 0 0 3 3 3 0 0 0 0 0 0 3 0 4 0 4 0 0 0]\n",
      "gt_ids [[1 4 2 3 4 4 2 4 2 4 0 0 0 0 0 0 0 0 0 0 0 0 0 0 0 0 0 0 0 0 0 0]\n",
      " [4 4 4 4 4 2 1 4 1 2 0 0 0 0 0 0 0 0 0 0 0 0 0 0 0 0 0 0 0 0 0 0]\n",
      " [2 2 2 2 2 4 3 1 2 2 0 0 0 0 0 0 0 0 0 0 0 0 0 0 0 0 0 0 0 0 0 0]\n",
      " [4 3 3 2 2 3 3 4 2 1 0 0 0 0 0 0 0 0 0 0 0 0 0 0 0 0 0 0 0 0 0 0]\n",
      " [1 1 2 1 4 2 2 4 2 2 0 0 0 0 0 0 0 0 0 0 0 0 0 0 0 0 0 0 0 0 0 0]\n",
      " [2 2 3 2 1 2 3 3 2 4 0 0 0 0 0 0 0 0 0 0 0 0 0 0 0 0 0 0 0 0 0 0]\n",
      " [4 4 3 1 4 4 4 1 1 3 0 0 0 0 0 0 0 0 0 0 0 0 0 0 0 0 0 0 0 0 0 0]\n",
      " [2 2 4 2 2 4 4 2 3 2 0 0 0 0 0 0 0 0 0 0 0 0 0 0 0 0 0 0 0 0 0 0]]\n",
      " 18/100 [====>.........................] - ETA: 17:40 - loss: 5.3848 - rpn_class_loss: 0.4321 - rpn_bbox_loss: 1.2778 - mrcnn_class_loss: 1.6072 - mrcnn_bbox_loss: 1.1918 - mrcnn_mask_loss: 0.8759[0 1 2 3 4] 2\n",
      "map_dict {2: 0, 0: 1, 1: 4, 3: 3, 4: 2}\n",
      "reassigned_labels [2 2 3 2 3 3 2 3 3 3 1 0 1 4 1 1 0 1 4 0 0 4 4 0 4 1 1 1 4 1 0 0 3 4 0 3 0\n",
      " 3 3 0 0 0 1 4 4 4 1 4 4 4 1 4 2 4 4 4 4 4 2 0 4 4 0 0 0 2 2 2 2 2 4 2 2 3\n",
      " 0 1 1 1 1 0 1 4 4 1 1 1 1 1 0 0 1 0 1 4 0 0 3 2 2 0 3 3 3 2 2 2 0 0 1 1 1\n",
      " 1 0 1 1 1 1 1 1 0 1 1 1 4 1 1 0 0 2 2 3 0 0 2 0 2 2 2 1 1 4 2 4 4 1 0 4 4\n",
      " 1 4 4 4 4 0 1 1 4 1 0 0 2 0 0 2 3 2 0 2 2 2 1 0 1 1 1 4 0 1 0 1 1 4 0 1 4\n",
      " 1 4 1 1 4 0 0 2 3 0 3 0 0 3 2 0 2 4 1 1 1 1 4 1 1 0 1 1 1 1 4 4 1 1 1 4 1\n",
      " 0 0 3 3 2 2 2 2 3 2 2 1 1 1 0 1 1 1 4 1 4 4 0 0 1 2 1 1 4 0 0 0 0 0]\n",
      "gt_ids [[2 3 4 2 4 4 4 4 4 4 0 0 0 0 0 0 0 0 0 0 0 0 0 0 0 0 0 0 0 0 0 0]\n",
      " [4 4 1 4 3 4 4 1 3 1 0 0 0 0 0 0 0 0 0 0 0 0 0 0 0 0 0 0 0 0 0 0]\n",
      " [1 2 2 2 2 2 2 2 2 4 0 0 0 0 0 0 0 0 0 0 0 0 0 0 0 0 0 0 0 0 0 0]\n",
      " [4 3 3 1 4 4 4 3 2 2 0 0 0 0 0 0 0 0 0 0 0 0 0 0 0 0 0 0 0 0 0 0]\n",
      " [2 2 4 1 1 2 1 2 2 2 0 0 0 0 0 0 0 0 0 0 0 0 0 0 0 0 0 0 0 0 0 0]\n",
      " [2 1 1 3 4 2 3 2 2 2 0 0 0 0 0 0 0 0 0 0 0 0 0 0 0 0 0 0 0 0 0 0]\n",
      " [4 4 1 4 1 3 4 2 3 2 0 0 0 0 0 0 0 0 0 0 0 0 0 0 0 0 0 0 0 0 0 0]\n",
      " [4 4 3 2 2 2 4 2 2 0 0 0 0 0 0 0 0 0 0 0 0 0 0 0 0 0 0 0 0 0 0 0]]\n",
      " 19/100 [====>.........................] - ETA: 16:44 - loss: 5.2566 - rpn_class_loss: 0.4167 - rpn_bbox_loss: 1.2567 - mrcnn_class_loss: 1.5770 - mrcnn_bbox_loss: 1.1501 - mrcnn_mask_loss: 0.8560[0 1 2 3 4] 2\n",
      "map_dict {2: 0, 0: 4, 1: 3, 3: 2, 4: 1}\n",
      "reassigned_labels [1 1 1 2 2 2 2 1 2 0 0 3 4 3 3 0 0 3 0 4 3 4 4 3 0 3 4 4 0 3 0 0 2 0 0 1 2\n",
      " 4 4 0 1 0 3 0 4 3 3 0 3 3 0 3 4 4 3 3 3 3 3 3 3 0 0 0 1 2 0 4 1 0 1 1 0 4\n",
      " 4 3 3 0 1 3 3 0 3 3 4 3 3 3 3 3 3 4 3 3 0 0 1 1 1 2 1 1 2 1 2 2 3 0 3 4 3\n",
      " 3 3 3 3 0 0 3 3 3 4 1 3 3 0 3 0 0 2 1 2 1 1 1 0 0 1 1 0 3 3 3 0 0 0 4 3 4\n",
      " 4 3 0 3 4 3 3 3 3 3 0 0 1 1 2 0 2 1 0 1 1 1 3 0 4 3 0 3 3 3 0 3 3 4 0 0 4\n",
      " 3 3 3 4 3 0 0 0 2 1 1 1 0 0 0 1 0 0 4 3 3 0 4 3 0 4 3 3 3 3 0 4 4 3 3 3 3\n",
      " 0 0 1 1 1 1 1 1 2 2 2 3 0 3 0 4 3 3 0 3 3 3 4 4 3 3 3 0 3 0 0 0 0 0]\n",
      "gt_ids [[3 4 2 4 4 4 4 2 4 1 0 0 0 0 0 0 0 0 0 0 0 0 0 0 0 0 0 0 0 0 0 0]\n",
      " [4 1 1 2 4 4 4 3 2 3 0 0 0 0 0 0 0 0 0 0 0 0 0 0 0 0 0 0 0 0 0 0]\n",
      " [2 4 1 2 2 3 2 2 1 2 0 0 0 0 0 0 0 0 0 0 0 0 0 0 0 0 0 0 0 0 0 0]\n",
      " [3 2 2 4 3 3 4 3 4 4 0 0 0 0 0 0 0 0 0 0 0 0 0 0 0 0 0 0 0 0 0 0]\n",
      " [4 2 4 2 2 2 1 1 2 2 0 0 0 0 0 0 0 0 0 0 0 0 0 0 0 0 0 0 0 0 0 0]\n",
      " [2 2 4 3 4 2 1 2 2 3 0 0 0 0 0 0 0 0 0 0 0 0 0 0 0 0 0 0 0 0 0 0]\n",
      " [1 4 4 4 4 3 3 3 2 1 0 0 0 0 0 0 0 0 0 0 0 0 0 0 0 0 0 0 0 0 0 0]\n",
      " [2 2 2 2 2 3 4 4 4 0 0 0 0 0 0 0 0 0 0 0 0 0 0 0 0 0 0 0 0 0 0 0]]\n"
     ]
    },
    {
     "name": "stdout",
     "output_type": "stream",
     "text": [
      " 20/100 [=====>........................] - ETA: 15:53 - loss: 5.3267 - rpn_class_loss: 0.4018 - rpn_bbox_loss: 1.2369 - mrcnn_class_loss: 1.7220 - mrcnn_bbox_loss: 1.1214 - mrcnn_mask_loss: 0.8446[0 1 2 3 4] 2\n",
      "map_dict {2: 0, 0: 1, 1: 4, 3: 3, 4: 2}\n",
      "reassigned_labels [2 3 3 3 3 3 3 0 2 2 4 1 1 1 1 1 1 0 1 1 4 1 1 0 1 4 1 4 1 1 0 0 2 3 4 4 2\n",
      " 0 4 3 0 4 4 4 1 4 1 4 4 1 1 4 0 1 4 1 1 0 1 1 4 4 0 0 2 3 0 2 2 0 2 2 2 4\n",
      " 4 1 1 0 0 1 0 1 4 1 1 1 4 0 0 0 1 1 4 1 0 0 0 2 3 3 2 0 2 2 2 2 1 1 1 0 1\n",
      " 0 1 1 4 1 0 1 4 1 4 1 0 1 1 1 0 0 0 3 0 3 2 0 2 2 2 2 1 1 0 4 3 1 0 1 1 4\n",
      " 1 0 4 4 1 1 0 1 1 0 0 0 0 2 2 2 2 0 0 3 0 2 1 1 1 4 0 1 4 0 0 4 1 1 4 1 4\n",
      " 1 1 4 4 0 0 0 2 0 2 2 0 0 3 0 0 3 1 1 4 1 0 1 1 1 1 4 1 1 4 4 4 0 4 1 1 1\n",
      " 0 0 2 2 3 2 2 2 2 3 3 3 1 1 1 0 1 1 1 1 1 1 1 1 4 1 1 4 1 0 1 0 0 0]\n",
      "gt_ids [[2 4 4 4 4 4 4 1 2 3 0 0 0 0 0 0 0 0 0 0 0 0 0 0 0 0 0 0 0 0 0 0]\n",
      " [2 4 4 4 2 1 4 4 3 4 0 0 0 0 0 0 0 0 0 0 0 0 0 0 0 0 0 0 0 0 0 0]\n",
      " [2 4 1 2 2 1 2 2 2 2 0 0 0 0 0 0 0 0 0 0 0 0 0 0 0 0 0 0 0 0 0 0]\n",
      " [3 3 4 4 3 1 2 2 3 2 0 0 0 0 0 0 0 0 0 0 0 0 0 0 0 0 0 0 0 0 0 0]\n",
      " [1 4 1 4 2 1 2 2 2 2 0 0 0 0 0 0 0 0 0 0 0 0 0 0 0 0 0 0 0 0 0 0]\n",
      " [3 2 2 2 2 1 1 4 1 2 0 0 0 0 0 0 0 0 0 0 0 0 0 0 0 0 0 0 0 0 0 0]\n",
      " [2 1 4 4 3 1 4 3 3 4 0 0 0 0 0 0 0 0 0 0 0 0 0 0 0 0 0 0 0 0 0 0]\n",
      " [2 2 4 2 2 3 2 4 4 4 0 0 0 0 0 0 0 0 0 0 0 0 0 0 0 0 0 0 0 0 0 0]]\n",
      " 21/100 [=====>........................] - ETA: 15:07 - loss: 5.1904 - rpn_class_loss: 0.3876 - rpn_bbox_loss: 1.2181 - mrcnn_class_loss: 1.6694 - mrcnn_bbox_loss: 1.0871 - mrcnn_mask_loss: 0.8282[0 1 2 3 4] 1\n",
      "map_dict {1: 0, 0: 3, 2: 1, 3: 2, 4: 4}\n",
      "reassigned_labels [3 3 0 3 2 3 2 2 3 0 1 4 1 0 1 1 4 0 0 0 1 0 4 1 0 0 0 0 0 0 0 0 0 3 3 2 4\n",
      " 0 3 0 3 0 1 0 3 4 4 4 1 1 1 1 4 0 0 1 1 3 1 0 1 4 0 0 0 2 4 0 2 4 4 2 3 2\n",
      " 1 4 1 1 1 0 1 1 1 0 1 1 1 1 4 0 4 0 1 1 0 0 2 2 3 0 3 2 0 0 2 2 1 4 1 0 1\n",
      " 2 1 1 0 0 1 4 1 0 0 4 1 1 1 1 0 0 2 2 2 2 2 0 0 3 3 2 4 1 4 0 1 4 1 0 4 1\n",
      " 4 0 4 1 1 0 4 4 1 1 0 0 3 2 0 2 0 0 2 2 3 0 1 0 1 1 4 2 1 4 1 1 1 1 0 4 1\n",
      " 4 0 1 1 1 0 0 0 0 2 0 0 2 2 2 2 0 1 1 1 0 4 1 1 4 1 1 0 1 4 1 4 0 1 1 4 4\n",
      " 0 0 2 3 3 2 2 3 2 2 2 0 4 1 1 1 1 1 4 1 1 1 1 1 1 1 1 2 1 1 0 1 0 0]\n",
      "gt_ids [[4 4 1 4 2 4 2 3 4 0 0 0 0 0 0 0 0 0 0 0 0 0 0 0 0 0 0 0 0 0 0 0]\n",
      " [1 4 4 4 4 1 4 3 4 1 0 0 0 0 0 0 0 0 0 0 0 0 0 0 0 0 0 0 0 0 0 0]\n",
      " [1 2 2 1 2 2 2 2 4 2 0 0 0 0 0 0 0 0 0 0 0 0 0 0 0 0 0 0 0 0 0 0]\n",
      " [2 3 4 1 4 3 3 1 3 2 0 0 0 0 0 0 0 0 0 0 0 0 0 0 0 0 0 0 0 0 0 0]\n",
      " [2 2 2 2 2 1 1 4 4 2 0 0 0 0 0 0 0 0 0 0 0 0 0 0 0 0 0 0 0 0 0 0]\n",
      " [4 2 3 2 1 1 2 2 4 1 0 0 0 0 0 0 0 0 0 0 0 0 0 0 0 0 0 0 0 0 0 0]\n",
      " [3 1 4 1 3 4 4 4 2 1 0 0 0 0 0 0 0 0 0 0 0 0 0 0 0 0 0 0 0 0 0 0]\n",
      " [2 4 4 2 2 4 4 2 3 2 0 0 0 0 0 0 0 0 0 0 0 0 0 0 0 0 0 0 0 0 0 0]]\n",
      " 22/100 [=====>........................] - ETA: 14:25 - loss: 5.0629 - rpn_class_loss: 0.3741 - rpn_bbox_loss: 1.2002 - mrcnn_class_loss: 1.6246 - mrcnn_bbox_loss: 1.0516 - mrcnn_mask_loss: 0.8123[0 1 2 3 4] 3\n",
      "map_dict {3: 0, 0: 1, 1: 2, 2: 4, 4: 3}\n",
      "reassigned_labels [3 0 3 2 2 2 0 3 3 1 4 1 1 0 1 1 1 1 0 2 1 1 1 1 1 1 4 0 0 0 0 0 0 3 2 4 0\n",
      " 2 4 3 3 3 1 4 4 1 1 4 1 0 0 4 1 4 0 4 4 1 1 0 1 3 0 0 0 3 4 0 2 4 2 2 4 2\n",
      " 1 1 1 4 0 1 1 0 1 1 4 1 4 0 4 0 0 1 1 1 0 0 2 2 2 2 0 3 3 0 2 3 1 1 0 1 3\n",
      " 4 0 0 1 1 0 1 1 1 1 1 4 1 1 1 0 0 0 0 2 2 2 0 2 2 2 0 4 1 4 4 4 1 1 1 4 4\n",
      " 1 1 1 4 1 1 1 1 0 1 0 0 2 2 3 3 0 2 0 0 2 0 1 0 0 1 0 4 1 4 4 1 0 1 1 0 0\n",
      " 1 0 4 1 0 0 0 0 2 0 2 0 0 0 2 0 2 0 0 1 1 1 1 1 1 1 1 1 1 4 0 1 1 1 0 1 1\n",
      " 0 0 2 2 3 2 2 3 3 2 2 2 1 1 1 1 1 1 0 1 0 0 1 0 0 1 0 1 1 1 1 1 0 0]\n",
      "gt_ids [[4 1 4 2 4 3 1 4 4 0 0 0 0 0 0 0 0 0 0 0 0 0 0 0 0 0 0 0 0 0 0 0]\n",
      " [3 4 2 4 3 2 4 4 4 4 0 0 0 0 0 0 0 0 0 0 0 0 0 0 0 0 0 0 0 0 0 0]\n",
      " [1 4 2 1 2 2 2 2 2 2 0 0 0 0 0 0 0 0 0 0 0 0 0 0 0 0 0 0 0 0 0 0]\n",
      " [2 2 3 2 3 4 4 1 2 4 0 0 0 0 0 0 0 0 0 0 0 0 0 0 0 0 0 0 0 0 0 0]\n",
      " [1 1 2 2 2 1 2 2 2 1 0 0 0 0 0 0 0 0 0 0 0 0 0 0 0 0 0 0 0 0 0 0]\n",
      " [2 2 4 4 3 2 1 1 2 1 0 0 0 0 0 0 0 0 0 0 0 0 0 0 0 0 0 0 0 0 0 0]\n",
      " [1 4 3 4 3 3 1 4 1 2 0 0 0 0 0 0 0 0 0 0 0 0 0 0 0 0 0 0 0 0 0 0]\n",
      " [2 2 4 2 4 4 4 2 2 3 0 0 0 0 0 0 0 0 0 0 0 0 0 0 0 0 0 0 0 0 0 0]]\n",
      " 23/100 [=====>........................] - ETA: 13:46 - loss: 4.9401 - rpn_class_loss: 0.3613 - rpn_bbox_loss: 1.1831 - mrcnn_class_loss: 1.5811 - mrcnn_bbox_loss: 1.0172 - mrcnn_mask_loss: 0.7974[0 1 2 3 4] 2\n",
      "map_dict {2: 0, 0: 3, 1: 2, 3: 4, 4: 1}\n",
      "reassigned_labels [3 2 4 2 2 3 4 3 2 3 0 3 3 0 0 1 1 3 0 0 0 0 0 0 0 0 0 0 0 0 3 3 2 4 3 1 2\n",
      " 2 4 4 4 2 1 1 1 0 3 3 0 0 1 1 1 0 3 0 1 0 1 0 1 1 3 3 4 1 4 2 3 4 3 4 4 1\n",
      " 0 0 0 1 0 3 0 3 0 0 0 0 0 0 0 0 1 1 0 0 3 3 3 4 4 4 4 3 3 4 4 2 0 0 1 0 3\n",
      " 0 0 0 0 0 3 1 0 0 0 0 0 0 1 3 3 3 4 3 4 3 2 4 4 4 4 3 0 3 1 0 0 0 0 1 0 0\n",
      " 1 0 0 3 1 0 1 1 0 0 3 3 3 4 2 4 4 3 3 4 4 2 0 3 0 0 0 0 3 0 1 3 1 0 3 0 0\n",
      " 1 1 1 0 0 3 3 4 3 3 4 2 4 3 3 3 2 0 3 0 0 1 3 0 0 0 0 3 0 0 0 0 0 0 3 0 0\n",
      " 3 3 2 4 4 2 4 2 4 2 1 0 0 0 0 1 0 1 0 3 0 0 0 1 0 0 3 3 3 3 3 3 3 3]\n",
      "gt_ids [[1 4 3 4 4 3 2 1 4 1 0 0 0 0 0 0 0 0 0 0 0 0 0 0 0 0 0 0 0 0 0 0]\n",
      " [4 4 1 4 4 4 2 2 2 4 0 0 0 0 0 0 0 0 0 0 0 0 0 0 0 0 0 0 0 0 0 0]\n",
      " [2 2 2 4 1 2 1 1 2 2 0 0 0 0 0 0 0 0 0 0 0 0 0 0 0 0 0 0 0 0 0 0]\n",
      " [1 3 3 3 2 1 1 2 2 4 0 0 0 0 0 0 0 0 0 0 0 0 0 0 0 0 0 0 0 0 0 0]\n",
      " [2 1 2 1 4 2 2 2 2 1 0 0 0 0 0 0 0 0 0 0 0 0 0 0 0 0 0 0 0 0 0 0]\n",
      " [3 2 4 2 2 1 1 2 2 4 0 0 0 0 0 0 0 0 0 0 0 0 0 0 0 0 0 0 0 0 0 0]\n",
      " [4 1 3 2 4 4 3 1 1 4 0 0 0 0 0 0 0 0 0 0 0 0 0 0 0 0 0 0 0 0 0 0]\n",
      " [4 2 3 4 2 4 2 4 0 0 0 0 0 0 0 0 0 0 0 0 0 0 0 0 0 0 0 0 0 0 0 0]]\n",
      " 24/100 [======>.......................] - ETA: 13:11 - loss: 5.0086 - rpn_class_loss: 0.3492 - rpn_bbox_loss: 1.1667 - mrcnn_class_loss: 1.6791 - mrcnn_bbox_loss: 0.9962 - mrcnn_mask_loss: 0.8174[0 1 2 3 4] 0\n",
      "map_dict {0: 0, 1: 3, 2: 4, 3: 2, 4: 1}\n",
      "reassigned_labels [1 1 1 2 1 2 2 2 2 1 0 1 4 0 4 4 0 0 4 0 0 0 4 1 4 0 0 1 1 3 3 3 2 2 2 1 2\n",
      " 1 1 1 2 2 4 1 0 0 0 3 3 0 4 0 0 4 0 4 4 3 0 4 4 1 3 3 2 4 1 4 2 1 4 4 1 2\n",
      " 1 0 0 1 4 0 0 3 4 0 0 3 1 0 0 4 0 0 0 4 3 3 1 2 1 2 2 1 2 1 2 2 0 0 0 0 1\n",
      " 0 0 0 0 0 1 4 1 0 1 0 2 1 0 0 3 3 1 2 2 2 1 1 3 0 2 2 0 3 4 4 1 3 3 0 4 0\n",
      " 0 0 0 0 4 1 0 3 0 0 3 3 1 2 2 2 1 2 2 1 2 1 0 0 0 1 1 0 0 0 0 0 1 0 4 0 0\n",
      " 0 0 3 1 0 3 3 2 1 1 2 2 2 1 1 1 2 0 1 0 0 0 0 4 0 1 1 1 2 4 0 0 0 0 4 4 3\n",
      " 3 3 2 2 1 2 2 2 0 1 0 0 3 0 0 0 4 0 0 0 3 3 3 3 3 3 3 3 3 3 3 3 3 3]\n",
      "gt_ids [[1 1 1 4 3 4 4 4 4 3 0 0 0 0 0 0 0 0 0 0 0 0 0 0 0 0 0 0 0 0 0 0]\n",
      " [4 2 4 1 4 1 4 1 4 2 0 0 0 0 0 0 0 0 0 0 0 0 0 0 0 0 0 0 0 0 0 0]\n",
      " [2 2 1 2 2 1 2 2 3 2 0 0 0 0 0 0 0 0 0 0 0 0 0 0 0 0 0 0 0 0 0 0]\n",
      " [3 3 1 4 2 1 2 1 3 4 0 0 0 0 0 0 0 0 0 0 0 0 0 0 0 0 0 0 0 0 0 0]\n",
      " [1 4 2 2 1 1 1 1 2 2 0 0 0 0 0 0 0 0 0 0 0 0 0 0 0 0 0 0 0 0 0 0]\n",
      " [1 2 2 4 3 2 2 3 2 1 0 0 0 0 0 0 0 0 0 0 0 0 0 0 0 0 0 0 0 0 0 0]\n",
      " [2 1 1 4 4 4 1 3 3 4 0 0 0 0 0 0 0 0 0 0 0 0 0 0 0 0 0 0 0 0 0 0]\n",
      " [2 4 3 4 4 2 0 0 0 0 0 0 0 0 0 0 0 0 0 0 0 0 0 0 0 0 0 0 0 0 0 0]]\n",
      " 25/100 [======>.......................] - ETA: 12:38 - loss: 4.9537 - rpn_class_loss: 0.3379 - rpn_bbox_loss: 1.1509 - mrcnn_class_loss: 1.6846 - mrcnn_bbox_loss: 0.9745 - mrcnn_mask_loss: 0.8057[0 1 2 3 4] 1\n",
      "map_dict {1: 0, 0: 1, 2: 3, 3: 2, 4: 4}\n",
      "reassigned_labels [2 2 1 2 1 1 1 1 2 2 0 3 3 3 1 0 0 1 0 0 4 0 4 0 0 4 3 3 0 4 3 3 2 4 4 1 4\n",
      " 2 2 4 1 2 0 4 1 0 0 3 0 0 0 4 1 0 4 4 0 4 0 3 0 0 3 3 2 1 2 2 4 2 2 4 1 4\n",
      " 0 0 0 0 0 0 0 0 0 1 4 0 1 4 2 4 0 3 4 4 3 3 2 1 2 2 1 2 1 1 2 2 3 0 0 1 0\n",
      " 0 0 0 0 4 0 0 3 0 4 0 4 0 0 0 3 3 2 2 1 2 1 1 2 1 1 1 4 4 0 0 0 0 0 4 0 4\n",
      " 4 1 4 4 1 0 4 0 1 0 3 3 2 1 1 1 2 2 2 1 1 2 0 0 1 0 0 4 3 0 0 1 0 0 0 3 0\n",
      " 0 0 0 0 0 3 3 2 2 1 2 2 2 1 1 2 1 3 3 1 0 0 0 3 1 0 1 0 0 4 0 4 1 0 0 3 0\n",
      " 3 3 1 2 2 2 2 2 0 0 0 0 0 0 0 0 0 3 0 0 3 3 3 3 3 3 3 3 3 3 3 3 3 3]\n",
      "gt_ids [[4 2 3 4 1 1 1 3 4 4 0 0 0 0 0 0 0 0 0 0 0 0 0 0 0 0 0 0 0 0 0 0]\n",
      " [4 4 4 3 4 2 4 4 1 4 0 0 0 0 0 0 0 0 0 0 0 0 0 0 0 0 0 0 0 0 0 0]\n",
      " [2 1 2 2 2 2 4 2 1 2 0 0 0 0 0 0 0 0 0 0 0 0 0 0 0 0 0 0 0 0 0 0]\n",
      " [4 1 3 2 1 3 1 1 4 2 0 0 0 0 0 0 0 0 0 0 0 0 0 0 0 0 0 0 0 0 0 0]\n",
      " [4 2 1 4 1 1 2 1 1 1 0 0 0 0 0 0 0 0 0 0 0 0 0 0 0 0 0 0 0 0 0 0]\n",
      " [2 1 3 3 2 2 2 1 3 2 0 0 0 0 0 0 0 0 0 0 0 0 0 0 0 0 0 0 0 0 0 0]\n",
      " [4 4 1 4 4 2 1 3 4 3 0 0 0 0 0 0 0 0 0 0 0 0 0 0 0 0 0 0 0 0 0 0]\n",
      " [3 2 2 4 4 4 0 0 0 0 0 0 0 0 0 0 0 0 0 0 0 0 0 0 0 0 0 0 0 0 0 0]]\n",
      " 26/100 [======>.......................] - ETA: 12:07 - loss: 4.8927 - rpn_class_loss: 0.3274 - rpn_bbox_loss: 1.1358 - mrcnn_class_loss: 1.6799 - mrcnn_bbox_loss: 0.9537 - mrcnn_mask_loss: 0.7959[0 1 2 3 4] 3\n",
      "map_dict {3: 0, 0: 1, 1: 3, 2: 2, 4: 4}\n",
      "reassigned_labels [0 3 2 0 3 3 2 0 2 3 1 1 0 0 1 1 1 0 1 1 0 1 1 0 1 1 0 1 1 1 0 0 2 3 3 3 2\n",
      " 3 2 0 2 0 1 1 4 4 4 1 4 4 1 4 0 1 1 1 1 1 0 4 4 1 0 0 0 2 2 2 0 0 4 4 0 2\n",
      " 1 0 1 0 1 1 4 1 0 4 1 1 4 1 1 1 1 4 1 1 0 0 2 2 3 2 0 2 2 2 0 3 4 1 1 0 1\n",
      " 1 1 1 1 1 1 1 1 1 1 1 1 1 4 0 0 0 3 2 3 2 0 0 0 2 0 0 4 0 1 0 0 4 1 4 4 4\n",
      " 1 0 0 4 0 1 1 4 4 4 0 0 2 0 0 2 0 0 0 3 2 2 1 1 4 1 4 1 1 1 1 4 1 4 4 1 0\n",
      " 0 1 1 1 4 0 0 0 0 2 0 0 2 2 3 2 0 0 1 4 1 1 1 4 1 0 1 4 1 1 1 1 1 1 0 0 1\n",
      " 0 0 2 2 3 3 2 2 1 0 0 4 1 0 1 1 0 4 1 1 0 0 0 0 0 0 0 0 0 0 0 0 0 0]\n",
      "gt_ids [[1 4 2 3 4 4 3 1 4 4 0 0 0 0 0 0 0 0 0 0 0 0 0 0 0 0 0 0 0 0 0 0]\n",
      " [2 4 4 4 2 4 4 3 2 1 0 0 0 0 0 0 0 0 0 0 0 0 0 0 0 0 0 0 0 0 0 0]\n",
      " [1 1 2 2 1 3 2 2 3 2 0 0 0 0 0 0 0 0 0 0 0 0 0 0 0 0 0 0 0 0 0 0]\n",
      " [3 2 4 3 1 2 3 2 1 4 0 0 0 0 0 0 0 0 0 0 0 0 0 0 0 0 0 0 0 0 0 0]\n",
      " [4 2 4 2 1 1 1 2 1 1 0 0 0 0 0 0 0 0 0 0 0 0 0 0 0 0 0 0 0 0 0 0]\n",
      " [2 1 1 2 3 1 1 4 2 2 0 0 0 0 0 0 0 0 0 0 0 0 0 0 0 0 0 0 0 0 0 0]\n",
      " [3 3 4 1 1 4 4 4 2 3 0 0 0 0 0 0 0 0 0 0 0 0 0 0 0 0 0 0 0 0 0 0]\n",
      " [2 3 4 4 2 2 0 0 0 0 0 0 0 0 0 0 0 0 0 0 0 0 0 0 0 0 0 0 0 0 0 0]]\n"
     ]
    },
    {
     "name": "stdout",
     "output_type": "stream",
     "text": [
      " 27/100 [=======>......................] - ETA: 11:39 - loss: 4.8082 - rpn_class_loss: 0.3175 - rpn_bbox_loss: 1.1213 - mrcnn_class_loss: 1.6537 - mrcnn_bbox_loss: 0.9360 - mrcnn_mask_loss: 0.7797[0 1 2 3 4] 1\n",
      "map_dict {1: 0, 0: 3, 2: 2, 3: 4, 4: 1}\n",
      "reassigned_labels [3 0 0 3 0 3 2 3 3 2 1 1 1 1 1 1 0 0 4 1 1 1 1 4 1 1 1 0 4 1 0 0 4 3 3 2 0\n",
      " 3 0 0 2 2 1 1 1 0 1 1 4 4 4 1 0 0 0 1 0 1 1 0 0 4 0 0 4 0 2 2 2 4 4 0 2 3\n",
      " 1 1 0 1 1 4 1 1 1 1 1 0 1 1 0 1 1 4 1 4 0 0 3 2 2 2 3 2 0 0 2 0 0 1 1 1 4\n",
      " 0 4 0 1 1 1 0 1 1 1 0 1 1 0 1 0 0 0 3 2 2 2 0 2 3 2 0 0 4 4 1 4 4 1 0 1 1\n",
      " 4 1 1 1 0 4 0 1 4 1 0 0 2 0 2 2 2 0 0 2 2 2 0 0 1 0 1 0 1 1 0 0 1 0 1 1 1\n",
      " 0 1 1 0 1 0 0 0 0 0 0 2 0 2 2 2 2 1 1 0 1 1 0 1 1 1 0 1 1 4 1 4 1 4 4 1 0\n",
      " 0 0 2 3 3 2 2 2 1 2 0 1 4 4 1 1 1 1 4 1 0 0 0 0 0 0 0 0 0 0 0 0 0 0]\n",
      "gt_ids [[4 1 3 4 1 4 2 4 4 3 0 0 0 0 0 0 0 0 0 0 0 0 0 0 0 0 0 0 0 0 0 0]\n",
      " [4 4 4 4 3 4 1 1 2 2 0 0 0 0 0 0 0 0 0 0 0 0 0 0 0 0 0 0 0 0 0 0]\n",
      " [2 1 2 2 2 2 2 1 2 4 0 0 0 0 0 0 0 0 0 0 0 0 0 0 0 0 0 0 0 0 0 0]\n",
      " [4 2 3 3 4 2 1 1 2 1 0 0 0 0 0 0 0 0 0 0 0 0 0 0 0 0 0 0 0 0 0 0]\n",
      " [1 4 2 2 2 1 2 4 2 1 0 0 0 0 0 0 0 0 0 0 0 0 0 0 0 0 0 0 0 0 0 0]\n",
      " [2 1 3 2 2 3 1 2 2 2 0 0 0 0 0 0 0 0 0 0 0 0 0 0 0 0 0 0 0 0 0 0]\n",
      " [1 3 3 1 4 1 4 2 4 4 0 0 0 0 0 0 0 0 0 0 0 0 0 0 0 0 0 0 0 0 0 0]\n",
      " [2 4 4 2 2 3 0 0 0 0 0 0 0 0 0 0 0 0 0 0 0 0 0 0 0 0 0 0 0 0 0 0]]\n",
      " 28/100 [=======>......................] - ETA: 11:12 - loss: 4.7331 - rpn_class_loss: 0.3083 - rpn_bbox_loss: 1.1075 - mrcnn_class_loss: 1.6355 - mrcnn_bbox_loss: 0.9172 - mrcnn_mask_loss: 0.7646[0 1 2 3 4] 1\n",
      "map_dict {1: 0, 0: 3, 2: 1, 3: 2, 4: 4}\n",
      "reassigned_labels [3 3 3 0 3 3 2 2 0 0 1 1 0 1 1 0 4 0 1 0 1 1 4 2 1 1 1 4 0 0 0 0 4 2 2 0 4\n",
      " 2 2 0 3 0 0 4 0 4 1 0 0 1 1 1 1 0 1 1 1 1 1 3 4 4 0 0 2 0 3 2 2 2 2 4 0 0\n",
      " 1 1 1 1 1 1 1 1 1 0 1 1 1 1 1 1 1 4 2 1 0 0 2 0 3 2 0 2 2 0 2 2 1 1 1 1 1\n",
      " 4 0 1 4 1 4 0 1 1 1 1 4 1 1 1 0 0 3 3 2 2 3 0 2 2 2 0 1 1 1 1 0 1 1 0 4 4\n",
      " 4 0 4 0 4 4 4 1 0 0 0 0 2 2 2 0 2 0 0 2 3 2 1 0 0 4 1 0 1 0 1 1 0 1 1 0 1\n",
      " 4 0 4 0 0 0 0 0 0 0 0 2 2 2 0 3 2 1 0 0 1 1 1 0 0 2 1 0 4 1 1 1 1 1 1 1 2\n",
      " 0 0 3 2 2 2 3 0 2 3 1 0 0 4 1 1 1 1 0 1 4 1 1 0 1 1 0 0 0 0 0 0 0 0]\n",
      "gt_ids [[4 4 4 1 4 4 3 2 3 3 0 0 0 0 0 0 0 0 0 0 0 0 0 0 0 0 0 0 0 0 0 0]\n",
      " [4 2 2 1 4 2 2 1 4 3 0 0 0 0 0 0 0 0 0 0 0 0 0 0 0 0 0 0 0 0 0 0]\n",
      " [2 3 4 2 2 1 2 2 1 1 0 0 0 0 0 0 0 0 0 0 0 0 0 0 0 0 0 0 0 0 0 0]\n",
      " [2 1 4 2 1 2 3 1 3 2 0 0 0 0 0 0 0 0 0 0 0 0 0 0 0 0 0 0 0 0 0 0]\n",
      " [4 4 2 2 4 1 2 2 2 1 0 0 0 0 0 0 0 0 0 0 0 0 0 0 0 0 0 0 0 0 0 0]\n",
      " [2 3 2 3 2 1 3 2 4 2 0 0 0 0 0 0 0 0 0 0 0 0 0 0 0 0 0 0 0 0 0 0]\n",
      " [3 3 1 3 4 4 4 1 4 2 0 0 0 0 0 0 0 0 0 0 0 0 0 0 0 0 0 0 0 0 0 0]\n",
      " [4 2 3 2 4 1 2 4 0 0 0 0 0 0 0 0 0 0 0 0 0 0 0 0 0 0 0 0 0 0 0 0]]\n",
      " 29/100 [=======>......................] - ETA: 10:47 - loss: 4.6570 - rpn_class_loss: 0.2997 - rpn_bbox_loss: 1.0942 - mrcnn_class_loss: 1.6141 - mrcnn_bbox_loss: 0.8987 - mrcnn_mask_loss: 0.7503[0 1 2 3 4] 2\n",
      "map_dict {2: 0, 0: 2, 1: 1, 3: 3, 4: 4}\n",
      "reassigned_labels [2 0 3 0 0 2 3 2 2 2 1 2 0 0 1 1 1 1 4 4 4 1 1 1 4 1 1 0 0 1 0 0 4 0 2 0 2\n",
      " 4 3 2 4 2 1 0 0 0 0 4 1 4 1 0 1 4 1 0 1 1 4 0 1 0 0 0 4 4 4 4 3 0 0 2 2 0\n",
      " 1 1 1 1 1 4 1 4 1 1 1 0 1 1 1 1 1 1 1 0 0 0 2 3 0 3 2 0 2 2 3 2 4 1 1 4 1\n",
      " 1 1 1 0 0 1 1 1 4 1 2 1 4 1 1 0 0 0 2 0 2 2 0 3 0 2 0 4 1 0 1 1 1 1 0 4 4\n",
      " 1 1 4 1 1 0 1 1 0 1 0 0 0 3 0 2 2 0 2 3 0 0 1 1 1 1 4 1 1 4 4 1 0 1 0 0 0\n",
      " 1 4 1 0 4 0 0 3 2 0 0 0 2 2 0 2 3 0 1 4 1 1 1 1 1 0 1 1 0 0 4 4 1 1 1 1 1\n",
      " 0 0 2 2 0 3 3 2 2 0 3 1 1 1 1 4 1 0 0 0 1 1 1 1 1 1 0 1 1 0 0 0 0 0]\n",
      "gt_ids [[4 1 4 3 3 3 4 2 1 2 0 0 0 0 0 0 0 0 0 0 0 0 0 0 0 0 0 0 0 0 0 0]\n",
      " [4 1 2 1 4 4 4 2 4 2 0 0 0 0 0 0 0 0 0 0 0 0 0 0 0 0 0 0 0 0 0 0]\n",
      " [2 2 2 2 4 3 3 2 1 1 0 0 0 0 0 0 0 0 0 0 0 0 0 0 0 0 0 0 0 0 0 0]\n",
      " [2 4 1 4 2 1 3 3 4 3 0 0 0 0 0 0 0 0 0 0 0 0 0 0 0 0 0 0 0 0 0 0]\n",
      " [1 2 1 2 2 1 4 1 2 1 0 0 0 0 0 0 0 0 0 0 0 0 0 0 0 0 0 0 0 0 0 0]\n",
      " [3 2 1 3 2 1 2 4 1 1 0 0 0 0 0 0 0 0 0 0 0 0 0 0 0 0 0 0 0 0 0 0]\n",
      " [4 4 1 3 3 4 2 1 4 4 0 0 0 0 0 0 0 0 0 0 0 0 0 0 0 0 0 0 0 0 0 0]\n",
      " [3 2 1 4 4 2 2 1 4 0 0 0 0 0 0 0 0 0 0 0 0 0 0 0 0 0 0 0 0 0 0 0]]\n",
      " 30/100 [========>.....................] - ETA: 10:23 - loss: 4.5793 - rpn_class_loss: 0.2917 - rpn_bbox_loss: 1.0815 - mrcnn_class_loss: 1.5907 - mrcnn_bbox_loss: 0.8782 - mrcnn_mask_loss: 0.7372[0 1 2 3 4] 1\n",
      "map_dict {1: 0, 0: 1, 2: 3, 3: 2, 4: 4}\n",
      "reassigned_labels [2 2 3 2 0 0 2 0 2 0 4 1 4 0 1 0 0 1 1 1 4 1 1 1 1 4 0 0 1 1 0 0 2 2 0 3 2\n",
      " 2 2 2 2 2 1 1 1 1 1 4 1 1 0 4 4 0 1 1 0 0 1 1 0 1 0 0 3 2 0 3 2 2 2 3 2 3\n",
      " 0 1 1 1 1 0 1 1 0 4 1 1 1 0 1 1 4 4 1 2 0 0 2 0 2 0 0 2 2 2 2 3 1 4 1 1 4\n",
      " 4 0 1 1 1 1 1 1 1 0 0 1 4 1 1 0 0 0 0 1 0 0 0 2 2 2 0 1 1 0 1 1 1 0 0 1 1\n",
      " 4 0 4 1 1 1 4 0 4 0 0 0 3 0 3 2 3 2 2 2 3 3 1 1 1 1 1 4 0 1 0 4 4 4 1 1 0\n",
      " 4 1 1 1 1 0 0 3 0 3 3 2 0 0 2 1 2 1 1 1 4 1 1 0 1 1 4 1 1 1 1 0 4 1 1 0 0\n",
      " 0 0 3 3 2 2 2 2 2 2 2 2 1 0 0 1 1 1 1 4 1 3 4 1 1 1 1 1 1 0 4 4 0 0]\n",
      "gt_ids [[2 2 4 2 1 3 4 3 2 3 0 0 0 0 0 0 0 0 0 0 0 0 0 0 0 0 0 0 0 0 0 0]\n",
      " [2 3 1 4 2 3 3 2 2 3 0 0 0 0 0 0 0 0 0 0 0 0 0 0 0 0 0 0 0 0 0 0]\n",
      " [4 2 3 4 3 2 2 4 4 4 0 0 0 0 0 0 0 0 0 0 0 0 0 0 0 0 0 0 0 0 0 0]\n",
      " [2 1 2 3 1 2 2 2 2 4 0 0 0 0 0 0 0 0 0 0 0 0 0 0 0 0 0 0 0 0 0 0]\n",
      " [1 3 1 1 1 3 2 2 2 1 0 0 0 0 0 0 0 0 0 0 0 0 0 0 0 0 0 0 0 0 0 0]\n",
      " [4 3 4 2 4 3 3 3 4 4 0 0 0 0 0 0 0 0 0 0 0 0 0 0 0 0 0 0 0 0 0 0]\n",
      " [4 1 4 4 3 1 1 2 1 2 0 0 0 0 0 0 0 0 0 0 0 0 0 0 0 0 0 0 0 0 0 0]\n",
      " [4 4 2 2 3 2 2 4 2 4 0 0 0 0 0 0 0 0 0 0 0 0 0 0 0 0 0 0 0 0 0 0]]\n",
      " 31/100 [========>.....................] - ETA: 10:01 - loss: 4.5016 - rpn_class_loss: 0.2839 - rpn_bbox_loss: 1.0721 - mrcnn_class_loss: 1.5640 - mrcnn_bbox_loss: 0.8589 - mrcnn_mask_loss: 0.7227[0 1 2 3 4] 4\n",
      "map_dict {4: 0, 0: 1, 1: 2, 2: 4, 3: 3}\n",
      "reassigned_labels [2 0 2 2 2 2 0 2 2 3 1 0 1 4 1 2 1 1 0 1 4 0 4 0 0 1 4 0 4 1 0 0 2 2 2 3 2\n",
      " 2 2 2 2 2 1 0 4 1 1 2 1 4 0 1 1 4 1 0 1 4 0 1 4 1 0 0 4 3 2 2 2 3 3 2 3 3\n",
      " 4 1 1 0 1 0 1 0 0 0 4 4 1 1 4 4 1 1 0 4 0 0 2 2 1 1 2 2 0 2 2 2 1 1 1 1 4\n",
      " 1 1 0 1 4 0 4 0 1 1 1 1 1 0 0 0 0 2 0 2 0 2 2 1 2 0 2 1 1 0 0 1 0 1 4 1 4\n",
      " 0 0 0 4 0 0 1 1 0 4 0 0 0 3 3 0 0 3 2 2 2 2 1 4 1 1 4 1 1 0 1 4 1 1 1 4 1\n",
      " 4 4 0 1 1 0 0 0 1 3 2 3 3 0 2 0 2 1 1 0 1 0 1 1 1 1 1 4 1 0 1 0 1 1 4 1 1\n",
      " 0 0 2 2 2 2 0 3 2 2 2 2 1 1 1 1 1 1 1 0 4 1 0 1 1 1 1 4 1 1 1 1 0 0]\n",
      "gt_ids [[4 1 2 4 4 2 3 2 4 4 0 0 0 0 0 0 0 0 0 0 0 0 0 0 0 0 0 0 0 0 0 0]\n",
      " [3 4 3 4 2 2 3 2 2 3 0 0 0 0 0 0 0 0 0 0 0 0 0 0 0 0 0 0 0 0 0 0]\n",
      " [3 4 2 2 2 4 4 3 4 4 0 0 0 0 0 0 0 0 0 0 0 0 0 0 0 0 0 0 0 0 0 0]\n",
      " [4 2 1 1 4 2 3 4 2 2 0 0 0 0 0 0 0 0 0 0 0 0 0 0 0 0 0 0 0 0 0 0]\n",
      " [2 3 2 1 2 2 1 2 1 2 0 0 0 0 0 0 0 0 0 0 0 0 0 0 0 0 0 0 0 0 0 0]\n",
      " [3 4 4 3 3 4 3 3 3 3 0 0 0 0 0 0 0 0 0 0 0 0 0 0 0 0 0 0 0 0 0 0]\n",
      " [1 1 4 2 4 4 1 3 1 2 0 0 0 0 0 0 0 0 0 0 0 0 0 0 0 0 0 0 0 0 0 0]\n",
      " [2 4 3 4 3 4 4 2 4 2 0 0 0 0 0 0 0 0 0 0 0 0 0 0 0 0 0 0 0 0 0 0]]\n",
      " 32/100 [========>.....................] - ETA: 9:39 - loss: 4.4227 - rpn_class_loss: 0.2766 - rpn_bbox_loss: 1.0631 - mrcnn_class_loss: 1.5334 - mrcnn_bbox_loss: 0.8406 - mrcnn_mask_loss: 0.7089 [0 1 2 3 4] 1\n",
      "map_dict {1: 0, 0: 1, 2: 2, 3: 3, 4: 4}\n",
      "reassigned_labels [3 2 3 2 2 2 0 2 2 0 4 0 4 0 4 4 1 4 4 0 1 1 1 0 0 0 4 0 0 0 0 0 2 3 2 2 0\n",
      " 2 2 0 3 3 3 4 1 1 1 0 1 1 4 4 1 4 4 1 0 0 4 4 0 4 0 0 2 2 3 3 3 2 2 2 3 2\n",
      " 4 1 4 4 1 1 4 1 1 1 4 1 0 4 4 1 4 1 1 0 0 0 0 2 2 2 3 2 2 2 2 2 1 0 4 1 4\n",
      " 1 0 0 0 1 1 1 1 0 0 0 0 0 0 0 0 0 2 0 2 0 0 0 0 2 0 2 1 1 1 1 1 4 1 4 1 0\n",
      " 0 1 0 2 1 1 1 0 4 1 0 0 3 3 2 0 2 0 2 3 3 3 0 0 4 4 4 0 0 1 4 1 1 1 0 0 1\n",
      " 0 1 1 1 1 0 0 3 3 2 0 2 3 0 0 0 1 1 1 1 1 1 1 1 1 4 1 1 1 1 1 1 0 0 0 0 0\n",
      " 0 0 2 2 3 2 2 2 2 0 2 2 1 1 1 1 4 2 0 1 1 1 4 0 4 0 1 0 4 1 0 1 0 0]\n",
      "gt_ids [[4 2 4 2 2 2 1 4 3 1 0 0 0 0 0 0 0 0 0 0 0 0 0 0 0 0 0 0 0 0 0 0]\n",
      " [3 4 3 2 1 2 2 1 4 4 0 0 0 0 0 0 0 0 0 0 0 0 0 0 0 0 0 0 0 0 0 0]\n",
      " [2 4 4 4 4 2 2 3 4 4 0 0 0 0 0 0 0 0 0 0 0 0 0 0 0 0 0 0 0 0 0 0]\n",
      " [1 2 2 2 4 2 2 2 2 4 0 0 0 0 0 0 0 0 0 0 0 0 0 0 0 0 0 0 0 0 0 0]\n",
      " [2 3 2 1 1 3 1 2 3 3 0 0 0 0 0 0 0 0 0 0 0 0 0 0 0 0 0 0 0 0 0 0]\n",
      " [4 4 2 3 3 3 2 4 4 4 0 0 0 0 0 0 0 0 0 0 0 0 0 0 0 0 0 0 0 0 0 0]\n",
      " [4 4 2 1 3 4 1 1 1 0 0 0 0 0 0 0 0 0 0 0 0 0 0 0 0 0 0 0 0 0 0 0]\n",
      " [2 3 4 2 4 2 2 3 4 2 0 0 0 0 0 0 0 0 0 0 0 0 0 0 0 0 0 0 0 0 0 0]]\n",
      " 33/100 [========>.....................] - ETA: 9:19 - loss: 4.3516 - rpn_class_loss: 0.2699 - rpn_bbox_loss: 1.0543 - mrcnn_class_loss: 1.5085 - mrcnn_bbox_loss: 0.8235 - mrcnn_mask_loss: 0.6954[0 1 2 3 4] 1\n",
      "map_dict {1: 0, 0: 4, 2: 2, 3: 1, 4: 3}\n",
      "reassigned_labels [2 2 2 2 2 2 2 2 2 3 4 1 4 0 4 4 1 1 1 1 0 0 4 1 1 0 1 0 0 1 0 0 2 2 4 3 2\n",
      " 3 3 2 2 0 0 1 1 1 4 1 1 1 1 1 0 1 1 0 4 1 1 0 1 4 0 0 2 3 3 3 2 2 2 2 3 3\n",
      " 0 0 0 1 4 1 1 0 4 1 1 1 1 1 0 4 0 1 0 1 0 0 0 3 2 2 2 0 2 2 2 2 4 1 1 1 1\n",
      " 4 1 0 0 0 2 4 1 0 1 4 0 1 1 1 0 0 2 2 2 2 2 2 2 2 2 2 1 0 4 1 1 1 1 1 1 1\n",
      " 4 1 2 1 1 1 1 4 4 0 0 0 3 3 2 3 3 2 3 3 2 3 1 1 4 1 2 2 1 1 0 4 0 4 4 0 1\n",
      " 4 0 1 1 1 0 0 2 3 2 3 3 2 2 1 1 2 1 4 0 0 1 1 1 1 1 1 0 4 1 1 1 1 1 0 4 1\n",
      " 0 0 2 2 3 4 4 2 3 2 2 2 1 1 0 4 1 1 1 1 1 4 0 4 1 1 1 1 1 0 1 1 0 0]\n",
      "gt_ids [[1 4 4 2 2 3 2 4 4 4 0 0 0 0 0 0 0 0 0 0 0 0 0 0 0 0 0 0 0 0 0 0]\n",
      " [2 1 2 4 3 4 4 2 3 1 0 0 0 0 0 0 0 0 0 0 0 0 0 0 0 0 0 0 0 0 0 0]\n",
      " [2 4 4 4 3 4 3 4 4 4 0 0 0 0 0 0 0 0 0 0 0 0 0 0 0 0 0 0 0 0 0 0]\n",
      " [3 4 2 2 2 3 2 2 2 4 0 0 0 0 0 0 0 0 0 0 0 0 0 0 0 0 0 0 0 0 0 0]\n",
      " [4 3 2 2 1 2 2 2 3 2 0 0 0 0 0 0 0 0 0 0 0 0 0 0 0 0 0 0 0 0 0 0]\n",
      " [4 4 3 4 4 3 4 4 2 4 0 0 0 0 0 0 0 0 0 0 0 0 0 0 0 0 0 0 0 0 0 0]\n",
      " [1 4 3 4 4 1 1 1 1 2 0 0 0 0 0 0 0 0 0 0 0 0 0 0 0 0 0 0 0 0 0 0]\n",
      " [2 3 4 4 4 4 4 2 2 2 0 0 0 0 0 0 0 0 0 0 0 0 0 0 0 0 0 0 0 0 0 0]]\n"
     ]
    },
    {
     "name": "stdout",
     "output_type": "stream",
     "text": [
      " 34/100 [=========>....................] - ETA: 9:00 - loss: 4.2835 - rpn_class_loss: 0.2635 - rpn_bbox_loss: 1.0457 - mrcnn_class_loss: 1.4827 - mrcnn_bbox_loss: 0.8078 - mrcnn_mask_loss: 0.6837[0 1 2 3 4] 2\n",
      "map_dict {2: 0, 0: 1, 1: 3, 3: 2, 4: 4}\n",
      "reassigned_labels [0 3 2 0 2 0 2 0 2 2 1 0 0 0 0 0 1 4 1 0 4 1 0 1 0 4 1 1 1 0 0 0 2 2 2 2 2\n",
      " 3 2 2 3 3 1 0 1 4 0 1 4 1 1 1 4 1 1 0 1 0 1 0 0 4 0 0 3 2 3 3 2 2 3 2 3 2\n",
      " 1 1 1 4 1 1 0 0 4 4 1 1 1 1 1 1 1 1 1 1 0 0 2 0 0 2 4 2 0 2 2 2 0 0 4 1 1\n",
      " 4 4 1 0 1 1 2 1 0 4 0 4 4 0 1 0 0 0 2 3 2 0 2 2 0 2 2 4 0 0 1 0 1 0 1 1 1\n",
      " 4 1 0 1 0 1 1 1 4 0 0 0 3 0 3 3 3 3 3 3 2 2 4 4 1 1 0 4 0 4 1 1 1 4 4 0 0\n",
      " 4 1 1 1 0 0 0 2 0 2 3 0 2 3 2 1 3 0 1 1 1 1 1 1 4 1 4 1 4 1 4 1 1 1 1 1 0\n",
      " 0 0 2 2 2 0 2 2 0 2 2 2 1 1 4 0 0 1 1 1 1 1 1 1 4 1 0 1 1 1 1 0 0 0]\n",
      "gt_ids [[3 4 2 1 4 1 2 1 4 2 0 0 0 0 0 0 0 0 0 0 0 0 0 0 0 0 0 0 0 0 0 0]\n",
      " [2 1 2 3 3 4 3 2 4 4 0 0 0 0 0 0 0 0 0 0 0 0 0 0 0 0 0 0 0 0 0 0]\n",
      " [4 2 4 4 4 2 4 3 4 2 0 0 0 0 0 0 0 0 0 0 0 0 0 0 0 0 0 0 0 0 0 0]\n",
      " [2 1 3 3 4 2 3 2 4 4 0 0 0 0 0 0 0 0 0 0 0 0 0 0 0 0 0 0 0 0 0 0]\n",
      " [3 2 4 4 3 2 2 1 2 2 0 0 0 0 0 0 0 0 0 0 0 0 0 0 0 0 0 0 0 0 0 0]\n",
      " [4 3 4 4 4 4 4 4 3 3 0 0 0 0 0 0 0 0 0 0 0 0 0 0 0 0 0 0 0 0 0 0]\n",
      " [1 1 1 4 1 3 4 1 1 4 0 0 0 0 0 0 0 0 0 0 0 0 0 0 0 0 0 0 0 0 0 0]\n",
      " [2 4 4 3 2 2 3 3 2 2 0 0 0 0 0 0 0 0 0 0 0 0 0 0 0 0 0 0 0 0 0 0]]\n",
      " 35/100 [=========>....................] - ETA: 8:42 - loss: 4.2127 - rpn_class_loss: 0.2575 - rpn_bbox_loss: 1.0372 - mrcnn_class_loss: 1.4557 - mrcnn_bbox_loss: 0.7911 - mrcnn_mask_loss: 0.6713[0 1 2 3 4] 4\n",
      "map_dict {4: 0, 0: 1, 1: 4, 2: 2, 3: 3}\n",
      "reassigned_labels [0 2 2 2 2 0 2 2 2 2 1 1 0 0 4 0 2 1 1 0 1 1 1 1 0 4 1 1 0 0 0 0 2 2 3 2 3\n",
      " 2 2 2 2 3 1 0 1 0 1 4 1 4 1 4 4 1 1 4 0 4 0 1 1 0 0 0 2 3 2 2 3 2 3 3 3 2\n",
      " 1 4 1 0 1 4 0 1 1 4 0 0 0 1 4 4 4 0 1 0 0 0 2 2 2 1 2 2 0 2 2 2 0 4 1 4 1\n",
      " 0 4 1 0 1 1 4 0 4 1 1 0 0 1 4 0 0 2 2 3 2 2 2 1 2 2 2 1 1 1 1 0 0 1 4 1 1\n",
      " 4 1 0 4 1 0 1 0 1 1 0 0 3 3 3 3 2 2 3 2 3 2 1 1 0 1 0 4 0 0 0 1 0 1 1 1 1\n",
      " 1 1 1 1 1 0 0 2 2 2 3 2 3 1 3 2 0 1 1 4 1 1 0 1 0 1 3 1 0 1 0 1 0 0 1 1 1\n",
      " 0 0 3 2 2 2 0 2 2 0 2 2 1 1 1 0 1 1 1 1 1 0 4 1 1 1 1 1 1 1 1 1 0 0]\n",
      "gt_ids [[1 2 2 2 2 1 2 2 4 3 0 0 0 0 0 0 0 0 0 0 0 0 0 0 0 0 0 0 0 0 0 0]\n",
      " [3 2 4 2 4 2 2 2 3 4 0 0 0 0 0 0 0 0 0 0 0 0 0 0 0 0 0 0 0 0 0 0]\n",
      " [2 4 1 4 4 2 4 4 4 3 0 0 0 0 0 0 0 0 0 0 0 0 0 0 0 0 0 0 0 0 0 0]\n",
      " [2 2 2 1 2 2 3 2 3 4 0 0 0 0 0 0 0 0 0 0 0 0 0 0 0 0 0 0 0 0 0 0]\n",
      " [2 3 4 2 2 2 1 2 4 2 0 0 0 0 0 0 0 0 0 0 0 0 0 0 0 0 0 0 0 0 0 0]\n",
      " [4 4 4 4 3 3 4 3 4 3 0 0 0 0 0 0 0 0 0 0 0 0 0 0 0 0 0 0 0 0 0 0]\n",
      " [3 1 1 4 2 4 1 4 1 1 0 0 0 0 0 0 0 0 0 0 0 0 0 0 0 0 0 0 0 0 0 0]\n",
      " [4 4 2 2 3 2 3 3 4 4 0 0 0 0 0 0 0 0 0 0 0 0 0 0 0 0 0 0 0 0 0 0]]\n",
      " 36/100 [=========>....................] - ETA: 8:25 - loss: 4.1408 - rpn_class_loss: 0.2518 - rpn_bbox_loss: 1.0288 - mrcnn_class_loss: 1.4260 - mrcnn_bbox_loss: 0.7752 - mrcnn_mask_loss: 0.6589[0 1 2 3 4] 0\n",
      "map_dict {0: 0, 1: 3, 2: 2, 3: 1, 4: 4}\n",
      "reassigned_labels [0 0 2 2 2 2 3 0 2 2 0 0 0 0 0 0 1 1 1 0 0 1 1 0 0 0 1 0 4 0 0 0 3 3 3 0 4\n",
      " 2 2 2 2 3 1 0 1 2 0 4 1 1 0 1 0 1 1 4 1 1 4 0 1 0 0 0 3 2 3 3 2 2 2 3 2 2\n",
      " 1 4 4 4 1 1 1 1 1 2 1 4 1 0 0 1 0 1 0 1 0 0 3 2 2 2 3 2 2 2 2 2 2 1 0 4 0\n",
      " 0 0 0 0 1 0 4 0 0 4 1 1 0 1 0 0 0 2 2 2 2 2 2 2 3 2 2 1 0 0 4 0 1 1 4 4 1\n",
      " 0 4 1 2 1 4 0 1 1 1 0 0 3 2 2 3 2 3 0 3 3 3 1 4 1 4 1 1 1 1 1 4 1 0 0 0 0\n",
      " 1 1 4 1 0 0 0 0 3 2 2 2 3 3 2 2 1 0 1 1 1 1 1 0 1 1 4 4 0 1 1 1 1 1 1 1 4\n",
      " 0 0 0 4 2 4 3 2 2 3 3 2 1 4 1 1 1 1 1 1 4 0 1 0 1 0 1 1 0 0 0 0 0 0]\n",
      "gt_ids [[1 1 4 2 2 2 4 1 2 4 0 0 0 0 0 0 0 0 0 0 0 0 0 0 0 0 0 0 0 0 0 0]\n",
      " [4 4 4 1 4 3 2 1 2 4 0 0 0 0 0 0 0 0 0 0 0 0 0 0 0 0 0 0 0 0 0 0]\n",
      " [4 4 4 4 2 2 4 4 2 1 0 0 0 0 0 0 0 0 0 0 0 0 0 0 0 0 0 0 0 0 0 0]\n",
      " [4 2 4 3 4 2 2 3 4 2 0 0 0 0 0 0 0 0 0 0 0 0 0 0 0 0 0 0 0 0 0 0]\n",
      " [3 4 2 2 2 1 1 2 2 2 0 0 0 0 0 0 0 0 0 0 0 0 0 0 0 0 0 0 0 0 0 0]\n",
      " [4 3 2 4 3 4 3 4 4 4 0 0 0 0 0 0 0 0 0 0 0 0 0 0 0 0 0 0 0 0 0 0]\n",
      " [1 4 1 1 2 4 4 1 3 1 0 0 0 0 0 0 0 0 0 0 0 0 0 0 0 0 0 0 0 0 0 0]\n",
      " [3 4 2 4 4 2 2 4 4 2 0 0 0 0 0 0 0 0 0 0 0 0 0 0 0 0 0 0 0 0 0 0]]\n",
      " 37/100 [==========>...................] - ETA: 8:08 - loss: 4.0730 - rpn_class_loss: 0.2465 - rpn_bbox_loss: 1.0205 - mrcnn_class_loss: 1.3979 - mrcnn_bbox_loss: 0.7597 - mrcnn_mask_loss: 0.6485[0 1 2 3 4] 0\n",
      "map_dict {0: 0, 1: 3, 2: 1, 3: 4, 4: 2}\n",
      "reassigned_labels [3 2 2 2 2 3 0 2 2 2 0 0 1 0 1 0 0 0 0 1 0 0 0 0 0 0 1 0 1 0 0 0 0 3 2 2 2\n",
      " 2 2 3 2 3 1 0 1 4 1 4 0 1 0 1 4 1 1 4 1 1 4 1 1 1 0 0 3 2 2 3 3 2 2 3 2 3\n",
      " 1 1 1 0 1 4 1 1 1 4 0 0 1 0 1 0 0 1 0 4 0 0 2 2 1 2 0 0 2 2 2 2 4 4 4 1 0\n",
      " 0 0 1 1 0 0 1 1 1 1 0 0 1 0 1 0 0 2 2 2 2 2 3 0 2 3 2 4 0 1 1 0 4 1 1 2 0\n",
      " 0 4 1 1 0 1 1 0 1 2 0 0 2 3 2 2 3 3 3 2 2 3 1 1 4 1 1 4 0 1 1 1 4 1 1 1 1\n",
      " 1 1 1 1 1 0 0 1 2 2 3 2 2 2 3 3 2 1 1 0 1 1 1 0 1 1 0 1 1 4 4 4 1 1 1 1 0\n",
      " 0 0 2 2 2 3 2 0 2 2 3 2 0 4 1 1 1 0 1 1 1 1 1 1 1 1 0 1 0 1 1 0 0 0]\n",
      "gt_ids [[4 2 2 2 2 4 1 2 2 2 0 0 0 0 0 0 0 0 0 0 0 0 0 0 0 0 0 0 0 0 0 0]\n",
      " [1 4 3 2 2 3 2 4 3 4 0 0 0 0 0 0 0 0 0 0 0 0 0 0 0 0 0 0 0 0 0 0]\n",
      " [4 4 1 4 4 1 2 4 2 4 0 0 0 0 0 0 0 0 0 0 0 0 0 0 0 0 0 0 0 0 0 0]\n",
      " [3 4 1 2 1 1 2 2 2 2 0 0 0 0 0 0 0 0 0 0 0 0 0 0 0 0 0 0 0 0 0 0]\n",
      " [2 2 2 1 3 4 3 2 4 2 0 0 0 0 0 0 0 0 0 0 0 0 0 0 0 0 0 0 0 0 0 0]\n",
      " [3 4 3 2 4 4 4 3 2 4 0 0 0 0 0 0 0 0 0 0 0 0 0 0 0 0 0 0 0 0 0 0]\n",
      " [1 2 2 4 3 1 1 4 4 2 0 0 0 0 0 0 0 0 0 0 0 0 0 0 0 0 0 0 0 0 0 0]\n",
      " [4 2 4 4 2 3 2 2 4 2 0 0 0 0 0 0 0 0 0 0 0 0 0 0 0 0 0 0 0 0 0 0]]\n",
      " 38/100 [==========>...................] - ETA: 7:52 - loss: 4.0055 - rpn_class_loss: 0.2414 - rpn_bbox_loss: 1.0122 - mrcnn_class_loss: 1.3698 - mrcnn_bbox_loss: 0.7453 - mrcnn_mask_loss: 0.6368[0 1 2 3 4] 3\n",
      "map_dict {3: 0, 0: 2, 1: 1, 2: 4, 4: 3}\n",
      "reassigned_labels [0 2 2 2 0 2 2 0 2 2 0 1 0 1 0 4 0 0 4 0 1 4 1 4 0 4 4 1 0 1 0 0 2 3 0 3 2\n",
      " 2 2 3 2 3 1 1 0 1 0 1 0 1 1 1 4 1 4 1 1 1 1 1 1 4 0 0 3 2 2 2 3 2 3 3 3 2\n",
      " 1 0 1 1 1 1 1 1 0 4 0 1 4 1 0 0 1 1 1 4 0 0 1 2 2 2 0 3 2 2 2 3 1 0 1 1 4\n",
      " 1 1 1 1 1 0 0 4 4 4 0 1 4 1 4 0 0 1 0 2 2 2 2 2 2 2 2 1 1 1 4 1 4 1 1 1 1\n",
      " 1 1 1 0 1 0 1 1 0 0 0 0 2 2 3 3 3 3 3 2 3 3 4 1 1 1 1 1 4 1 4 1 4 4 1 1 0\n",
      " 1 1 4 4 4 0 0 2 3 2 2 2 2 2 3 3 2 0 1 1 1 1 1 1 0 1 1 1 1 1 1 1 1 1 0 1 1\n",
      " 0 0 2 2 2 2 2 2 0 2 2 2 3 0 0 1 4 1 1 1 1 1 1 1 1 0 1 0 1 3 1 0 0 0]\n",
      "gt_ids [[3 2 2 2 1 2 2 1 4 2 0 0 0 0 0 0 0 0 0 0 0 0 0 0 0 0 0 0 0 0 0 0]\n",
      " [4 4 1 4 3 3 3 4 3 4 0 0 0 0 0 0 0 0 0 0 0 0 0 0 0 0 0 0 0 0 0 0]\n",
      " [4 2 4 2 4 2 4 4 4 3 0 0 0 0 0 0 0 0 0 0 0 0 0 0 0 0 0 0 0 0 0 0]\n",
      " [1 4 4 4 1 4 2 2 2 4 0 0 0 0 0 0 0 0 0 0 0 0 0 0 0 0 0 0 0 0 0 0]\n",
      " [1 1 2 2 2 2 2 1 2 2 0 0 0 0 0 0 0 0 0 0 0 0 0 0 0 0 0 0 0 0 0 0]\n",
      " [2 3 4 4 4 4 4 1 4 4 0 0 0 0 0 0 0 0 0 0 0 0 0 0 0 0 0 0 0 0 0 0]\n",
      " [1 4 1 2 2 2 3 4 4 1 0 0 0 0 0 0 0 0 0 0 0 0 0 0 0 0 0 0 0 0 0 0]\n",
      " [2 4 4 4 2 2 3 2 2 4 0 0 0 0 0 0 0 0 0 0 0 0 0 0 0 0 0 0 0 0 0 0]]\n",
      " 39/100 [==========>...................] - ETA: 7:38 - loss: 3.9414 - rpn_class_loss: 0.2365 - rpn_bbox_loss: 1.0039 - mrcnn_class_loss: 1.3447 - mrcnn_bbox_loss: 0.7311 - mrcnn_mask_loss: 0.6251[0 1 2 3 4] 2\n",
      "map_dict {2: 0, 0: 4, 1: 3, 3: 2, 4: 1}\n",
      "reassigned_labels [0 1 2 2 2 2 2 2 3 2 0 0 2 4 4 4 0 0 0 1 4 1 4 4 4 0 0 0 0 0 1 1 2 3 3 1 2\n",
      " 2 2 3 2 2 1 0 0 1 0 0 0 0 0 3 0 0 4 1 1 0 0 0 0 1 1 1 2 3 2 3 3 3 2 2 2 4\n",
      " 0 0 0 0 0 4 1 0 0 0 1 0 4 1 1 0 0 1 1 0 1 1 2 2 2 2 2 2 2 1 2 3 0 4 4 0 1\n",
      " 0 1 1 1 1 0 0 0 4 0 4 4 0 1 1 1 1 2 2 2 2 2 2 2 2 2 2 0 0 0 0 0 0 4 1 1 0\n",
      " 0 0 0 0 1 4 4 1 2 0 1 1 3 3 3 2 2 3 3 2 3 3 1 4 0 0 4 0 0 4 0 0 0 4 0 0 0\n",
      " 0 0 0 0 1 1 1 2 2 3 2 3 2 2 3 2 0 1 0 1 0 4 0 0 0 0 0 0 0 0 0 0 4 0 0 0 0\n",
      " 1 1 2 3 2 2 2 1 2 3 2 2 1 0 1 0 1 0 4 1 1 4 1 4 0 0 0 4 0 0 0 0 1 1]\n",
      "gt_ids [[1 1 4 2 4 2 4 2 4 3 0 0 0 0 0 0 0 0 0 0 0 0 0 0 0 0 0 0 0 0 0 0]\n",
      " [3 4 4 1 2 1 2 4 4 2 0 0 0 0 0 0 0 0 0 0 0 0 0 0 0 0 0 0 0 0 0 0]\n",
      " [1 4 1 4 4 4 4 4 4 3 0 0 0 0 0 0 0 0 0 0 0 0 0 0 0 0 0 0 0 0 0 0]\n",
      " [2 2 4 2 2 4 2 1 2 4 0 0 0 0 0 0 0 0 0 0 0 0 0 0 0 0 0 0 0 0 0 0]\n",
      " [2 1 4 2 2 1 2 2 3 2 0 0 0 0 0 0 0 0 0 0 0 0 0 0 0 0 0 0 0 0 0 0]\n",
      " [4 4 4 2 3 4 4 2 4 4 0 0 0 0 0 0 0 0 0 0 0 0 0 0 0 0 0 0 0 0 0 0]\n",
      " [3 2 4 1 4 1 2 4 2 1 0 0 0 0 0 0 0 0 0 0 0 0 0 0 0 0 0 0 0 0 0 0]\n",
      " [2 4 2 2 4 3 2 4 2 2 0 0 0 0 0 0 0 0 0 0 0 0 0 0 0 0 0 0 0 0 0 0]]\n",
      " 40/100 [===========>..................] - ETA: 7:23 - loss: 3.9200 - rpn_class_loss: 0.2318 - rpn_bbox_loss: 0.9957 - mrcnn_class_loss: 1.3566 - mrcnn_bbox_loss: 0.7197 - mrcnn_mask_loss: 0.6162[0 1 2 3 4] 0\n",
      "map_dict {0: 0, 1: 2, 2: 3, 3: 4, 4: 1}\n",
      "reassigned_labels [1 2 1 2 1 1 3 3 3 3 0 0 3 0 4 0 3 0 3 0 0 3 3 3 3 0 0 3 4 0 3 3 1 2 2 1 2\n",
      " 2 2 2 2 2 0 0 4 0 0 0 0 3 0 0 0 0 3 0 0 0 0 0 0 0 3 3 2 1 1 1 1 2 2 1 2 2\n",
      " 4 0 4 0 0 0 4 4 0 3 0 0 0 0 0 3 0 0 0 0 3 3 3 3 2 2 2 0 2 2 2 3 3 3 0 0 0\n",
      " 4 0 0 4 0 4 0 3 3 3 4 0 3 4 0 3 3 3 2 2 2 2 3 2 3 3 2 3 0 0 3 0 0 3 0 0 0\n",
      " 0 0 0 3 3 3 0 4 0 0 3 3 1 2 3 2 1 2 1 1 1 1 4 1 3 0 0 0 0 4 0 0 0 0 3 4 4\n",
      " 3 0 3 0 4 3 3 1 1 2 2 0 2 2 2 1 3 0 4 0 0 0 0 0 0 0 0 0 0 4 0 4 0 0 2 0 0\n",
      " 3 3 3 2 2 2 2 4 2 2 2 1 0 3 0 0 0 0 3 4 3 4 3 3 0 3 0 0 0 0 3 3 3 3]\n",
      "gt_ids [[4 2 4 2 4 4 4 1 1 1 0 0 0 0 0 0 0 0 0 0 0 0 0 0 0 0 0 0 0 0 0 0]\n",
      " [4 3 2 4 2 4 2 3 3 2 0 0 0 0 0 0 0 0 0 0 0 0 0 0 0 0 0 0 0 0 0 0]\n",
      " [2 4 4 4 4 1 1 4 4 2 0 0 0 0 0 0 0 0 0 0 0 0 0 0 0 0 0 0 0 0 0 0]\n",
      " [1 2 4 2 2 1 3 4 2 4 0 0 0 0 0 0 0 0 0 0 0 0 0 0 0 0 0 0 0 0 0 0]\n",
      " [1 2 2 2 2 1 2 3 3 2 0 0 0 0 0 0 0 0 0 0 0 0 0 0 0 0 0 0 0 0 0 0]\n",
      " [4 3 3 3 4 3 4 4 4 4 0 0 0 0 0 0 0 0 0 0 0 0 0 0 0 0 0 0 0 0 0 0]\n",
      " [4 4 2 2 1 2 1 3 4 1 0 0 0 0 0 0 0 0 0 0 0 0 0 0 0 0 0 0 0 0 0 0]\n",
      " [3 2 2 4 2 4 2 4 2 4 0 0 0 0 0 0 0 0 0 0 0 0 0 0 0 0 0 0 0 0 0 0]]\n"
     ]
    },
    {
     "name": "stdout",
     "output_type": "stream",
     "text": [
      " 41/100 [===========>..................] - ETA: 7:09 - loss: 3.9291 - rpn_class_loss: 0.2273 - rpn_bbox_loss: 0.9875 - mrcnn_class_loss: 1.3910 - mrcnn_bbox_loss: 0.7103 - mrcnn_mask_loss: 0.6130[0 1 2 3 4] 0\n",
      "map_dict {0: 0, 1: 1, 2: 4, 3: 2, 4: 3}\n",
      "reassigned_labels [2 2 2 2 3 2 0 2 3 2 0 1 0 1 1 1 0 1 4 1 0 1 0 1 1 1 1 1 0 0 0 0 2 2 3 3 2\n",
      " 3 3 2 2 2 1 1 4 2 1 0 0 4 1 1 0 1 0 0 1 1 0 0 0 1 0 0 2 3 3 3 3 2 3 2 2 2\n",
      " 1 0 1 1 1 1 0 1 1 4 1 1 4 4 1 1 0 0 4 1 0 0 2 2 0 2 2 2 2 2 2 2 0 4 0 0 1\n",
      " 4 0 0 4 0 4 0 1 4 1 0 1 4 1 0 0 0 2 2 2 2 2 3 2 2 0 2 1 1 1 4 4 0 0 0 1 4\n",
      " 0 0 1 4 1 0 0 0 0 0 0 0 3 3 3 3 3 2 2 3 2 3 3 4 1 1 4 1 1 0 1 1 1 0 1 1 1\n",
      " 1 1 1 0 4 0 0 3 2 2 3 2 3 2 2 2 1 1 1 1 1 0 0 1 1 1 4 1 4 1 0 0 1 1 1 0 4\n",
      " 0 0 2 2 4 2 2 2 2 3 2 2 1 0 1 1 1 0 1 1 0 1 1 0 0 4 1 4 0 0 1 1 0 0]\n",
      "gt_ids [[2 2 2 4 4 4 1 2 4 4 0 0 0 0 0 0 0 0 0 0 0 0 0 0 0 0 0 0 0 0 0 0]\n",
      " [3 2 4 4 4 4 4 2 2 2 0 0 0 0 0 0 0 0 0 0 0 0 0 0 0 0 0 0 0 0 0 0]\n",
      " [2 4 4 4 4 3 4 4 2 1 0 0 0 0 0 0 0 0 0 0 0 0 0 0 0 0 0 0 0 0 0 0]\n",
      " [4 2 1 4 2 2 2 3 2 2 0 0 0 0 0 0 0 0 0 0 0 0 0 0 0 0 0 0 0 0 0 0]\n",
      " [3 4 2 2 3 4 4 2 3 2 0 0 0 0 0 0 0 0 0 0 0 0 0 0 0 0 0 0 0 0 0 0]\n",
      " [4 4 4 4 4 2 3 4 2 4 0 0 0 0 0 0 0 0 0 0 0 0 0 0 0 0 0 0 0 0 0 0]\n",
      " [4 3 1 4 2 4 2 1 1 1 0 0 0 0 0 0 0 0 0 0 0 0 0 0 0 0 0 0 0 0 0 0]\n",
      " [2 2 4 2 4 3 2 4 2 2 0 0 0 0 0 0 0 0 0 0 0 0 0 0 0 0 0 0 0 0 0 0]]\n",
      " 42/100 [===========>..................] - ETA: 6:56 - loss: 3.8732 - rpn_class_loss: 0.2230 - rpn_bbox_loss: 0.9794 - mrcnn_class_loss: 1.3705 - mrcnn_bbox_loss: 0.6976 - mrcnn_mask_loss: 0.6026[0 1 2 3 4] 4\n",
      "map_dict {4: 0, 0: 1, 1: 4, 2: 2, 3: 3}\n",
      "reassigned_labels [2 3 3 3 2 2 2 3 3 3 1 1 0 1 0 1 0 0 0 1 0 1 0 0 1 4 1 0 1 1 0 0 2 3 3 2 3\n",
      " 2 2 2 3 3 1 2 1 1 1 1 1 1 4 4 1 1 4 1 1 1 1 1 1 1 0 0 2 2 3 4 2 2 2 2 3 3\n",
      " 4 3 1 2 4 1 4 0 1 1 4 1 1 0 4 1 1 1 1 0 0 0 2 2 2 1 2 0 1 0 1 3 0 1 1 1 1\n",
      " 0 1 4 1 0 1 1 1 1 4 1 1 1 0 1 0 0 3 2 2 2 2 2 3 2 2 2 0 1 0 1 4 1 1 0 1 1\n",
      " 1 1 1 1 1 1 4 1 1 1 0 0 2 2 3 2 2 2 3 2 3 3 1 0 1 1 4 1 2 1 1 4 1 1 0 1 4\n",
      " 4 2 4 1 0 0 0 2 3 1 3 3 2 2 2 2 2 4 1 1 1 0 1 1 4 1 0 1 1 1 4 1 1 4 0 1 1\n",
      " 0 0 2 2 3 3 2 2 3 2 2 2 0 4 1 0 1 0 0 1 1 0 0 1 1 0 1 1 1 1 0 4 0 0]\n",
      "gt_ids [[1 2 4 4 2 3 3 4 4 4 0 0 0 0 0 0 0 0 0 0 0 0 0 0 0 0 0 0 0 0 0 0]\n",
      " [2 2 2 3 4 2 3 3 4 4 0 0 0 0 0 0 0 0 0 0 0 0 0 0 0 0 0 0 0 0 0 0]\n",
      " [3 3 4 3 4 4 1 1 2 4 0 0 0 0 0 0 0 0 0 0 0 0 0 0 0 0 0 0 0 0 0 0]\n",
      " [2 2 2 1 2 4 1 1 1 2 0 0 0 0 0 0 0 0 0 0 0 0 0 0 0 0 0 0 0 0 0 0]\n",
      " [4 1 2 2 3 2 4 2 2 2 0 0 0 0 0 0 0 0 0 0 0 0 0 0 0 0 0 0 0 0 0 0]\n",
      " [2 3 4 3 2 3 4 3 4 4 0 0 0 0 0 0 0 0 0 0 0 0 0 0 0 0 0 0 0 0 0 0]\n",
      " [1 4 1 4 4 2 1 3 1 2 0 0 0 0 0 0 0 0 0 0 0 0 0 0 0 0 0 0 0 0 0 0]\n",
      " [2 2 4 4 4 4 4 2 2 2 0 0 0 0 0 0 0 0 0 0 0 0 0 0 0 0 0 0 0 0 0 0]]\n",
      " 43/100 [===========>..................] - ETA: 6:43 - loss: 3.8275 - rpn_class_loss: 0.2189 - rpn_bbox_loss: 0.9715 - mrcnn_class_loss: 1.3583 - mrcnn_bbox_loss: 0.6855 - mrcnn_mask_loss: 0.5933[0 1 2 3 4] 3\n",
      "map_dict {3: 0, 0: 4, 1: 1, 2: 2, 4: 3}\n",
      "reassigned_labels [2 2 3 0 0 2 2 0 3 2 1 1 1 1 1 0 0 1 4 3 0 4 1 0 1 1 0 1 1 0 0 0 2 2 2 3 2\n",
      " 2 3 2 3 3 4 1 1 1 1 1 1 1 1 4 1 1 1 1 1 1 4 1 0 0 0 0 0 2 3 3 3 3 2 2 3 3\n",
      " 4 0 1 4 4 0 1 1 4 1 1 4 1 4 4 1 4 1 0 1 0 0 2 2 2 2 2 2 2 2 2 2 0 1 1 0 1\n",
      " 1 0 0 4 1 0 4 1 4 0 0 0 1 2 0 0 0 2 0 2 2 2 2 1 2 3 2 1 4 0 1 4 0 1 4 4 1\n",
      " 1 0 1 1 1 4 1 1 1 1 0 0 3 3 3 3 2 2 2 2 2 2 1 1 0 1 4 0 1 0 0 0 0 0 1 0 1\n",
      " 1 0 1 1 1 0 0 2 2 2 3 1 2 2 3 3 2 0 1 0 1 1 1 0 0 1 0 1 1 1 1 1 1 1 1 0 1\n",
      " 0 0 2 2 2 2 2 2 3 0 2 2 4 1 0 1 4 1 2 4 1 1 1 1 1 0 0 0 1 1 0 1 0 0]\n",
      "gt_ids [[2 4 4 1 1 2 2 3 4 4 0 0 0 0 0 0 0 0 0 0 0 0 0 0 0 0 0 0 0 0 0 0]\n",
      " [2 2 3 4 3 2 4 2 4 4 0 0 0 0 0 0 0 0 0 0 0 0 0 0 0 0 0 0 0 0 0 0]\n",
      " [3 1 4 4 4 4 2 2 4 4 0 0 0 0 0 0 0 0 0 0 0 0 0 0 0 0 0 0 0 0 0 0]\n",
      " [4 2 2 4 2 3 2 2 4 3 0 0 0 0 0 0 0 0 0 0 0 0 0 0 0 0 0 0 0 0 0 0]\n",
      " [2 3 2 2 2 1 1 2 4 2 0 0 0 0 0 0 0 0 0 0 0 0 0 0 0 0 0 0 0 0 0 0]\n",
      " [4 4 4 4 3 2 2 3 2 3 0 0 0 0 0 0 0 0 0 0 0 0 0 0 0 0 0 0 0 0 0 0]\n",
      " [2 2 2 4 1 3 1 4 4 1 0 0 0 0 0 0 0 0 0 0 0 0 0 0 0 0 0 0 0 0 0 0]\n",
      " [2 4 2 2 2 4 4 3 4 4 0 0 0 0 0 0 0 0 0 0 0 0 0 0 0 0 0 0 0 0 0 0]]\n",
      " 44/100 [============>.................] - ETA: 6:31 - loss: 3.7749 - rpn_class_loss: 0.2150 - rpn_bbox_loss: 0.9637 - mrcnn_class_loss: 1.3392 - mrcnn_bbox_loss: 0.6735 - mrcnn_mask_loss: 0.5835[0 1 2 3 4] 2\n",
      "map_dict {2: 0, 0: 1, 1: 3, 3: 4, 4: 2}\n",
      "reassigned_labels [0 3 2 0 2 3 0 3 0 2 0 0 4 0 4 1 1 4 0 3 0 4 0 0 0 1 4 1 0 1 0 0 3 2 3 2 2\n",
      " 2 3 2 2 2 1 1 3 1 4 1 4 0 4 4 1 1 2 4 1 4 1 1 0 1 0 0 3 2 2 4 3 2 2 2 3 2\n",
      " 1 1 4 1 1 0 1 1 4 0 1 0 1 0 4 1 0 0 4 4 0 0 2 2 2 2 2 2 2 2 2 3 0 0 4 4 4\n",
      " 1 0 0 0 4 1 0 1 0 0 1 4 0 4 4 0 0 2 2 2 2 2 2 2 2 2 1 4 1 1 1 1 1 1 0 4 4\n",
      " 1 1 1 1 1 1 0 0 0 0 0 0 3 2 3 2 3 2 3 2 3 3 1 0 4 1 1 0 1 4 1 1 4 0 0 1 1\n",
      " 1 1 0 4 0 0 0 1 2 2 3 3 3 2 2 2 2 1 1 1 0 1 1 1 0 1 1 0 1 1 1 1 0 1 1 1 1\n",
      " 0 0 2 2 2 3 2 2 2 2 2 2 1 1 1 1 1 1 1 1 1 1 1 1 1 4 1 4 1 4 1 1 0 0]\n",
      "gt_ids [[1 4 2 1 1 4 1 4 1 2 0 0 0 0 0 0 0 0 0 0 0 0 0 0 0 0 0 0 0 0 0 0]\n",
      " [4 3 4 3 2 1 4 3 2 3 0 0 0 0 0 0 0 0 0 0 0 0 0 0 0 0 0 0 0 0 0 0]\n",
      " [4 2 4 3 4 2 1 3 4 4 0 0 0 0 0 0 0 0 0 0 0 0 0 0 0 0 0 0 0 0 0 0]\n",
      " [4 2 2 2 2 4 2 4 2 4 0 0 0 0 0 0 0 0 0 0 0 0 0 0 0 0 0 0 0 0 0 0]\n",
      " [3 2 2 2 1 2 4 2 3 1 0 0 0 0 0 0 0 0 0 0 0 0 0 0 0 0 0 0 0 0 0 0]\n",
      " [4 2 4 3 4 3 4 1 4 4 0 0 0 0 0 0 0 0 0 0 0 0 0 0 0 0 0 0 0 0 0 0]\n",
      " [1 2 1 4 4 4 1 1 2 2 0 0 0 0 0 0 0 0 0 0 0 0 0 0 0 0 0 0 0 0 0 0]\n",
      " [4 2 2 4 2 4 3 2 3 2 0 0 0 0 0 0 0 0 0 0 0 0 0 0 0 0 0 0 0 0 0 0]]\n",
      " 45/100 [============>.................] - ETA: 6:19 - loss: 3.7187 - rpn_class_loss: 0.2112 - rpn_bbox_loss: 0.9561 - mrcnn_class_loss: 1.3145 - mrcnn_bbox_loss: 0.6624 - mrcnn_mask_loss: 0.5746[0 1 2 3 4] 0\n",
      "map_dict {0: 0, 1: 3, 2: 1, 3: 4, 4: 2}\n",
      "reassigned_labels [0 2 0 2 2 0 3 2 0 2 4 1 4 4 1 2 1 1 0 0 4 0 0 4 4 0 1 1 4 0 0 0 2 2 2 2 3\n",
      " 0 3 2 2 2 0 1 0 4 1 1 4 1 1 0 1 1 4 1 0 1 4 1 1 0 0 0 4 2 2 4 3 4 3 3 2 3\n",
      " 4 1 4 1 1 1 0 1 1 0 1 1 1 4 4 0 0 1 1 0 0 0 2 2 2 2 2 0 2 3 2 2 0 4 0 1 0\n",
      " 1 1 1 1 0 0 0 0 4 1 1 4 1 1 0 0 0 2 2 2 2 2 2 2 1 2 0 4 1 0 1 4 0 1 0 1 0\n",
      " 4 0 1 1 1 1 1 4 1 1 0 0 2 0 2 3 2 3 3 3 2 2 4 1 0 4 4 1 4 1 4 4 1 0 0 1 1\n",
      " 1 1 1 1 1 0 0 2 3 2 2 3 1 2 3 2 2 1 1 1 1 1 1 4 1 1 3 1 1 3 4 1 1 1 4 1 1\n",
      " 0 0 3 2 2 3 2 2 2 2 2 2 1 1 1 4 0 1 1 1 1 1 1 1 1 1 0 4 1 1 1 1 0 0]\n",
      "gt_ids [[3 4 1 2 2 1 4 2 1 2 0 0 0 0 0 0 0 0 0 0 0 0 0 0 0 0 0 0 0 0 0 0]\n",
      " [2 3 3 3 4 1 4 2 2 2 0 0 0 0 0 0 0 0 0 0 0 0 0 0 0 0 0 0 0 0 0 0]\n",
      " [3 4 3 3 4 3 4 4 2 4 0 0 0 0 0 0 0 0 0 0 0 0 0 0 0 0 0 0 0 0 0 0]\n",
      " [2 2 2 2 2 1 3 4 4 2 0 0 0 0 0 0 0 0 0 0 0 0 0 0 0 0 0 0 0 0 0 0]\n",
      " [2 2 2 2 2 2 2 1 3 1 0 0 0 0 0 0 0 0 0 0 0 0 0 0 0 0 0 0 0 0 0 0]\n",
      " [2 3 3 4 3 4 4 4 2 3 0 0 0 0 0 0 0 0 0 0 0 0 0 0 0 0 0 0 0 0 0 0]\n",
      " [1 4 1 2 4 1 2 4 3 2 0 0 0 0 0 0 0 0 0 0 0 0 0 0 0 0 0 0 0 0 0 0]\n",
      " [4 2 2 4 3 2 2 2 2 4 0 0 0 0 0 0 0 0 0 0 0 0 0 0 0 0 0 0 0 0 0 0]]\n",
      " 46/100 [============>.................] - ETA: 6:07 - loss: 3.6646 - rpn_class_loss: 0.2075 - rpn_bbox_loss: 0.9486 - mrcnn_class_loss: 1.2912 - mrcnn_bbox_loss: 0.6515 - mrcnn_mask_loss: 0.5657[0 1 2 3 4] 3\n",
      "map_dict {3: 0, 0: 4, 1: 1, 2: 2, 4: 3}\n",
      "reassigned_labels [2 3 2 2 3 0 2 0 2 2 0 0 0 1 4 0 1 0 4 1 1 1 1 1 1 0 0 1 4 0 0 0 2 3 3 2 3\n",
      " 2 2 3 2 3 1 1 1 0 1 0 0 1 1 1 1 4 0 1 0 0 1 1 0 4 0 0 4 3 3 3 2 2 3 4 2 3\n",
      " 0 4 1 1 1 1 1 1 4 0 1 4 4 1 0 1 1 0 1 1 0 0 2 1 2 0 2 2 2 2 2 2 4 0 4 1 0\n",
      " 4 1 1 1 2 2 1 0 1 0 4 1 4 0 4 0 0 2 1 2 3 3 2 2 3 2 2 1 1 0 1 1 0 1 1 2 0\n",
      " 4 1 1 0 4 4 0 1 0 1 0 0 3 2 2 2 2 3 3 3 2 2 1 1 1 4 4 4 1 1 1 1 1 1 4 1 1\n",
      " 0 0 1 4 1 0 0 2 3 3 1 2 3 2 2 2 2 4 1 0 1 4 1 0 0 1 1 0 1 0 0 1 1 1 1 4 1\n",
      " 0 0 2 2 3 2 2 2 0 2 2 2 4 4 1 0 1 1 1 0 0 1 1 0 4 1 1 1 4 1 1 1 0 0]\n",
      "gt_ids [[4 4 2 3 4 3 2 1 3 2 0 0 0 0 0 0 0 0 0 0 0 0 0 0 0 0 0 0 0 0 0 0]\n",
      " [2 4 4 3 4 2 2 4 2 4 0 0 0 0 0 0 0 0 0 0 0 0 0 0 0 0 0 0 0 0 0 0]\n",
      " [3 4 4 4 4 3 4 3 1 4 0 0 0 0 0 0 0 0 0 0 0 0 0 0 0 0 0 0 0 0 0 0]\n",
      " [3 1 4 1 2 4 2 2 2 2 0 0 0 0 0 0 0 0 0 0 0 0 0 0 0 0 0 0 0 0 0 0]\n",
      " [2 1 2 2 2 2 4 4 2 2 0 0 0 0 0 0 0 0 0 0 0 0 0 0 0 0 0 0 0 0 0 0]\n",
      " [4 3 3 2 3 4 4 4 1 2 0 0 0 0 0 0 0 0 0 0 0 0 0 0 0 0 0 0 0 0 0 0]\n",
      " [2 4 4 1 2 4 1 3 1 2 0 0 0 0 0 0 0 0 0 0 0 0 0 0 0 0 0 0 0 0 0 0]\n",
      " [2 2 4 2 2 2 3 2 4 4 0 0 0 0 0 0 0 0 0 0 0 0 0 0 0 0 0 0 0 0 0 0]]\n",
      " 47/100 [=============>................] - ETA: 5:56 - loss: 3.6118 - rpn_class_loss: 0.2040 - rpn_bbox_loss: 0.9413 - mrcnn_class_loss: 1.2679 - mrcnn_bbox_loss: 0.6407 - mrcnn_mask_loss: 0.5580[0 1 2 3 4] 2\n",
      "map_dict {2: 0, 0: 1, 1: 2, 3: 4, 4: 3}\n",
      "reassigned_labels [3 2 2 2 3 0 2 2 2 0 4 0 0 1 1 2 2 0 1 2 0 1 1 1 4 0 1 0 4 0 0 0 2 2 2 2 3\n",
      " 2 2 3 2 2 0 1 4 1 1 1 0 1 1 0 1 4 1 1 0 4 1 0 4 4 0 0 3 2 2 3 2 4 3 2 2 3\n",
      " 1 1 0 0 1 1 4 0 1 1 1 4 1 0 1 1 0 1 4 0 0 0 2 2 1 1 2 2 2 2 2 1 1 0 1 4 4\n",
      " 1 4 4 0 0 0 0 1 4 0 1 1 4 0 1 0 0 2 2 2 2 2 2 2 2 1 0 4 1 1 0 0 1 1 1 1 1\n",
      " 4 1 4 1 1 0 1 1 0 0 0 0 3 2 2 2 3 3 2 3 2 2 1 1 0 4 4 1 0 0 1 1 4 2 4 1 1\n",
      " 1 0 1 1 4 0 0 2 2 3 2 2 3 2 3 2 1 1 1 1 1 1 1 4 0 1 1 1 4 4 1 1 1 4 1 4 4\n",
      " 0 0 2 2 2 2 3 2 2 2 2 2 1 1 1 1 1 1 1 0 0 1 0 1 1 1 1 4 1 4 1 1 0 0]\n",
      "gt_ids [[4 2 4 1 4 1 2 4 3 1 0 0 0 0 0 0 0 0 0 0 0 0 0 0 0 0 0 0 0 0 0 0]\n",
      " [4 3 3 2 4 3 3 4 2 3 0 0 0 0 0 0 0 0 0 0 0 0 0 0 0 0 0 0 0 0 0 0]\n",
      " [3 4 3 4 4 3 3 1 2 4 0 0 0 0 0 0 0 0 0 0 0 0 0 0 0 0 0 0 0 0 0 0]\n",
      " [2 3 1 1 2 2 4 3 4 1 0 0 0 0 0 0 0 0 0 0 0 0 0 0 0 0 0 0 0 0 0 0]\n",
      " [3 2 4 2 2 2 2 3 1 3 0 0 0 0 0 0 0 0 0 0 0 0 0 0 0 0 0 0 0 0 0 0]\n",
      " [4 3 2 3 4 4 1 4 3 3 0 0 0 0 0 0 0 0 0 0 0 0 0 0 0 0 0 0 0 0 0 0]\n",
      " [1 1 4 2 2 4 3 4 2 1 0 0 0 0 0 0 0 0 0 0 0 0 0 0 0 0 0 0 0 0 0 0]\n",
      " [2 2 4 2 4 2 2 2 4 2 0 0 0 0 0 0 0 0 0 0 0 0 0 0 0 0 0 0 0 0 0 0]]\n"
     ]
    },
    {
     "name": "stdout",
     "output_type": "stream",
     "text": [
      " 48/100 [=============>................] - ETA: 5:45 - loss: 3.5620 - rpn_class_loss: 0.2006 - rpn_bbox_loss: 0.9341 - mrcnn_class_loss: 1.2465 - mrcnn_bbox_loss: 0.6304 - mrcnn_mask_loss: 0.5504[0 1 2 3 4] 2\n",
      "map_dict {2: 0, 0: 4, 1: 1, 3: 2, 4: 3}\n",
      "reassigned_labels [3 2 0 0 3 0 2 2 2 0 0 4 0 1 0 1 0 2 1 1 1 1 0 1 1 0 4 0 0 1 0 0 2 3 2 3 2\n",
      " 2 2 2 4 2 4 1 0 1 0 1 0 1 1 1 4 1 0 1 4 0 1 4 1 1 0 0 3 2 3 3 4 3 3 2 2 2\n",
      " 4 1 0 4 4 0 0 0 1 4 0 1 1 1 1 1 4 1 0 0 0 0 3 2 1 2 2 2 2 2 3 1 4 1 4 0 1\n",
      " 1 0 4 4 0 0 4 4 0 4 1 0 1 0 4 0 0 0 2 2 2 2 2 2 0 2 2 0 1 1 1 1 1 1 1 1 1\n",
      " 1 1 1 4 0 4 0 4 0 1 0 0 2 2 3 2 2 2 3 3 3 3 0 1 4 1 1 4 1 1 1 1 1 1 1 4 1\n",
      " 0 3 1 0 1 0 0 2 1 2 3 2 2 3 2 2 2 1 1 1 1 4 0 1 1 1 0 1 1 1 1 4 1 1 0 1 1\n",
      " 0 0 2 2 2 2 2 0 3 2 2 2 0 1 1 0 0 1 2 1 1 1 0 1 0 1 2 0 1 0 1 0 0 0]\n",
      "gt_ids [[4 4 1 1 4 1 3 2 2 1 0 0 0 0 0 0 0 0 0 0 0 0 0 0 0 0 0 0 0 0 0 0]\n",
      " [2 4 3 4 3 3 2 2 4 2 0 0 0 0 0 0 0 0 0 0 0 0 0 0 0 0 0 0 0 0 0 0]\n",
      " [4 3 4 4 3 4 4 2 2 4 0 0 0 0 0 0 0 0 0 0 0 0 0 0 0 0 0 0 0 0 0 0]\n",
      " [4 4 1 2 2 2 2 4 4 1 0 0 0 0 0 0 0 0 0 0 0 0 0 0 0 0 0 0 0 0 0 0]\n",
      " [3 4 2 2 2 3 2 1 2 2 0 0 0 0 0 0 0 0 0 0 0 0 0 0 0 0 0 0 0 0 0 0]\n",
      " [3 3 4 3 2 3 4 4 4 4 0 0 0 0 0 0 0 0 0 0 0 0 0 0 0 0 0 0 0 0 0 0]\n",
      " [2 1 3 4 1 2 4 1 2 3 0 0 0 0 0 0 0 0 0 0 0 0 0 0 0 0 0 0 0 0 0 0]\n",
      " [2 2 2 2 2 3 4 3 4 4 0 0 0 0 0 0 0 0 0 0 0 0 0 0 0 0 0 0 0 0 0 0]]\n",
      " 49/100 [=============>................] - ETA: 5:34 - loss: 3.5153 - rpn_class_loss: 0.1973 - rpn_bbox_loss: 0.9269 - mrcnn_class_loss: 1.2276 - mrcnn_bbox_loss: 0.6202 - mrcnn_mask_loss: 0.5432[0 1 2 3 4] 1\n",
      "map_dict {1: 0, 0: 3, 2: 4, 3: 2, 4: 1}\n",
      "reassigned_labels [2 0 3 0 2 2 2 0 2 2 0 0 0 0 1 1 1 1 0 0 4 0 0 0 0 4 4 0 0 4 0 0 3 2 2 2 2\n",
      " 2 2 2 2 3 1 1 1 4 1 0 1 2 1 0 1 4 0 1 1 1 0 4 0 1 0 0 4 3 3 2 3 2 4 4 3 3\n",
      " 1 0 0 1 1 1 0 4 1 0 1 1 1 0 0 4 2 1 1 1 0 0 2 0 2 0 2 0 0 2 2 2 1 1 0 1 0\n",
      " 1 1 1 1 1 4 0 4 4 0 1 1 4 1 0 0 0 2 3 2 2 2 2 2 2 0 2 0 1 4 0 0 1 1 1 0 4\n",
      " 1 0 4 1 1 0 1 1 1 4 0 0 2 2 0 3 2 2 3 3 3 2 4 1 3 1 0 1 0 4 0 1 1 0 1 1 4\n",
      " 1 0 1 1 4 0 0 2 2 2 2 1 3 3 2 2 3 4 1 1 4 1 1 1 1 1 1 0 1 0 1 1 1 1 0 1 4\n",
      " 0 0 2 2 2 2 2 2 3 2 2 2 4 1 4 1 1 1 1 4 1 1 1 1 4 4 1 1 1 1 1 0 0 0]\n",
      "gt_ids [[2 1 4 1 2 2 3 1 4 1 0 0 0 0 0 0 0 0 0 0 0 0 0 0 0 0 0 0 0 0 0 0]\n",
      " [4 3 2 2 2 3 3 4 2 4 0 0 0 0 0 0 0 0 0 0 0 0 0 0 0 0 0 0 0 0 0 0]\n",
      " [3 4 4 2 4 4 3 3 4 4 0 0 0 0 0 0 0 0 0 0 0 0 0 0 0 0 0 0 0 0 0 0]\n",
      " [2 3 3 1 4 1 3 4 2 2 0 0 0 0 0 0 0 0 0 0 0 0 0 0 0 0 0 0 0 0 0 0]\n",
      " [3 4 2 2 2 2 2 2 3 2 0 0 0 0 0 0 0 0 0 0 0 0 0 0 0 0 0 0 0 0 0 0]\n",
      " [2 3 3 4 3 2 4 4 4 1 0 0 0 0 0 0 0 0 0 0 0 0 0 0 0 0 0 0 0 0 0 0]\n",
      " [1 3 2 2 1 4 4 1 2 4 0 0 0 0 0 0 0 0 0 0 0 0 0 0 0 0 0 0 0 0 0 0]\n",
      " [4 2 2 4 2 2 4 4 3 2 0 0 0 0 0 0 0 0 0 0 0 0 0 0 0 0 0 0 0 0 0 0]]\n",
      " 50/100 [==============>...............] - ETA: 5:24 - loss: 3.4696 - rpn_class_loss: 0.1942 - rpn_bbox_loss: 0.9199 - mrcnn_class_loss: 1.2100 - mrcnn_bbox_loss: 0.6102 - mrcnn_mask_loss: 0.5353[0 1 2 3 4] 0\n",
      "map_dict {0: 0, 1: 2, 2: 1, 3: 3, 4: 4}\n",
      "reassigned_labels [2 2 2 2 3 0 2 2 2 3 1 2 2 4 1 1 1 4 1 0 3 4 3 4 1 4 0 1 1 1 0 0 3 2 2 2 3\n",
      " 3 2 2 2 2 1 1 1 4 1 0 0 4 0 2 0 1 1 4 1 1 0 4 1 4 0 0 3 3 2 3 3 2 3 4 3 2\n",
      " 1 0 4 4 4 4 1 1 1 1 1 1 1 1 0 1 4 4 1 0 0 0 2 2 2 1 0 2 2 1 2 2 0 1 1 0 1\n",
      " 1 0 1 0 1 1 4 1 4 0 4 1 1 4 0 0 0 2 0 2 2 2 2 2 2 2 1 1 0 1 1 1 0 0 1 1 1\n",
      " 1 1 1 1 1 1 4 1 1 4 0 0 3 3 3 3 2 3 3 3 3 3 1 4 1 1 1 4 1 4 1 4 1 4 1 4 0\n",
      " 1 0 1 1 1 0 0 2 2 3 2 2 2 2 3 1 2 4 1 1 1 1 1 1 0 1 0 2 0 4 1 1 1 1 0 1 0\n",
      " 0 0 2 3 2 2 2 2 0 2 4 2 0 1 1 1 1 1 0 1 1 1 0 1 1 0 1 4 1 1 4 4 0 0]\n",
      "gt_ids [[4 2 2 4 4 1 1 2 3 4 0 0 0 0 0 0 0 0 0 0 0 0 0 0 0 0 0 0 0 0 0 0]\n",
      " [4 3 1 2 4 4 3 2 3 2 0 0 0 0 0 0 0 0 0 0 0 0 0 0 0 0 0 0 0 0 0 0]\n",
      " [4 4 1 4 4 2 4 3 4 4 0 0 0 0 0 0 0 0 0 0 0 0 0 0 0 0 0 0 0 0 0 0]\n",
      " [2 2 4 1 3 4 2 1 4 2 0 0 0 0 0 0 0 0 0 0 0 0 0 0 0 0 0 0 0 0 0 0]\n",
      " [2 1 3 2 4 2 2 2 1 1 0 0 0 0 0 0 0 0 0 0 0 0 0 0 0 0 0 0 0 0 0 0]\n",
      " [4 4 4 4 1 4 4 4 4 4 0 0 0 0 0 0 0 0 0 0 0 0 0 0 0 0 0 0 0 0 0 0]\n",
      " [1 2 4 3 2 3 2 4 1 1 0 0 0 0 0 0 0 0 0 0 0 0 0 0 0 0 0 0 0 0 0 0]\n",
      " [2 4 2 3 2 4 3 2 4 2 0 0 0 0 0 0 0 0 0 0 0 0 0 0 0 0 0 0 0 0 0 0]]\n",
      " 51/100 [==============>...............] - ETA: 5:14 - loss: 3.4229 - rpn_class_loss: 0.1911 - rpn_bbox_loss: 0.9129 - mrcnn_class_loss: 1.1891 - mrcnn_bbox_loss: 0.6009 - mrcnn_mask_loss: 0.5289[0 1 2 3 4] 0\n",
      "map_dict {0: 0, 1: 1, 2: 4, 3: 2, 4: 3}\n",
      "reassigned_labels [0 3 0 2 3 3 2 3 2 2 4 0 1 0 0 4 1 0 0 4 0 0 0 4 1 4 1 4 1 0 0 0 2 2 3 4 2\n",
      " 3 3 2 2 2 0 1 1 1 0 1 1 1 4 1 1 4 1 1 1 0 1 4 4 1 0 0 2 2 2 2 2 4 2 2 4 3\n",
      " 0 1 1 1 1 1 1 4 1 0 1 1 1 1 1 4 1 4 1 1 0 0 2 2 2 0 3 2 0 3 2 2 1 4 0 0 4\n",
      " 1 0 0 1 1 1 0 4 0 1 0 0 4 4 1 0 0 3 2 3 2 2 2 3 2 0 3 1 4 1 4 0 4 4 1 1 4\n",
      " 1 0 1 0 1 1 0 1 1 4 0 0 3 2 3 0 3 2 0 2 3 2 4 1 0 1 4 1 0 1 4 3 1 1 1 1 1\n",
      " 1 2 4 1 1 0 0 2 2 2 3 2 2 3 3 3 1 1 1 1 1 1 4 1 1 1 1 4 0 4 1 4 1 1 1 1 1\n",
      " 0 0 2 2 2 3 2 2 2 3 2 2 4 1 1 0 1 0 0 1 1 1 1 1 1 1 1 4 1 1 1 1 0 0]\n",
      "gt_ids [[1 4 1 3 4 4 4 4 3 4 0 0 0 0 0 0 0 0 0 0 0 0 0 0 0 0 0 0 0 0 0 0]\n",
      " [3 2 4 4 2 4 4 3 3 3 0 0 0 0 0 0 0 0 0 0 0 0 0 0 0 0 0 0 0 0 0 0]\n",
      " [2 4 3 2 2 3 1 4 3 4 0 0 0 0 0 0 0 0 0 0 0 0 0 0 0 0 0 0 0 0 0 0]\n",
      " [4 4 2 1 4 2 1 4 2 2 0 0 0 0 0 0 0 0 0 0 0 0 0 0 0 0 0 0 0 0 0 0]\n",
      " [2 2 4 2 2 2 4 2 1 2 0 0 0 0 0 0 0 0 0 0 0 0 0 0 0 0 0 0 0 0 0 0]\n",
      " [4 3 4 3 4 3 3 2 4 3 0 0 0 0 0 0 0 0 0 0 0 0 0 0 0 0 0 0 0 0 0 0]\n",
      " [1 2 2 4 2 3 4 4 4 1 0 0 0 0 0 0 0 0 0 0 0 0 0 0 0 0 0 0 0 0 0 0]\n",
      " [2 2 3 4 2 4 2 4 2 2 0 0 0 0 0 0 0 0 0 0 0 0 0 0 0 0 0 0 0 0 0 0]]\n",
      " 52/100 [==============>...............] - ETA: 5:05 - loss: 3.3777 - rpn_class_loss: 0.1882 - rpn_bbox_loss: 0.9060 - mrcnn_class_loss: 1.1704 - mrcnn_bbox_loss: 0.5915 - mrcnn_mask_loss: 0.5217[0 1 2 3 4] 0\n",
      "map_dict {0: 0, 1: 1, 2: 3, 3: 4, 4: 2}\n",
      "reassigned_labels [3 2 3 2 0 0 2 3 3 2 0 0 1 0 1 1 1 0 1 4 1 1 1 0 1 0 4 1 0 1 0 0 2 2 2 3 2\n",
      " 2 2 3 2 3 4 1 3 0 1 4 4 1 4 4 1 4 0 1 1 1 0 1 1 0 0 0 2 2 3 0 2 3 2 2 3 3\n",
      " 1 1 4 1 1 1 4 1 1 1 4 1 0 4 1 1 1 4 4 4 0 0 2 2 2 2 2 2 2 2 3 2 4 0 0 0 1\n",
      " 0 4 4 4 1 4 4 0 0 1 1 0 0 1 0 0 0 2 2 2 2 2 0 3 2 2 2 1 1 1 1 1 1 1 4 1 0\n",
      " 0 1 0 0 4 1 1 1 1 1 0 0 3 2 3 2 2 2 3 3 2 2 1 4 4 1 1 1 4 1 0 2 1 0 1 1 3\n",
      " 1 0 0 4 1 0 0 3 2 2 1 2 2 2 2 2 3 1 1 0 1 1 0 0 0 0 1 0 1 4 1 1 1 4 0 1 1\n",
      " 0 0 2 3 2 2 4 2 0 2 2 3 1 0 1 0 0 0 1 1 4 1 1 1 1 1 0 0 1 1 1 1 0 0]\n",
      "gt_ids [[4 2 4 4 1 1 2 4 4 2 0 0 0 0 0 0 0 0 0 0 0 0 0 0 0 0 0 0 0 0 0 0]\n",
      " [2 3 3 4 3 2 3 4 2 4 0 0 0 0 0 0 0 0 0 0 0 0 0 0 0 0 0 0 0 0 0 0]\n",
      " [4 2 4 3 1 4 3 4 4 4 0 0 0 0 0 0 0 0 0 0 0 0 0 0 0 0 0 0 0 0 0 0]\n",
      " [2 3 2 2 2 2 4 2 4 4 0 0 0 0 0 0 0 0 0 0 0 0 0 0 0 0 0 0 0 0 0 0]\n",
      " [2 2 2 3 2 1 4 2 2 2 0 0 0 0 0 0 0 0 0 0 0 0 0 0 0 0 0 0 0 0 0 0]\n",
      " [4 1 4 3 2 3 4 4 3 3 0 0 0 0 0 0 0 0 0 0 0 0 0 0 0 0 0 0 0 0 0 0]\n",
      " [4 3 2 1 3 1 2 1 2 4 0 0 0 0 0 0 0 0 0 0 0 0 0 0 0 0 0 0 0 0 0 0]\n",
      " [2 4 2 2 4 4 3 3 2 4 0 0 0 0 0 0 0 0 0 0 0 0 0 0 0 0 0 0 0 0 0 0]]\n",
      " 53/100 [==============>...............] - ETA: 4:55 - loss: 3.3323 - rpn_class_loss: 0.1853 - rpn_bbox_loss: 0.8991 - mrcnn_class_loss: 1.1510 - mrcnn_bbox_loss: 0.5823 - mrcnn_mask_loss: 0.5145[0 1 2 3 4] 2\n",
      "map_dict {2: 0, 0: 1, 1: 2, 3: 4, 4: 3}\n",
      "reassigned_labels [2 2 2 2 3 3 0 2 2 3 0 4 4 4 0 1 4 4 0 1 1 0 0 0 1 0 0 1 0 1 0 0 2 3 2 2 2\n",
      " 2 2 4 2 3 4 0 0 1 1 1 1 1 1 4 1 1 3 1 1 1 4 4 1 1 0 0 4 3 2 4 3 2 2 3 2 3\n",
      " 4 0 1 4 1 4 0 0 4 0 4 1 1 1 0 2 1 1 1 1 0 0 2 2 2 2 2 2 0 2 2 0 4 0 1 0 1\n",
      " 0 1 0 4 1 1 0 0 1 0 0 1 1 1 1 0 0 2 0 2 2 2 2 2 2 0 2 1 1 1 0 1 0 1 0 0 0\n",
      " 1 0 0 1 1 1 1 1 1 0 0 0 2 2 3 3 3 3 0 3 3 3 4 1 4 4 1 1 1 1 0 1 4 4 0 1 0\n",
      " 1 2 4 1 1 0 0 2 2 3 3 0 2 0 1 2 3 1 1 1 0 0 1 4 1 0 1 0 4 1 1 1 1 1 0 1 4\n",
      " 0 0 2 2 2 2 2 2 2 2 2 2 0 3 4 0 2 1 1 0 1 1 0 1 4 4 1 1 1 1 1 1 0 0]\n",
      "gt_ids [[4 2 2 2 4 4 1 4 4 4 0 0 0 0 0 0 0 0 0 0 0 0 0 0 0 0 0 0 0 0 0 0]\n",
      " [2 4 3 3 3 2 2 4 3 4 0 0 0 0 0 0 0 0 0 0 0 0 0 0 0 0 0 0 0 0 0 0]\n",
      " [3 4 4 3 4 3 2 4 2 4 0 0 0 0 0 0 0 0 0 0 0 0 0 0 0 0 0 0 0 0 0 0]\n",
      " [2 3 2 2 2 2 1 2 2 1 0 0 0 0 0 0 0 0 0 0 0 0 0 0 0 0 0 0 0 0 0 0]\n",
      " [4 3 3 2 2 2 2 2 1 4 0 0 0 0 0 0 0 0 0 0 0 0 0 0 0 0 0 0 0 0 0 0]\n",
      " [3 3 4 4 4 4 3 4 4 4 0 0 0 0 0 0 0 0 0 0 0 0 0 0 0 0 0 0 0 0 0 0]\n",
      " [2 2 4 4 1 2 1 1 3 4 0 0 0 0 0 0 0 0 0 0 0 0 0 0 0 0 0 0 0 0 0 0]\n",
      " [2 3 4 2 4 4 2 2 2 2 0 0 0 0 0 0 0 0 0 0 0 0 0 0 0 0 0 0 0 0 0 0]]\n",
      " 54/100 [===============>..............] - ETA: 4:46 - loss: 3.2891 - rpn_class_loss: 0.1825 - rpn_bbox_loss: 0.8923 - mrcnn_class_loss: 1.1325 - mrcnn_bbox_loss: 0.5735 - mrcnn_mask_loss: 0.5082[0 1 2 3 4] 0\n",
      "map_dict {0: 0, 1: 1, 2: 4, 3: 3, 4: 2}\n",
      "reassigned_labels [2 0 2 2 0 2 2 2 2 2 1 4 1 0 4 1 1 0 0 0 0 1 1 0 0 1 0 4 0 0 0 0 2 2 3 2 2\n",
      " 2 2 3 3 2 4 1 1 0 1 0 1 1 1 3 1 1 4 2 1 1 1 1 1 1 0 0 2 3 3 4 4 2 3 2 3 4\n",
      " 1 1 3 2 1 1 0 0 1 1 1 0 4 1 0 0 1 1 1 1 0 0 2 2 2 2 2 2 2 0 2 0 0 2 1 1 0\n",
      " 4 0 1 1 0 0 1 0 4 1 2 0 1 1 4 0 0 2 2 2 2 2 2 2 2 2 2 0 1 2 1 1 4 1 1 1 4\n",
      " 1 4 1 4 1 1 4 0 0 4 0 0 3 2 2 0 3 3 3 0 3 2 1 4 2 1 1 4 1 4 0 1 1 1 1 1 4\n",
      " 1 0 1 1 1 0 0 2 0 0 2 2 3 2 2 3 2 1 1 4 0 1 1 4 4 4 1 4 0 1 4 1 1 1 0 0 1\n",
      " 0 0 2 2 2 2 3 2 2 4 2 2 1 1 4 1 1 1 1 1 1 0 4 4 1 0 1 1 4 1 1 1 0 0]\n",
      "gt_ids [[2 1 2 2 1 3 1 2 1 4 0 0 0 0 0 0 0 0 0 0 0 0 0 0 0 0 0 0 0 0 0 0]\n",
      " [1 3 4 2 2 2 2 4 4 2 0 0 0 0 0 0 0 0 0 0 0 0 0 0 0 0 0 0 0 0 0 0]\n",
      " [2 4 4 4 3 1 4 4 4 3 0 0 0 0 0 0 0 0 0 0 0 0 0 0 0 0 0 0 0 0 0 0]\n",
      " [2 2 4 4 2 4 4 3 2 1 0 0 0 0 0 0 0 0 0 0 0 0 0 0 0 0 0 0 0 0 0 0]\n",
      " [4 2 2 2 1 2 2 2 2 2 0 0 0 0 0 0 0 0 0 0 0 0 0 0 0 0 0 0 0 0 0 0]\n",
      " [4 3 3 3 4 4 4 3 4 3 0 0 0 0 0 0 0 0 0 0 0 0 0 0 0 0 0 0 0 0 0 0]\n",
      " [2 1 1 2 1 4 1 2 4 3 0 0 0 0 0 0 0 0 0 0 0 0 0 0 0 0 0 0 0 0 0 0]\n",
      " [2 2 2 4 4 4 2 4 2 3 0 0 0 0 0 0 0 0 0 0 0 0 0 0 0 0 0 0 0 0 0 0]]\n"
     ]
    },
    {
     "name": "stdout",
     "output_type": "stream",
     "text": [
      " 55/100 [===============>..............] - ETA: 4:37 - loss: 3.2487 - rpn_class_loss: 0.1798 - rpn_bbox_loss: 0.8856 - mrcnn_class_loss: 1.1153 - mrcnn_bbox_loss: 0.5653 - mrcnn_mask_loss: 0.5027[0 1 2 3 4] 0\n",
      "map_dict {0: 0, 1: 1, 2: 4, 3: 2, 4: 3}\n",
      "reassigned_labels [0 0 0 2 2 2 3 2 2 2 4 0 0 4 4 4 1 1 4 4 4 3 1 0 4 0 1 0 1 4 0 0 2 3 3 2 2\n",
      " 4 2 2 2 2 1 1 1 1 4 1 0 1 1 1 0 4 1 1 0 1 1 4 0 1 0 0 2 3 3 2 4 2 4 3 2 2\n",
      " 0 1 1 1 0 1 4 1 4 1 4 0 1 1 1 0 0 0 1 0 0 0 0 2 2 2 2 2 3 2 2 2 4 2 1 0 1\n",
      " 0 1 0 4 3 4 4 4 0 1 4 0 1 1 4 0 0 2 3 2 1 2 2 2 2 2 2 0 1 0 1 4 0 1 0 1 0\n",
      " 0 1 1 1 1 0 4 0 1 1 0 0 2 2 2 3 3 0 2 3 2 2 1 4 0 4 1 0 1 0 0 0 1 1 0 0 0\n",
      " 1 1 1 1 1 0 0 3 2 2 3 2 2 1 2 0 2 1 1 0 1 1 0 1 1 1 1 1 1 1 1 0 0 1 1 1 1\n",
      " 0 0 3 2 2 2 0 3 2 0 2 2 0 1 0 0 4 1 1 4 1 1 1 1 1 3 1 1 1 1 0 1 0 0]\n",
      "gt_ids [[1 1 1 3 2 4 4 2 4 2 0 0 0 0 0 0 0 0 0 0 0 0 0 0 0 0 0 0 0 0 0 0]\n",
      " [3 4 4 1 3 4 3 3 3 2 0 0 0 0 0 0 0 0 0 0 0 0 0 0 0 0 0 0 0 0 0 0]\n",
      " [1 4 4 1 3 4 3 4 2 4 0 0 0 0 0 0 0 0 0 0 0 0 0 0 0 0 0 0 0 0 0 0]\n",
      " [3 2 4 4 3 2 4 2 4 2 0 0 0 0 0 0 0 0 0 0 0 0 0 0 0 0 0 0 0 0 0 0]\n",
      " [2 4 2 1 2 3 2 3 2 2 0 0 0 0 0 0 0 0 0 0 0 0 0 0 0 0 0 0 0 0 0 0]\n",
      " [3 2 2 4 4 3 2 4 3 3 0 0 0 0 0 0 0 0 0 0 0 0 0 0 0 0 0 0 0 0 0 0]\n",
      " [4 2 3 4 3 1 1 1 1 1 0 0 0 0 0 0 0 0 0 0 0 0 0 0 0 0 0 0 0 0 0 0]\n",
      " [4 2 2 2 3 4 2 3 2 4 0 0 0 0 0 0 0 0 0 0 0 0 0 0 0 0 0 0 0 0 0 0]]\n",
      " 56/100 [===============>..............] - ETA: 4:28 - loss: 3.2077 - rpn_class_loss: 0.1772 - rpn_bbox_loss: 0.8789 - mrcnn_class_loss: 1.0980 - mrcnn_bbox_loss: 0.5572 - mrcnn_mask_loss: 0.4965[0 1 2 3 4] 2\n",
      "map_dict {2: 0, 0: 1, 1: 3, 3: 2, 4: 4}\n",
      "reassigned_labels [3 2 3 3 2 2 0 3 2 2 3 1 0 0 1 1 0 1 0 1 1 3 4 0 0 1 2 1 1 1 0 0 2 3 2 2 3\n",
      " 2 2 3 3 3 0 2 4 1 1 1 1 1 0 0 0 0 4 4 1 1 1 4 0 0 0 0 2 2 3 3 3 4 2 4 3 2\n",
      " 1 0 0 1 1 0 0 1 1 0 4 1 4 4 1 1 1 3 1 1 0 0 2 3 0 3 2 2 2 2 2 2 1 1 4 0 1\n",
      " 3 0 0 1 4 4 0 0 1 0 0 4 0 0 1 0 0 3 3 3 2 2 1 3 0 3 3 0 0 1 0 1 1 1 4 1 4\n",
      " 2 1 0 0 1 4 1 0 1 4 0 0 2 2 3 2 2 3 0 3 3 3 0 1 4 0 1 4 0 4 1 1 1 4 0 0 1\n",
      " 1 4 0 1 0 0 0 2 2 3 3 2 2 3 0 2 2 1 1 1 1 1 1 3 1 1 3 1 1 1 1 0 4 1 4 3 1\n",
      " 0 0 3 2 2 2 2 2 2 2 2 3 1 1 1 1 2 1 1 1 1 1 4 1 1 1 4 1 4 3 1 1 0 0]\n",
      "gt_ids [[4 2 4 4 1 2 1 4 4 2 0 0 0 0 0 0 0 0 0 0 0 0 0 0 0 0 0 0 0 0 0 0]\n",
      " [3 4 3 2 4 3 3 2 2 4 0 0 0 0 0 0 0 0 0 0 0 0 0 0 0 0 0 0 0 0 0 0]\n",
      " [1 4 4 4 4 3 3 3 4 4 0 0 0 0 0 0 0 0 0 0 0 0 0 0 0 0 0 0 0 0 0 0]\n",
      " [2 4 1 4 2 4 2 3 4 2 0 0 0 0 0 0 0 0 0 0 0 0 0 0 0 0 0 0 0 0 0 0]\n",
      " [4 4 2 2 2 1 4 3 2 4 0 0 0 0 0 0 0 0 0 0 0 0 0 0 0 0 0 0 0 0 0 0]\n",
      " [3 3 4 1 3 4 3 4 4 4 0 0 0 0 0 0 0 0 0 0 0 0 0 0 0 0 0 0 0 0 0 0]\n",
      " [2 1 4 2 1 3 4 1 1 3 0 0 0 0 0 0 0 0 0 0 0 0 0 0 0 0 0 0 0 0 0 0]\n",
      " [4 4 2 3 2 2 4 3 2 4 0 0 0 0 0 0 0 0 0 0 0 0 0 0 0 0 0 0 0 0 0 0]]\n",
      " 57/100 [================>.............] - ETA: 4:20 - loss: 3.1724 - rpn_class_loss: 0.1747 - rpn_bbox_loss: 0.8723 - mrcnn_class_loss: 1.0849 - mrcnn_bbox_loss: 0.5495 - mrcnn_mask_loss: 0.4911[0 1 2 3 4] 3\n",
      "map_dict {3: 0, 0: 3, 1: 1, 2: 4, 4: 2}\n",
      "reassigned_labels [0 3 0 2 2 2 2 0 2 2 0 1 4 0 4 0 1 4 0 1 0 0 4 0 0 0 4 2 1 4 0 0 3 0 4 3 2\n",
      " 3 2 2 3 2 4 4 1 1 1 0 4 1 0 1 0 1 1 1 0 1 1 1 1 4 0 0 3 2 2 3 2 4 3 3 2 3\n",
      " 1 1 4 0 4 1 1 0 1 1 4 0 1 1 1 1 1 1 1 4 0 0 3 2 2 3 2 0 0 2 2 2 4 1 0 1 4\n",
      " 1 0 1 4 1 0 2 1 0 0 4 1 4 1 0 0 0 2 2 0 1 2 2 2 3 2 2 1 0 1 1 0 1 1 1 1 4\n",
      " 1 1 1 1 1 1 1 0 0 1 0 0 2 3 2 2 2 2 3 3 2 4 1 1 0 1 1 0 4 4 0 1 1 4 1 4 1\n",
      " 4 0 0 4 1 0 0 2 2 0 2 2 3 2 3 2 3 0 1 4 1 1 4 1 4 4 3 1 0 1 1 1 1 3 4 1 1\n",
      " 0 0 2 2 2 2 2 2 2 2 3 3 1 1 1 1 1 4 1 0 1 1 1 0 4 1 1 1 0 1 0 1 0 0]\n",
      "gt_ids [[1 4 1 4 2 2 2 1 2 4 0 0 0 0 0 0 0 0 0 0 0 0 0 0 0 0 0 0 0 0 0 0]\n",
      " [4 1 4 4 2 4 2 2 4 3 0 0 0 0 0 0 0 0 0 0 0 0 0 0 0 0 0 0 0 0 0 0]\n",
      " [4 3 4 4 4 3 4 4 4 4 0 0 0 0 0 0 0 0 0 0 0 0 0 0 0 0 0 0 0 0 0 0]\n",
      " [4 2 2 4 3 3 1 2 2 3 0 0 0 0 0 0 0 0 0 0 0 0 0 0 0 0 0 0 0 0 0 0]\n",
      " [4 2 3 1 2 2 2 4 2 2 0 0 0 0 0 0 0 0 0 0 0 0 0 0 0 0 0 0 0 0 0 0]\n",
      " [3 4 3 2 2 2 4 4 3 4 0 0 0 0 0 0 0 0 0 0 0 0 0 0 0 0 0 0 0 0 0 0]\n",
      " [3 3 1 2 3 4 2 4 2 4 0 0 0 0 0 0 0 0 0 0 0 0 0 0 0 0 0 0 0 0 0 0]\n",
      " [2 4 2 2 4 4 2 2 4 4 0 0 0 0 0 0 0 0 0 0 0 0 0 0 0 0 0 0 0 0 0 0]]\n",
      " 58/100 [================>.............] - ETA: 4:11 - loss: 3.1336 - rpn_class_loss: 0.1723 - rpn_bbox_loss: 0.8657 - mrcnn_class_loss: 1.0686 - mrcnn_bbox_loss: 0.5419 - mrcnn_mask_loss: 0.4852[0 1 2 3 4] 3\n",
      "map_dict {3: 0, 0: 3, 1: 1, 2: 2, 4: 4}\n",
      "reassigned_labels [2 2 0 2 2 2 2 2 3 2 0 0 1 1 0 1 0 1 0 0 3 1 0 0 0 4 3 1 0 0 0 0 2 2 3 2 2\n",
      " 3 2 2 2 2 2 1 0 1 4 1 1 0 1 1 1 4 4 1 3 0 0 0 1 0 0 0 2 0 2 2 3 4 2 2 4 3\n",
      " 1 0 0 0 4 1 1 1 4 0 4 1 1 1 1 1 1 0 4 1 0 0 3 2 3 2 2 2 0 3 2 2 1 4 1 1 1\n",
      " 4 1 4 0 0 1 4 0 1 4 1 4 1 4 3 0 0 2 2 3 0 1 2 2 2 2 2 1 1 1 0 2 1 1 1 1 1\n",
      " 0 1 1 1 1 2 1 0 1 1 0 0 2 2 3 3 3 0 2 3 2 3 1 1 1 1 1 1 1 0 1 4 1 1 1 0 4\n",
      " 0 0 4 1 0 0 0 2 2 2 2 1 2 3 2 2 2 1 1 4 1 1 1 1 1 4 1 1 1 0 1 0 1 1 0 1 1\n",
      " 0 0 2 2 2 3 2 2 3 2 2 2 1 1 1 1 1 0 1 1 4 0 0 2 1 1 1 1 1 1 1 1 0 0]\n",
      "gt_ids [[2 2 1 4 2 1 4 1 4 4 0 0 0 0 0 0 0 0 0 0 0 0 0 0 0 0 0 0 0 0 0 0]\n",
      " [3 3 4 2 2 4 3 2 2 3 0 0 0 0 0 0 0 0 0 0 0 0 0 0 0 0 0 0 0 0 0 0]\n",
      " [2 3 2 3 4 3 4 4 3 4 0 0 0 0 0 0 0 0 0 0 0 0 0 0 0 0 0 0 0 0 0 0]\n",
      " [4 2 4 2 3 4 1 4 2 4 0 0 0 0 0 0 0 0 0 0 0 0 0 0 0 0 0 0 0 0 0 0]\n",
      " [3 2 4 3 1 2 2 2 2 1 0 0 0 0 0 0 0 0 0 0 0 0 0 0 0 0 0 0 0 0 0 0]\n",
      " [1 3 4 4 4 3 3 4 3 4 0 0 0 0 0 0 0 0 0 0 0 0 0 0 0 0 0 0 0 0 0 0]\n",
      " [1 2 3 3 1 2 4 2 2 3 0 0 0 0 0 0 0 0 0 0 0 0 0 0 0 0 0 0 0 0 0 0]\n",
      " [4 2 3 4 2 2 4 2 2 2 0 0 0 0 0 0 0 0 0 0 0 0 0 0 0 0 0 0 0 0 0 0]]\n",
      " 59/100 [================>.............] - ETA: 4:03 - loss: 3.0950 - rpn_class_loss: 0.1699 - rpn_bbox_loss: 0.8591 - mrcnn_class_loss: 1.0520 - mrcnn_bbox_loss: 0.5343 - mrcnn_mask_loss: 0.4796[0 1 2 3 4] 4\n",
      "map_dict {4: 0, 0: 2, 1: 1, 2: 3, 3: 4}\n",
      "reassigned_labels [2 2 2 2 2 2 2 2 0 2 1 1 0 0 0 2 4 2 1 4 0 0 1 1 4 0 0 4 0 4 0 0 3 0 2 2 2\n",
      " 2 3 2 2 2 4 1 1 1 1 1 1 0 1 1 1 1 1 1 1 1 0 3 1 0 0 0 2 3 3 3 2 2 2 2 2 3\n",
      " 1 1 0 1 1 1 1 4 1 0 1 4 1 1 1 1 0 0 1 1 0 0 3 0 0 2 2 2 0 2 2 0 1 4 2 0 1\n",
      " 1 2 0 1 1 0 1 0 1 3 1 0 4 0 2 0 0 2 2 0 2 2 2 2 2 2 2 4 0 4 1 1 1 4 4 0 1\n",
      " 1 1 1 0 0 1 1 4 0 1 0 0 3 0 0 3 2 2 3 3 3 3 4 0 3 0 1 1 1 1 1 1 1 1 0 1 0\n",
      " 1 1 1 1 0 0 0 3 2 2 3 2 0 3 3 2 2 1 1 1 0 3 1 1 0 4 1 1 1 1 1 1 0 1 1 0 4\n",
      " 0 0 2 3 2 3 2 2 0 2 2 2 1 1 1 1 1 1 1 0 1 0 2 1 2 1 4 1 1 1 1 1 0 0]\n",
      "gt_ids [[2 3 2 2 4 2 4 4 3 4 0 0 0 0 0 0 0 0 0 0 0 0 0 0 0 0 0 0 0 0 0 0]\n",
      " [4 1 3 2 2 3 4 2 3 2 0 0 0 0 0 0 0 0 0 0 0 0 0 0 0 0 0 0 0 0 0 0]\n",
      " [2 4 4 4 4 1 4 3 4 4 0 0 0 0 0 0 0 0 0 0 0 0 0 0 0 0 0 0 0 0 0 0]\n",
      " [4 1 3 2 2 2 1 4 4 3 0 0 0 0 0 0 0 0 0 0 0 0 0 0 0 0 0 0 0 0 0 0]\n",
      " [2 2 1 4 2 2 4 2 3 2 0 0 0 0 0 0 0 0 0 0 0 0 0 0 0 0 0 0 0 0 0 0]\n",
      " [4 3 3 4 3 2 4 4 4 4 0 0 0 0 0 0 0 0 0 0 0 0 0 0 0 0 0 0 0 0 0 0]\n",
      " [4 2 2 4 2 1 4 4 2 3 0 0 0 0 0 0 0 0 0 0 0 0 0 0 0 0 0 0 0 0 0 0]\n",
      " [2 4 3 4 2 4 3 2 2 4 0 0 0 0 0 0 0 0 0 0 0 0 0 0 0 0 0 0 0 0 0 0]]\n",
      " 60/100 [=================>............] - ETA: 3:55 - loss: 3.0589 - rpn_class_loss: 0.1676 - rpn_bbox_loss: 0.8527 - mrcnn_class_loss: 1.0375 - mrcnn_bbox_loss: 0.5270 - mrcnn_mask_loss: 0.4741[0 1 2 3 4] 4\n",
      "map_dict {4: 0, 0: 1, 1: 4, 2: 3, 3: 2}\n",
      "reassigned_labels [2 2 2 2 2 3 3 2 3 2 0 0 1 0 1 3 4 1 1 1 0 4 1 4 4 1 4 0 1 0 0 0 3 3 3 2 2\n",
      " 2 2 2 3 2 4 1 1 4 4 1 1 1 1 0 0 1 1 4 4 4 4 0 0 0 0 0 3 2 4 3 3 2 3 3 3 2\n",
      " 4 1 0 1 1 0 1 1 4 1 1 1 4 1 1 4 0 1 1 0 0 0 3 2 2 2 2 3 2 2 3 3 0 0 1 0 0\n",
      " 4 4 4 1 4 4 1 1 4 4 1 2 1 0 2 0 0 2 2 2 2 1 0 2 2 0 2 1 0 4 1 4 0 1 0 1 4\n",
      " 4 4 0 0 1 1 4 1 1 0 0 0 3 3 3 2 2 2 0 2 2 2 1 0 1 1 2 4 0 0 1 2 1 1 1 1 4\n",
      " 0 4 4 0 4 0 0 2 2 3 2 2 3 2 3 3 0 1 1 1 1 1 1 0 1 0 0 0 0 1 1 0 1 3 1 1 3\n",
      " 0 0 3 2 2 2 3 2 2 2 2 2 1 1 4 1 4 0 1 1 1 1 1 1 1 1 1 0 4 4 1 1 0 0]\n",
      "gt_ids [[2 2 4 2 2 4 4 3 4 1 0 0 0 0 0 0 0 0 0 0 0 0 0 0 0 0 0 0 0 0 0 0]\n",
      " [4 4 4 2 2 3 2 3 4 3 0 0 0 0 0 0 0 0 0 0 0 0 0 0 0 0 0 0 0 0 0 0]\n",
      " [2 4 3 4 4 1 4 4 4 2 0 0 0 0 0 0 0 0 0 0 0 0 0 0 0 0 0 0 0 0 0 0]\n",
      " [4 2 3 4 4 4 4 2 4 4 0 0 0 0 0 0 0 0 0 0 0 0 0 0 0 0 0 0 0 0 0 0]\n",
      " [2 2 2 2 1 1 2 2 1 2 0 0 0 0 0 0 0 0 0 0 0 0 0 0 0 0 0 0 0 0 0 0]\n",
      " [4 4 4 3 3 2 3 2 3 1 0 0 0 0 0 0 0 0 0 0 0 0 0 0 0 0 0 0 0 0 0 0]\n",
      " [2 1 4 3 2 4 1 4 4 1 0 0 0 0 0 0 0 0 0 0 0 0 0 0 0 0 0 0 0 0 0 0]\n",
      " [4 4 2 2 4 2 4 2 2 4 0 0 0 0 0 0 0 0 0 0 0 0 0 0 0 0 0 0 0 0 0 0]]\n",
      " 61/100 [=================>............] - ETA: 3:47 - loss: 3.0234 - rpn_class_loss: 0.1653 - rpn_bbox_loss: 0.8462 - mrcnn_class_loss: 1.0231 - mrcnn_bbox_loss: 0.5200 - mrcnn_mask_loss: 0.4687[0 1 2 3 4] 1\n",
      "map_dict {1: 0, 0: 4, 2: 2, 3: 3, 4: 1}\n",
      "reassigned_labels [2 2 2 3 2 2 2 2 3 3 0 0 1 4 1 4 1 1 1 1 1 1 1 2 0 1 1 0 1 1 0 0 2 3 3 3 3\n",
      " 0 3 3 3 2 0 2 1 4 0 1 1 4 4 1 0 1 4 1 1 1 0 4 4 1 0 0 2 2 2 2 2 2 2 3 2 2\n",
      " 0 1 1 2 1 1 1 2 1 1 1 1 0 1 0 4 1 0 1 1 0 0 3 4 3 4 3 2 2 4 2 2 1 4 0 1 1\n",
      " 1 1 4 1 4 0 4 1 4 4 1 1 4 1 1 0 0 3 3 2 2 2 2 3 3 2 2 4 1 1 4 1 4 0 3 0 1\n",
      " 1 0 1 1 1 4 4 1 1 1 0 0 2 2 2 0 2 2 3 2 2 3 1 4 4 4 0 1 0 1 1 4 1 1 4 0 1\n",
      " 1 0 1 0 1 0 0 3 3 3 3 3 2 3 2 3 3 1 1 1 1 1 1 4 1 0 1 2 0 0 0 4 1 1 4 0 1\n",
      " 0 0 2 3 3 3 2 3 2 3 3 3 0 1 4 1 4 1 1 4 4 1 0 2 1 1 1 1 4 4 4 0 0 0]\n",
      "gt_ids [[2 1 2 4 1 1 2 3 4 4 0 0 0 0 0 0 0 0 0 0 0 0 0 0 0 0 0 0 0 0 0 0]\n",
      " [3 2 2 2 2 3 2 4 2 3 0 0 0 0 0 0 0 0 0 0 0 0 0 0 0 0 0 0 0 0 0 0]\n",
      " [4 3 2 3 4 4 1 2 4 1 0 0 0 0 0 0 0 0 0 0 0 0 0 0 0 0 0 0 0 0 0 0]\n",
      " [4 4 2 4 4 3 3 4 3 1 0 0 0 0 0 0 0 0 0 0 0 0 0 0 0 0 0 0 0 0 0 0]\n",
      " [4 2 1 3 3 1 4 4 3 1 0 0 0 0 0 0 0 0 0 0 0 0 0 0 0 0 0 0 0 0 0 0]\n",
      " [1 4 4 3 4 2 4 4 2 2 0 0 0 0 0 0 0 0 0 0 0 0 0 0 0 0 0 0 0 0 0 0]\n",
      " [2 4 2 4 4 3 4 1 4 4 0 0 0 0 0 0 0 0 0 0 0 0 0 0 0 0 0 0 0 0 0 0]\n",
      " [2 4 4 4 3 4 2 2 2 4 0 0 0 0 0 0 0 0 0 0 0 0 0 0 0 0 0 0 0 0 0 0]]\n"
     ]
    },
    {
     "name": "stdout",
     "output_type": "stream",
     "text": [
      " 62/100 [=================>............] - ETA: 3:40 - loss: 2.9970 - rpn_class_loss: 0.1635 - rpn_bbox_loss: 0.8432 - mrcnn_class_loss: 1.0117 - mrcnn_bbox_loss: 0.5145 - mrcnn_mask_loss: 0.4641[0 1 2 3 4] 2\n",
      "map_dict {2: 0, 0: 3, 1: 1, 3: 2, 4: 4}\n",
      "reassigned_labels [3 3 3 0 2 3 0 2 0 2 2 4 4 4 4 0 1 4 0 4 1 2 0 1 1 1 0 4 0 3 0 0 2 3 2 2 2\n",
      " 2 2 2 3 2 1 1 1 0 4 1 1 1 1 1 1 4 2 1 1 1 0 0 1 1 0 0 2 2 2 3 3 4 2 3 3 2\n",
      " 1 1 4 4 1 1 4 1 1 1 1 0 1 4 1 1 1 1 0 0 0 0 2 2 2 2 2 2 2 2 2 2 1 4 4 1 4\n",
      " 4 4 4 0 1 0 4 4 4 1 0 4 1 4 1 0 0 2 2 2 2 2 2 2 2 2 2 0 2 0 4 1 0 0 1 0 0\n",
      " 1 1 1 1 1 0 0 4 1 0 0 0 3 2 3 3 2 3 3 3 2 2 1 1 1 4 1 1 1 1 1 1 4 4 1 0 1\n",
      " 2 1 0 4 2 0 0 2 3 2 3 2 2 2 2 2 3 1 1 0 1 1 4 0 2 1 1 0 4 2 1 1 1 1 1 1 4\n",
      " 0 0 3 2 2 2 2 3 2 2 2 2 1 1 1 1 1 1 1 1 0 1 1 1 1 4 1 0 0 1 1 0 0 0]\n",
      "gt_ids [[4 4 4 3 4 4 1 3 1 2 0 0 0 0 0 0 0 0 0 0 0 0 0 0 0 0 0 0 0 0 0 0]\n",
      " [2 4 3 2 2 4 2 2 4 3 0 0 0 0 0 0 0 0 0 0 0 0 0 0 0 0 0 0 0 0 0 0]\n",
      " [4 2 4 4 4 3 3 4 4 4 0 0 0 0 0 0 0 0 0 0 0 0 0 0 0 0 0 0 0 0 0 0]\n",
      " [2 2 2 3 2 2 2 2 2 3 0 0 0 0 0 0 0 0 0 0 0 0 0 0 0 0 0 0 0 0 0 0]\n",
      " [2 2 2 2 4 1 2 2 2 2 0 0 0 0 0 0 0 0 0 0 0 0 0 0 0 0 0 0 0 0 0 0]\n",
      " [4 2 4 4 3 4 4 4 3 2 0 0 0 0 0 0 0 0 0 0 0 0 0 0 0 0 0 0 0 0 0 0]\n",
      " [2 4 2 4 1 3 3 2 2 4 0 0 0 0 0 0 0 0 0 0 0 0 0 0 0 0 0 0 0 0 0 0]\n",
      " [4 4 2 4 2 4 3 3 2 4 0 0 0 0 0 0 0 0 0 0 0 0 0 0 0 0 0 0 0 0 0 0]]\n",
      " 63/100 [=================>............] - ETA: 3:32 - loss: 2.9634 - rpn_class_loss: 0.1614 - rpn_bbox_loss: 0.8368 - mrcnn_class_loss: 0.9982 - mrcnn_bbox_loss: 0.5080 - mrcnn_mask_loss: 0.4590[0 1 2 3 4] 1\n",
      "map_dict {1: 0, 0: 2, 2: 3, 3: 4, 4: 1}\n",
      "reassigned_labels [2 3 3 3 3 2 3 2 3 3 0 1 4 4 4 1 1 0 4 0 0 1 4 1 4 0 4 3 1 1 0 0 0 3 3 3 2\n",
      " 3 2 3 3 3 1 1 1 1 1 1 4 1 1 1 1 1 1 1 1 1 2 1 1 1 0 0 2 3 2 2 2 2 2 2 3 3\n",
      " 1 0 0 1 0 1 1 1 2 1 1 0 1 0 1 0 0 1 0 1 0 0 3 3 2 3 3 4 3 3 3 2 1 1 1 1 0\n",
      " 4 1 1 0 1 0 2 4 1 4 1 4 4 0 1 0 0 3 2 2 3 3 3 2 3 3 2 0 0 4 4 1 1 4 1 1 4\n",
      " 1 1 1 1 1 4 1 0 4 0 0 0 2 2 2 2 2 2 2 2 0 3 4 0 1 1 2 1 0 4 0 4 1 0 1 4 1\n",
      " 1 1 4 2 1 0 0 2 3 3 3 2 0 2 3 2 2 4 0 1 0 0 2 1 1 4 1 1 0 0 1 0 1 1 4 1 1\n",
      " 0 0 2 3 3 3 2 3 3 3 3 3 1 0 1 2 1 1 1 3 4 4 0 1 1 1 0 1 1 1 4 0 0 0]\n",
      "gt_ids [[3 4 4 4 4 2 4 3 4 4 0 0 0 0 0 0 0 0 0 0 0 0 0 0 0 0 0 0 0 0 0 0]\n",
      " [3 2 4 2 3 2 3 2 2 2 0 0 0 0 0 0 0 0 0 0 0 0 0 0 0 0 0 0 0 0 0 0]\n",
      " [3 4 4 4 4 4 1 3 4 4 0 0 0 0 0 0 0 0 0 0 0 0 0 0 0 0 0 0 0 0 0 0]\n",
      " [4 4 4 4 4 4 4 4 2 1 0 0 0 0 0 0 0 0 0 0 0 0 0 0 0 0 0 0 0 0 0 0]\n",
      " [4 2 3 4 4 4 2 4 2 1 0 0 0 0 0 0 0 0 0 0 0 0 0 0 0 0 0 0 0 0 0 0]\n",
      " [3 4 2 1 2 4 3 4 3 4 0 0 0 0 0 0 0 0 0 0 0 0 0 0 0 0 0 0 0 0 0 0]\n",
      " [3 2 4 4 1 1 1 4 3 3 0 0 0 0 0 0 0 0 0 0 0 0 0 0 0 0 0 0 0 0 0 0]\n",
      " [3 2 2 4 4 2 4 4 4 4 0 0 0 0 0 0 0 0 0 0 0 0 0 0 0 0 0 0 0 0 0 0]]\n",
      " 64/100 [==================>...........] - ETA: 3:25 - loss: 2.9368 - rpn_class_loss: 0.1596 - rpn_bbox_loss: 0.8339 - mrcnn_class_loss: 0.9866 - mrcnn_bbox_loss: 0.5024 - mrcnn_mask_loss: 0.4544[0 1 2 3 4] 0\n",
      "map_dict {0: 0, 1: 4, 2: 2, 3: 3, 4: 1}\n",
      "reassigned_labels [2 3 3 2 3 2 2 3 3 2 0 0 1 0 4 1 1 1 1 4 0 0 0 1 4 1 1 0 0 1 0 0 3 0 3 0 3\n",
      " 2 3 3 2 3 1 0 1 1 1 1 1 4 1 1 4 1 1 1 1 1 0 1 4 1 0 0 2 3 2 2 2 3 3 2 2 2\n",
      " 4 1 1 1 0 1 0 3 1 1 4 1 0 4 0 1 1 1 2 1 0 0 3 3 2 2 0 3 2 3 2 3 0 1 1 0 1\n",
      " 1 1 0 0 0 0 0 0 0 4 1 0 1 1 1 0 0 2 3 3 2 3 3 2 2 3 3 2 1 1 1 1 3 1 1 1 1\n",
      " 1 1 0 1 1 1 1 1 1 1 0 0 2 3 1 2 2 0 3 2 3 3 0 0 0 2 0 1 4 0 0 1 1 1 0 1 1\n",
      " 1 4 4 0 1 0 0 2 3 3 0 3 3 3 2 3 3 1 1 3 0 1 3 4 1 4 1 1 0 0 0 1 1 0 0 1 1\n",
      " 0 0 3 2 2 3 2 2 3 3 2 3 0 1 1 1 0 0 1 1 4 2 1 4 4 1 1 4 1 1 0 1 0 0]\n",
      "gt_ids [[2 4 4 2 4 4 3 4 4 2 0 0 0 0 0 0 0 0 0 0 0 0 0 0 0 0 0 0 0 0 0 0]\n",
      " [2 3 2 3 2 3 2 2 3 2 0 0 0 0 0 0 0 0 0 0 0 0 0 0 0 0 0 0 0 0 0 0]\n",
      " [4 4 4 1 4 4 4 1 4 2 0 0 0 0 0 0 0 0 0 0 0 0 0 0 0 0 0 0 0 0 0 0]\n",
      " [4 4 1 3 1 4 3 4 3 4 0 0 0 0 0 0 0 0 0 0 0 0 0 0 0 0 0 0 0 0 0 0]\n",
      " [1 4 4 2 4 4 2 3 4 4 0 0 0 0 0 0 0 0 0 0 0 0 0 0 0 0 0 0 0 0 0 0]\n",
      " [1 4 3 4 2 3 4 1 4 4 0 0 0 0 0 0 0 0 0 0 0 0 0 0 0 0 0 0 0 0 0 0]\n",
      " [3 2 4 1 4 4 4 3 4 4 0 0 0 0 0 0 0 0 0 0 0 0 0 0 0 0 0 0 0 0 0 0]\n",
      " [4 2 3 4 2 4 4 4 2 2 0 0 0 0 0 0 0 0 0 0 0 0 0 0 0 0 0 0 0 0 0 0]]\n",
      " 65/100 [==================>...........] - ETA: 3:17 - loss: 2.9095 - rpn_class_loss: 0.1579 - rpn_bbox_loss: 0.8310 - mrcnn_class_loss: 0.9738 - mrcnn_bbox_loss: 0.4972 - mrcnn_mask_loss: 0.4497[0 1 2 3 4] 0\n",
      "map_dict {0: 0, 1: 1, 2: 3, 3: 2, 4: 4}\n",
      "reassigned_labels [3 2 2 2 0 0 2 0 2 3 4 0 1 1 0 1 1 0 1 2 1 1 0 1 0 1 1 4 1 0 0 0 3 3 0 3 3\n",
      " 0 3 0 0 3 1 1 4 1 1 1 4 0 1 1 1 1 1 1 1 4 1 1 0 1 0 0 0 2 2 2 2 0 2 2 2 2\n",
      " 4 0 0 1 2 0 1 0 1 1 1 1 0 1 0 1 0 4 4 4 0 0 3 0 2 2 3 0 2 2 2 2 0 1 0 1 1\n",
      " 1 1 0 0 1 0 4 0 1 4 4 1 1 0 0 0 0 3 3 0 0 2 2 3 3 3 2 4 0 1 1 1 1 1 1 0 4\n",
      " 4 1 4 0 0 3 4 1 1 4 0 0 3 3 2 0 3 2 2 0 2 2 1 1 0 0 4 0 1 4 0 1 4 4 4 1 0\n",
      " 1 1 1 0 1 0 0 2 3 0 2 3 0 3 3 3 3 1 0 0 4 2 0 0 1 1 0 4 0 0 0 1 0 4 1 2 1\n",
      " 0 0 3 3 3 2 2 3 3 2 2 3 1 0 4 1 0 0 1 1 4 1 1 1 1 1 4 1 1 1 1 4 0 0]\n",
      "gt_ids [[4 2 2 3 1 1 4 1 3 4 0 0 0 0 0 0 0 0 0 0 0 0 0 0 0 0 0 0 0 0 0 0]\n",
      " [4 2 3 2 2 3 4 3 3 2 0 0 0 0 0 0 0 0 0 0 0 0 0 0 0 0 0 0 0 0 0 0]\n",
      " [1 3 2 4 4 1 4 4 2 4 0 0 0 0 0 0 0 0 0 0 0 0 0 0 0 0 0 0 0 0 0 0]\n",
      " [4 1 4 3 4 1 3 3 3 3 0 0 0 0 0 0 0 0 0 0 0 0 0 0 0 0 0 0 0 0 0 0]\n",
      " [4 4 1 1 2 3 4 4 4 2 0 0 0 0 0 0 0 0 0 0 0 0 0 0 0 0 0 0 0 0 0 0]\n",
      " [2 4 4 3 2 2 4 3 2 4 0 0 0 0 0 0 0 0 0 0 0 0 0 0 0 0 0 0 0 0 0 0]\n",
      " [3 4 1 3 2 1 4 4 4 4 0 0 0 0 0 0 0 0 0 0 0 0 0 0 0 0 0 0 0 0 0 0]\n",
      " [4 4 2 4 3 2 2 2 3 2 0 0 0 0 0 0 0 0 0 0 0 0 0 0 0 0 0 0 0 0 0 0]]\n",
      " 66/100 [==================>...........] - ETA: 3:10 - loss: 2.8847 - rpn_class_loss: 0.1562 - rpn_bbox_loss: 0.8279 - mrcnn_class_loss: 0.9640 - mrcnn_bbox_loss: 0.4918 - mrcnn_mask_loss: 0.4447[0 1 2 3 4] 2\n",
      "map_dict {2: 0, 0: 4, 1: 1, 3: 3, 4: 2}\n",
      "reassigned_labels [3 0 2 2 2 3 3 0 0 0 1 0 0 0 0 1 0 4 1 1 1 0 4 4 1 1 4 4 0 0 0 0 3 2 0 2 0\n",
      " 3 3 3 3 0 4 1 1 1 1 1 1 4 1 1 1 1 1 0 1 4 1 1 1 4 0 0 2 2 2 2 2 2 2 2 2 3\n",
      " 4 1 1 1 4 1 4 0 4 1 0 1 1 1 0 1 1 1 4 1 0 0 2 2 3 3 3 4 2 0 2 2 1 4 0 4 1\n",
      " 0 1 1 1 4 1 3 4 1 1 0 2 0 4 0 0 0 2 3 3 2 0 2 3 0 0 0 0 4 0 4 0 1 0 1 1 1\n",
      " 4 1 1 1 1 1 1 4 4 1 0 0 0 2 2 3 2 2 3 2 2 2 1 0 1 1 4 0 0 1 0 4 1 4 1 1 3\n",
      " 1 0 0 0 3 0 0 0 3 3 2 3 3 3 3 3 3 4 4 4 1 1 0 0 0 4 0 4 1 1 4 2 0 1 0 1 1\n",
      " 0 0 3 2 2 2 3 2 2 3 3 3 1 0 1 4 1 2 1 1 3 4 0 1 4 4 4 4 0 1 0 0 0 0]\n",
      "gt_ids [[4 1 2 2 3 4 4 1 1 1 0 0 0 0 0 0 0 0 0 0 0 0 0 0 0 0 0 0 0 0 0 0]\n",
      " [2 3 3 3 3 2 2 2 2 3 0 0 0 0 0 0 0 0 0 0 0 0 0 0 0 0 0 0 0 0 0 0]\n",
      " [4 4 4 3 4 4 4 1 2 4 0 0 0 0 0 0 0 0 0 0 0 0 0 0 0 0 0 0 0 0 0 0]\n",
      " [4 3 4 2 4 4 2 1 3 3 0 0 0 0 0 0 0 0 0 0 0 0 0 0 0 0 0 0 0 0 0 0]\n",
      " [2 4 4 2 1 3 4 1 1 1 0 0 0 0 0 0 0 0 0 0 0 0 0 0 0 0 0 0 0 0 0 0]\n",
      " [1 4 1 2 2 2 4 4 4 4 0 0 0 0 0 0 0 0 0 0 0 0 0 0 0 0 0 0 0 0 0 0]\n",
      " [1 2 4 1 4 4 4 4 4 2 0 0 0 0 0 0 0 0 0 0 0 0 0 0 0 0 0 0 0 0 0 0]\n",
      " [4 3 4 3 2 4 4 4 4 2 0 0 0 0 0 0 0 0 0 0 0 0 0 0 0 0 0 0 0 0 0 0]]\n",
      " 67/100 [===================>..........] - ETA: 3:03 - loss: 2.8594 - rpn_class_loss: 0.1545 - rpn_bbox_loss: 0.8249 - mrcnn_class_loss: 0.9533 - mrcnn_bbox_loss: 0.4866 - mrcnn_mask_loss: 0.4401[0 1 2 3 4] 0\n",
      "map_dict {0: 0, 1: 3, 2: 1, 3: 4, 4: 2}\n",
      "reassigned_labels [3 2 2 2 2 2 3 2 3 3 0 2 0 4 0 0 0 0 1 0 1 4 2 2 0 0 0 2 4 4 0 0 3 2 2 2 2\n",
      " 2 3 3 2 3 1 0 1 1 1 0 1 1 1 1 4 1 1 1 1 1 1 0 1 1 0 0 3 2 2 2 2 2 2 2 2 2\n",
      " 1 1 4 1 4 0 4 0 0 1 1 1 1 0 1 4 4 1 1 1 0 0 3 2 3 2 3 2 3 2 2 2 1 0 1 0 2\n",
      " 1 4 1 1 1 0 0 1 1 1 0 4 0 1 1 0 0 3 2 2 3 3 3 1 2 2 3 0 2 4 1 4 1 0 2 1 1\n",
      " 1 0 1 1 1 1 4 1 0 1 0 0 2 3 2 2 3 2 2 3 4 3 1 4 0 0 4 3 4 1 1 2 4 4 1 1 2\n",
      " 4 1 1 1 4 0 0 3 3 3 3 2 3 2 3 3 2 4 1 3 4 0 4 1 1 1 0 1 2 0 4 2 0 3 4 0 3\n",
      " 0 0 3 3 3 3 2 2 3 3 3 3 0 1 4 2 1 4 0 1 0 0 1 4 0 0 1 1 0 4 4 4 0 0]\n",
      "gt_ids [[4 3 2 1 4 4 4 2 4 4 0 0 0 0 0 0 0 0 0 0 0 0 0 0 0 0 0 0 0 0 0 0]\n",
      " [2 3 3 3 3 3 2 2 3 4 0 0 0 0 0 0 0 0 0 0 0 0 0 0 0 0 0 0 0 0 0 0]\n",
      " [4 1 3 1 3 3 4 4 2 4 0 0 0 0 0 0 0 0 0 0 0 0 0 0 0 0 0 0 0 0 0 0]\n",
      " [4 1 4 3 4 3 4 1 3 1 0 0 0 0 0 0 0 0 0 0 0 0 0 0 0 0 0 0 0 0 0 0]\n",
      " [4 3 1 4 4 4 1 1 2 4 0 0 0 0 0 0 0 0 0 0 0 0 0 0 0 0 0 0 0 0 0 0]\n",
      " [2 4 2 3 4 4 2 4 4 4 0 0 0 0 0 0 0 0 0 0 0 0 0 0 0 0 0 0 0 0 0 0]\n",
      " [4 4 2 4 3 4 3 4 4 1 0 0 0 0 0 0 0 0 0 0 0 0 0 0 0 0 0 0 0 0 0 0]\n",
      " [2 4 4 4 2 4 4 4 4 4 0 0 0 0 0 0 0 0 0 0 0 0 0 0 0 0 0 0 0 0 0 0]]\n",
      " 68/100 [===================>..........] - ETA: 2:56 - loss: 2.8344 - rpn_class_loss: 0.1529 - rpn_bbox_loss: 0.8217 - mrcnn_class_loss: 0.9417 - mrcnn_bbox_loss: 0.4818 - mrcnn_mask_loss: 0.4363[0 1 2 3 4] 3\n",
      "map_dict {3: 0, 0: 1, 1: 3, 2: 2, 4: 4}\n",
      "reassigned_labels [2 2 3 2 2 3 2 2 2 3 4 0 1 0 0 1 1 4 1 0 0 0 0 1 0 1 0 1 1 4 0 0 2 2 3 2 3\n",
      " 3 3 3 0 3 0 1 0 1 4 1 1 1 2 1 1 1 0 1 1 0 1 1 1 1 0 0 2 2 2 3 2 2 2 3 0 2\n",
      " 0 0 1 0 1 1 0 0 0 0 0 1 0 0 4 1 4 1 1 1 0 0 2 2 2 3 2 2 3 2 3 3 1 0 0 1 0\n",
      " 1 0 1 0 1 0 2 1 1 1 1 1 1 1 1 0 0 3 3 2 3 0 2 3 3 2 2 1 0 0 1 1 1 1 4 0 0\n",
      " 0 4 4 4 0 0 1 1 1 1 0 0 3 0 2 2 2 3 1 2 2 0 1 1 0 0 0 0 1 0 1 1 1 1 1 0 0\n",
      " 1 0 0 0 3 0 0 2 3 0 3 2 3 2 2 2 2 4 0 0 1 1 1 0 1 1 4 1 1 1 1 1 1 4 0 1 1\n",
      " 0 0 2 3 2 3 2 2 2 2 3 2 1 1 1 4 1 4 0 1 4 1 1 4 4 0 2 1 1 3 1 1 0 0]\n",
      "gt_ids [[2 3 4 3 2 4 2 4 2 4 0 0 0 0 0 0 0 0 0 0 0 0 0 0 0 0 0 0 0 0 0 0]\n",
      " [3 3 2 2 4 2 4 4 3 2 0 0 0 0 0 0 0 0 0 0 0 0 0 0 0 0 0 0 0 0 0 0]\n",
      " [2 4 1 4 4 3 3 4 3 3 0 0 0 0 0 0 0 0 0 0 0 0 0 0 0 0 0 0 0 0 0 0]\n",
      " [3 2 2 4 3 1 4 3 4 4 0 0 0 0 0 0 0 0 0 0 0 0 0 0 0 0 0 0 0 0 0 0]\n",
      " [4 4 3 4 1 2 4 4 3 1 0 0 0 0 0 0 0 0 0 0 0 0 0 0 0 0 0 0 0 0 0 0]\n",
      " [4 3 4 2 2 2 3 4 2 3 0 0 0 0 0 0 0 0 0 0 0 0 0 0 0 0 0 0 0 0 0 0]\n",
      " [4 4 1 4 3 4 4 2 4 3 0 0 0 0 0 0 0 0 0 0 0 0 0 0 0 0 0 0 0 0 0 0]\n",
      " [3 4 4 4 4 2 3 3 4 2 0 0 0 0 0 0 0 0 0 0 0 0 0 0 0 0 0 0 0 0 0 0]]\n"
     ]
    },
    {
     "name": "stdout",
     "output_type": "stream",
     "text": [
      " 69/100 [===================>..........] - ETA: 2:50 - loss: 2.8100 - rpn_class_loss: 0.1512 - rpn_bbox_loss: 0.8184 - mrcnn_class_loss: 0.9322 - mrcnn_bbox_loss: 0.4763 - mrcnn_mask_loss: 0.4318[0 1 2 3 4] 3\n",
      "map_dict {3: 0, 0: 2, 1: 1, 2: 4, 4: 3}\n",
      "reassigned_labels [3 3 2 2 2 3 3 3 2 2 4 3 0 4 0 0 0 1 1 0 0 1 1 1 1 4 0 0 4 1 0 0 2 2 3 2 3\n",
      " 3 2 3 3 0 1 1 4 1 1 0 1 0 1 1 1 1 1 1 1 1 1 1 1 1 0 0 2 2 2 2 3 2 2 3 2 2\n",
      " 4 0 1 4 1 1 0 1 0 2 1 4 0 1 4 1 1 1 4 0 0 0 2 3 2 0 3 2 2 3 2 2 0 0 1 0 1\n",
      " 1 4 1 2 0 1 3 1 4 0 2 0 4 0 4 0 0 2 3 2 2 0 0 2 2 3 3 1 1 1 1 1 0 4 1 0 1\n",
      " 1 0 0 0 0 4 0 0 2 1 0 0 2 2 2 3 3 2 2 2 2 2 0 0 4 2 0 1 0 4 1 2 0 2 1 1 1\n",
      " 1 1 1 4 2 0 0 3 3 3 0 3 3 2 3 3 3 4 1 3 1 4 1 1 3 4 1 0 0 4 0 4 0 4 1 0 1\n",
      " 0 0 3 3 2 3 3 2 2 2 2 3 0 1 1 1 1 1 4 1 1 1 1 1 4 1 4 1 1 1 1 0 0 0]\n",
      "gt_ids [[4 4 1 2 3 4 4 4 3 2 0 0 0 0 0 0 0 0 0 0 0 0 0 0 0 0 0 0 0 0 0 0]\n",
      " [3 3 2 3 2 4 3 2 4 3 0 0 0 0 0 0 0 0 0 0 0 0 0 0 0 0 0 0 0 0 0 0]\n",
      " [2 4 4 4 4 3 2 4 4 4 0 0 0 0 0 0 0 0 0 0 0 0 0 0 0 0 0 0 0 0 0 0]\n",
      " [3 2 3 1 4 1 1 4 3 4 0 0 0 0 0 0 0 0 0 0 0 0 0 0 0 0 0 0 0 0 0 0]\n",
      " [2 4 2 3 1 1 3 3 2 4 0 0 0 0 0 0 0 0 0 0 0 0 0 0 0 0 0 0 0 0 0 0]\n",
      " [2 2 2 4 4 4 1 2 4 1 0 0 0 0 0 0 0 0 0 0 0 0 0 0 0 0 0 0 0 0 0 0]\n",
      " [4 2 4 1 4 4 3 2 2 4 0 0 0 0 0 0 0 0 0 0 0 0 0 0 0 0 0 0 0 0 0 0]\n",
      " [4 4 3 4 4 1 3 4 3 4 0 0 0 0 0 0 0 0 0 0 0 0 0 0 0 0 0 0 0 0 0 0]]\n",
      " 70/100 [====================>.........] - ETA: 2:43 - loss: 2.7854 - rpn_class_loss: 0.1496 - rpn_bbox_loss: 0.8151 - mrcnn_class_loss: 0.9212 - mrcnn_bbox_loss: 0.4714 - mrcnn_mask_loss: 0.4280[0 1 2 3 4] 3\n",
      "map_dict {3: 0, 0: 2, 1: 1, 2: 4, 4: 3}\n",
      "reassigned_labels [3 0 2 3 2 2 2 3 3 3 4 0 1 1 0 0 1 0 4 1 1 1 4 1 1 4 1 1 0 0 0 0 2 3 2 3 3\n",
      " 3 0 3 3 3 4 1 1 1 0 1 1 1 1 4 1 4 4 1 1 1 1 1 1 1 0 0 2 2 2 2 2 2 2 2 3 2\n",
      " 0 3 0 1 4 0 1 0 1 0 1 0 0 0 1 1 0 4 4 0 0 0 4 2 3 2 3 3 3 4 3 3 0 1 4 1 1\n",
      " 1 1 4 0 1 0 4 4 4 4 1 0 1 1 0 0 0 2 3 2 2 3 3 3 2 0 2 1 0 1 1 4 0 4 1 0 1\n",
      " 4 4 1 1 1 1 4 1 1 0 0 0 3 2 3 2 2 2 2 2 2 0 1 2 4 0 0 4 1 4 1 0 4 1 1 1 4\n",
      " 1 1 1 1 1 0 0 3 2 2 3 3 3 2 3 3 2 1 4 1 0 0 1 1 1 1 4 1 1 4 4 1 4 1 4 1 1\n",
      " 0 0 3 2 2 3 3 3 3 3 2 3 1 4 4 4 4 1 3 4 4 2 1 4 4 4 3 1 2 2 4 1 0 0]\n",
      "gt_ids [[4 1 2 4 2 4 3 4 4 4 0 0 0 0 0 0 0 0 0 0 0 0 0 0 0 0 0 0 0 0 0 0]\n",
      " [3 2 3 4 2 2 3 2 2 2 0 0 0 0 0 0 0 0 0 0 0 0 0 0 0 0 0 0 0 0 0 0]\n",
      " [3 1 4 4 4 1 4 2 4 1 0 0 0 0 0 0 0 0 0 0 0 0 0 0 0 0 0 0 0 0 0 0]\n",
      " [4 3 2 1 2 4 4 4 2 4 0 0 0 0 0 0 0 0 0 0 0 0 0 0 0 0 0 0 0 0 0 0]\n",
      " [3 2 1 3 2 4 2 3 1 3 0 0 0 0 0 0 0 0 0 0 0 0 0 0 0 0 0 0 0 0 0 0]\n",
      " [2 4 4 2 4 4 4 4 2 3 0 0 0 0 0 0 0 0 0 0 0 0 0 0 0 0 0 0 0 0 0 0]\n",
      " [4 3 3 2 4 4 4 4 4 1 0 0 0 0 0 0 0 0 0 0 0 0 0 0 0 0 0 0 0 0 0 0]\n",
      " [4 3 3 2 4 4 2 4 3 2 0 0 0 0 0 0 0 0 0 0 0 0 0 0 0 0 0 0 0 0 0 0]]\n",
      " 71/100 [====================>.........] - ETA: 2:37 - loss: 2.7609 - rpn_class_loss: 0.1481 - rpn_bbox_loss: 0.8116 - mrcnn_class_loss: 0.9108 - mrcnn_bbox_loss: 0.4665 - mrcnn_mask_loss: 0.4238[0 1 2 3 4] 4\n",
      "map_dict {4: 0, 0: 2, 1: 1, 2: 3, 3: 4}\n",
      "reassigned_labels [2 3 3 0 3 2 2 2 3 3 0 1 1 0 3 1 1 4 1 0 1 1 1 1 1 0 2 1 1 1 0 0 3 3 3 3 3\n",
      " 0 3 3 2 3 1 1 1 4 1 3 1 1 1 1 4 1 1 1 0 1 1 4 2 0 0 0 2 2 3 2 3 2 2 3 3 2\n",
      " 4 1 1 4 1 1 0 0 0 4 1 0 1 0 0 1 1 4 1 4 0 0 3 2 4 2 2 3 2 3 3 2 1 4 4 1 2\n",
      " 1 4 0 0 0 2 1 1 1 0 1 0 4 1 1 0 0 2 2 3 3 3 3 1 2 3 3 0 1 1 1 4 4 0 1 0 1\n",
      " 0 1 2 0 1 1 1 4 1 1 0 0 2 2 2 0 2 2 2 2 2 3 0 1 0 0 0 0 1 0 2 1 4 1 4 1 1\n",
      " 4 1 1 1 1 0 0 2 3 2 2 3 3 3 3 2 3 1 1 1 0 2 1 0 1 0 1 0 0 1 1 0 1 0 1 1 4\n",
      " 0 0 3 3 3 2 3 3 3 2 2 2 1 1 1 4 4 0 1 0 4 0 4 2 0 0 0 1 1 1 1 1 0 0]\n",
      "gt_ids [[2 4 4 1 4 2 3 2 4 4 0 0 0 0 0 0 0 0 0 0 0 0 0 0 0 0 0 0 0 0 0 0]\n",
      " [4 2 4 2 2 3 2 2 3 2 0 0 0 0 0 0 0 0 0 0 0 0 0 0 0 0 0 0 0 0 0 0]\n",
      " [3 4 4 1 4 2 4 2 4 4 0 0 0 0 0 0 0 0 0 0 0 0 0 0 0 0 0 0 0 0 0 0]\n",
      " [2 1 4 3 3 4 1 4 2 3 0 0 0 0 0 0 0 0 0 0 0 0 0 0 0 0 0 0 0 0 0 0]\n",
      " [1 3 2 4 2 2 1 3 4 2 0 0 0 0 0 0 0 0 0 0 0 0 0 0 0 0 0 0 0 0 0 0]\n",
      " [4 1 4 3 2 1 1 2 1 4 0 0 0 0 0 0 0 0 0 0 0 0 0 0 0 0 0 0 0 0 0 0]\n",
      " [3 4 3 4 4 2 4 2 4 4 0 0 0 0 0 0 0 0 0 0 0 0 0 0 0 0 0 0 0 0 0 0]\n",
      " [2 4 4 3 4 4 2 4 2 4 0 0 0 0 0 0 0 0 0 0 0 0 0 0 0 0 0 0 0 0 0 0]]\n",
      " 72/100 [====================>.........] - ETA: 2:30 - loss: 2.7368 - rpn_class_loss: 0.1465 - rpn_bbox_loss: 0.8081 - mrcnn_class_loss: 0.9008 - mrcnn_bbox_loss: 0.4617 - mrcnn_mask_loss: 0.4197[0 1 2 3 4] 2\n",
      "map_dict {2: 0, 0: 1, 1: 3, 3: 4, 4: 2}\n",
      "reassigned_labels [3 2 2 2 2 3 3 2 3 3 0 1 0 4 0 0 1 0 4 1 0 1 4 1 1 1 1 1 0 3 0 0 2 3 2 2 3\n",
      " 3 3 3 3 2 1 4 1 0 4 4 1 1 1 0 0 4 1 1 1 4 4 1 3 1 0 0 2 3 2 2 2 2 2 2 3 2\n",
      " 1 0 0 1 0 4 1 0 1 1 1 4 0 0 0 0 4 0 3 0 0 0 3 3 2 2 2 2 2 4 3 3 1 1 0 4 0\n",
      " 1 4 0 1 1 0 1 1 1 0 1 1 1 1 1 0 0 3 3 3 2 3 3 3 3 3 2 4 4 1 4 1 0 1 4 4 1\n",
      " 4 0 1 1 0 0 1 0 1 1 0 0 3 2 3 2 0 2 2 2 3 2 1 1 0 4 1 0 1 0 1 1 1 4 1 1 0\n",
      " 1 0 0 4 4 0 0 2 3 3 2 3 3 2 2 2 3 0 1 4 1 1 1 4 0 1 4 0 0 4 0 0 4 4 0 4 4\n",
      " 0 0 3 2 3 2 2 3 3 3 3 2 2 1 4 1 0 1 0 4 4 4 4 0 1 1 1 1 1 1 1 1 0 0]\n",
      "gt_ids [[4 1 2 2 1 4 4 2 4 4 0 0 0 0 0 0 0 0 0 0 0 0 0 0 0 0 0 0 0 0 0 0]\n",
      " [3 2 3 3 4 4 2 2 2 3 0 0 0 0 0 0 0 0 0 0 0 0 0 0 0 0 0 0 0 0 0 0]\n",
      " [4 4 4 1 2 1 1 2 4 4 0 0 0 0 0 0 0 0 0 0 0 0 0 0 0 0 0 0 0 0 0 0]\n",
      " [2 2 1 1 1 3 1 4 4 4 0 0 0 0 0 0 0 0 0 0 0 0 0 0 0 0 0 0 0 0 0 0]\n",
      " [4 4 2 1 4 4 4 4 2 3 0 0 0 0 0 0 0 0 0 0 0 0 0 0 0 0 0 0 0 0 0 0]\n",
      " [4 1 4 2 3 1 4 4 2 2 0 0 0 0 0 0 0 0 0 0 0 0 0 0 0 0 0 0 0 0 0 0]\n",
      " [1 4 4 1 4 4 1 3 3 4 0 0 0 0 0 0 0 0 0 0 0 0 0 0 0 0 0 0 0 0 0 0]\n",
      " [4 4 2 3 3 2 4 4 4 3 0 0 0 0 0 0 0 0 0 0 0 0 0 0 0 0 0 0 0 0 0 0]]\n",
      " 73/100 [====================>.........] - ETA: 2:24 - loss: 2.7136 - rpn_class_loss: 0.1450 - rpn_bbox_loss: 0.8045 - mrcnn_class_loss: 0.8914 - mrcnn_bbox_loss: 0.4569 - mrcnn_mask_loss: 0.4158"
     ]
    }
   ],
   "source": [
    "# Train the head branches\n",
    "# Passing layers=\"heads\" freezes all layers except the head\n",
    "# layers. You can also pass a regular expression to select\n",
    "# which layers to train by name pattern.\n",
    "model.train(dataset_train, dataset_val, \n",
    "            learning_rate=config.LEARNING_RATE, \n",
    "            epochs=1, \n",
    "            layers='heads')"
   ]
  },
  {
   "cell_type": "code",
   "execution_count": 13,
   "metadata": {},
   "outputs": [
    {
     "data": {
      "text/plain": [
       "array([[0, 1, 0, 0, 0, 0, 0],\n",
       "       [0, 0, 0, 0, 0, 0, 1]])"
      ]
     },
     "execution_count": 13,
     "metadata": {},
     "output_type": "execute_result"
    }
   ],
   "source": [
    "from sklearn.preprocessing import label_binarize\n",
    "label_binarize([1, 6], classes=range(7))"
   ]
  },
  {
   "cell_type": "code",
   "execution_count": 15,
   "metadata": {
    "scrolled": true
   },
   "outputs": [
    {
     "name": "stdout",
     "output_type": "stream",
     "text": [
      "\n",
      "Starting at epoch 0. LR=0.001\n",
      "\n",
      "Checkpoint Path: /home/marziehhaghighi/workspace_DL/Mask_RCNN/logs/spots20200601T2133/mask_rcnn_spots_{epoch:04d}.h5\n",
      "Selecting layers to train\n",
      "fpn_c5p5               (Conv2D)\n",
      "fpn_c4p4               (Conv2D)\n",
      "fpn_c3p3               (Conv2D)\n",
      "fpn_c2p2               (Conv2D)\n",
      "fpn_p5                 (Conv2D)\n",
      "fpn_p2                 (Conv2D)\n",
      "fpn_p3                 (Conv2D)\n",
      "fpn_p4                 (Conv2D)\n",
      "In model:  rpn_model\n",
      "    rpn_conv_shared        (Conv2D)\n",
      "    rpn_class_raw          (Conv2D)\n",
      "    rpn_bbox_pred          (Conv2D)\n",
      "mrcnn_mask_conv1       (TimeDistributed)\n",
      "mrcnn_mask_bn1         (TimeDistributed)\n",
      "mrcnn_mask_conv2       (TimeDistributed)\n",
      "mrcnn_mask_bn2         (TimeDistributed)\n",
      "mrcnn_class_conv1      (TimeDistributed)\n",
      "mrcnn_class_bn1        (TimeDistributed)\n",
      "mrcnn_mask_conv3       (TimeDistributed)\n",
      "mrcnn_mask_bn3         (TimeDistributed)\n",
      "mrcnn_class_conv2      (TimeDistributed)\n",
      "mrcnn_class_bn2        (TimeDistributed)\n",
      "mrcnn_mask_conv4       (TimeDistributed)\n",
      "mrcnn_mask_bn4         (TimeDistributed)\n",
      "mrcnn_bbox_fc          (TimeDistributed)\n",
      "mrcnn_mask_deconv      (TimeDistributed)\n",
      "mrcnn_class_logits     (TimeDistributed)\n",
      "mrcnn_mask             (TimeDistributed)\n"
     ]
    },
    {
     "name": "stderr",
     "output_type": "stream",
     "text": [
      "/usr/local/lib/python3.6/site-packages/tensorflow/python/ops/gradients_impl.py:112: UserWarning: Converting sparse IndexedSlices to a dense Tensor of unknown shape. This may consume a large amount of memory.\n",
      "  \"Converting sparse IndexedSlices to a dense Tensor of unknown shape. \"\n",
      "/home/marziehhaghighi/.local/lib/python3.6/site-packages/keras/engine/training_generator.py:49: UserWarning: Using a generator with `use_multiprocessing=True` and multiple workers may duplicate your data. Please consider using the `keras.utils.Sequence class.\n",
      "  UserWarning('Using a generator with `use_multiprocessing=True`'\n"
     ]
    },
    {
     "name": "stdout",
     "output_type": "stream",
     "text": [
      "Epoch 1/1\n"
     ]
    },
    {
     "name": "stderr",
     "output_type": "stream",
     "text": [
      "/home/marziehhaghighi/.local/lib/python3.6/site-packages/keras/utils/data_utils.py:709: UserWarning: An input could not be retrieved. It could be because a worker has died.We do not have any information on the lost sample.\n",
      "  UserWarning)\n"
     ]
    },
    {
     "name": "stdout",
     "output_type": "stream",
     "text": [
      "100/100 [==============================] - 442s 4s/step - loss: 1.5674 - rpn_class_loss: 0.1103 - rpn_bbox_loss: 0.7043 - mrcnn_class_loss: 0.2311 - mrcnn_bbox_loss: 0.2533 - mrcnn_mask_loss: 0.2684 - val_loss: 0.8294 - val_rpn_class_loss: 0.0342 - val_rpn_bbox_loss: 0.5035 - val_mrcnn_class_loss: 0.0948 - val_mrcnn_bbox_loss: 0.1104 - val_mrcnn_mask_loss: 0.0866\n"
     ]
    }
   ],
   "source": [
    "# Train the head branches\n",
    "# Passing layers=\"heads\" freezes all layers except the head\n",
    "# layers. You can also pass a regular expression to select\n",
    "# which layers to train by name pattern.\n",
    "model.train(dataset_train, dataset_val, \n",
    "            learning_rate=config.LEARNING_RATE, \n",
    "            epochs=1, \n",
    "            layers='heads')"
   ]
  },
  {
   "cell_type": "code",
   "execution_count": null,
   "metadata": {},
   "outputs": [],
   "source": [
    " 1/100 [..............................] - ETA: 3:59:11 - loss: nan - rpn_class_loss: 0.4325 - rpn_bbox_loss: 1.6060 - mrcnn_class_loss: nan - mrcnn_bbox_loss: 2.4804 - mrcnn_mask_loss: 0.4483Input Shape (8, 32, 1024)"
   ]
  },
  {
   "cell_type": "code",
   "execution_count": null,
   "metadata": {},
   "outputs": [],
   "source": [
    " 45/100 [============>.................] - ETA: 5:44 - loss: 2.4823 - rpn_class_loss: 0.2034 - rpn_bbox_loss: 0.9265 - mrcnn_class_loss: 0.4083 - mrcnn_bbox_loss: 0.4520 - mrcnn_mask_loss: 0.4922"
   ]
  },
  {
   "cell_type": "code",
   "execution_count": 21,
   "metadata": {
    "scrolled": true
   },
   "outputs": [],
   "source": [
    "# Train the head branches\n",
    "# Passing layers=\"heads\" freezes all layers except the head\n",
    "# layers. You can also pass a regular expression to select\n",
    "# which layers to train by name pattern.\n",
    "model.train(dataset_train, dataset_val, \n",
    "            learning_rate=config.LEARNING_RATE, \n",
    "            epochs=1, \n",
    "            layers='heads')"
   ]
  },
  {
   "cell_type": "code",
   "execution_count": 22,
   "metadata": {
    "scrolled": true
   },
   "outputs": [],
   "source": [
    "# Fine tune all layers\n",
    "# Passing layers=\"all\" trains all layers. You can also \n",
    "# pass a regular expression to select which layers to\n",
    "# train by name pattern.\n",
    "model.train(dataset_train, dataset_val, \n",
    "            learning_rate=config.LEARNING_RATE / 10,\n",
    "            epochs=2, \n",
    "            layers=\"all\")"
   ]
  },
  {
   "cell_type": "code",
   "execution_count": 10,
   "metadata": {
    "collapsed": true
   },
   "outputs": [],
   "source": [
    "# Save weights\n",
    "# Typically not needed because callbacks save after every epoch\n",
    "# Uncomment to save manually\n",
    "# model_path = os.path.join(MODEL_DIR, \"mask_rcnn_shapes.h5\")\n",
    "# model.keras_model.save_weights(model_path)"
   ]
  },
  {
   "cell_type": "markdown",
   "metadata": {},
   "source": [
    "## Detection"
   ]
  },
  {
   "cell_type": "code",
   "execution_count": 12,
   "metadata": {},
   "outputs": [
    {
     "name": "stdout",
     "output_type": "stream",
     "text": [
      "shared Tensor(\"pool_squeeze_2/Squeeze_1:0\", shape=(?, 1000, 1024), dtype=float32)\n",
      "pred_class_ids Tensor(\"pred_4_lambda_layer_2:0\", shape=(?, 1000), dtype=int64)\n",
      "clustering_labels Tensor(\"lambda_layer_2/kmeansclus:0\", shape=(?, 1000), dtype=int32)\n",
      "WARNING:tensorflow:From /usr/local/lib/python3.6/site-packages/tensorflow/python/ops/sparse_ops.py:1165: sparse_to_dense (from tensorflow.python.ops.sparse_ops) is deprecated and will be removed in a future version.\n",
      "Instructions for updating:\n",
      "Create a `tf.sparse.SparseTensor` and use `tf.sparse.to_dense` instead.\n",
      "Loading weights from  /home/marziehhaghighi/workspace_DL/Mask_RCNN/logs/spots20200603T0022/mask_rcnn_spots_0010.h5\n",
      "Re-starting from epoch 10\n"
     ]
    }
   ],
   "source": [
    "class InferenceConfig(SpotsConfig):\n",
    "    GPU_COUNT = 1\n",
    "    IMAGES_PER_GPU = 1\n",
    "\n",
    "inference_config = InferenceConfig()\n",
    "inference_config.head='def'\n",
    "inference_config.assign_label_mode=\"clustering\"\n",
    "inference_config.DETECTION_MIN_CONFIDENCE=0.7\n",
    "# Recreate the model in inference mode\n",
    "model = modellib.MaskRCNN(mode=\"inference\", \n",
    "                          config=inference_config,\n",
    "                          model_dir=MODEL_DIR)\n",
    "\n",
    "\n",
    "\n",
    "# Get path to saved weights\n",
    "# Either set a specific path or find last trained weights\n",
    "# model_path = os.path.join(ROOT_DIR, \".h5 file name here\")\n",
    "model_path = model.find_last()\n",
    "\n",
    "# Load trained weights\n",
    "print(\"Loading weights from \", model_path)\n",
    "model.load_weights(model_path, by_name=True)"
   ]
  },
  {
   "cell_type": "code",
   "execution_count": 53,
   "metadata": {},
   "outputs": [
    {
     "name": "stdout",
     "output_type": "stream",
     "text": [
      "Re-starting from epoch 1\n"
     ]
    }
   ],
   "source": [
    "model.load_weights(model_path, by_name=True)"
   ]
  },
  {
   "cell_type": "code",
   "execution_count": 12,
   "metadata": {},
   "outputs": [
    {
     "data": {
      "text/plain": [
       "dtype('uint8')"
      ]
     },
     "execution_count": 12,
     "metadata": {},
     "output_type": "execute_result"
    }
   ],
   "source": [
    "original_image.dtype"
   ]
  },
  {
   "cell_type": "code",
   "execution_count": 16,
   "metadata": {},
   "outputs": [
    {
     "name": "stdout",
     "output_type": "stream",
     "text": [
      "original_image           shape: (1024, 1024, 3)       min:    5.00000  max:  252.00000  uint8\n",
      "image_meta               shape: (17,)                 min:    0.00000  max: 1024.00000  int64\n",
      "gt_class_id              shape: (11,)                 min:    1.00000  max:    4.00000  int32\n",
      "gt_bbox                  shape: (11, 4)               min:   91.00000  max: 1024.00000  int32\n",
      "gt_mask                  shape: (1024, 1024, 11)      min:    0.00000  max:    1.00000  bool\n"
     ]
    },
    {
     "data": {
      "image/png": "[encoded data removed]",
      "text/plain": [
       "<matplotlib.figure.Figure at 0x7f86f8e176a0>"
      ]
     },
     "metadata": {
      "needs_background": "light"
     },
     "output_type": "display_data"
    }
   ],
   "source": [
    "# Test on a random image\n",
    "image_id = random.choice(dataset_val.image_ids)\n",
    "# image_id=33\n",
    "original_image, image_meta, gt_class_id, gt_bbox, gt_mask =\\\n",
    "    modellib.load_image_gt(dataset_val, inference_config, \n",
    "                           image_id, use_mini_mask=False)\n",
    "\n",
    "log(\"original_image\", original_image)\n",
    "log(\"image_meta\", image_meta)\n",
    "log(\"gt_class_id\", gt_class_id)\n",
    "log(\"gt_bbox\", gt_bbox)\n",
    "log(\"gt_mask\", gt_mask)\n",
    "\n",
    "visualize.display_instances(original_image, gt_bbox, gt_mask, gt_class_id, \n",
    "                            dataset_train.class_names, figsize=(8, 8))"
   ]
  },
  {
   "cell_type": "code",
   "execution_count": 14,
   "metadata": {},
   "outputs": [
    {
     "data": {
      "text/plain": [
       "array([2, 3, 4, 4, 2, 2, 3, 2, 4, 3, 3, 4, 2, 3, 4, 4, 4, 3, 2, 1, 2, 2,\n",
       "       1, 2, 1, 3, 2], dtype=int32)"
      ]
     },
     "execution_count": 14,
     "metadata": {},
     "output_type": "execute_result"
    }
   ],
   "source": [
    "gt_class_id"
   ]
  },
  {
   "cell_type": "code",
   "execution_count": 15,
   "metadata": {},
   "outputs": [
    {
     "data": {
      "text/plain": [
       "array([2, 1, 1, 1, 1, 1, 1, 1, 1, 1, 1, 1, 1, 1, 1, 1, 1, 1, 1, 1, 1, 1,\n",
       "       1, 1, 1, 1, 1, 1, 1, 1, 1, 1, 1, 1, 1, 1, 1, 1, 2, 1, 1, 1, 1, 1,\n",
       "       1, 1, 2, 1, 1, 1, 1, 1, 2, 1, 1, 1, 1, 1, 1, 1, 1, 1, 1, 1, 1, 1,\n",
       "       1, 1, 1, 4, 4, 4, 1, 4, 4, 4, 4, 4, 4, 1, 4, 4, 4, 4, 4, 4, 4, 4,\n",
       "       1, 1, 4, 4, 4, 4, 4, 4, 4, 4, 1, 1], dtype=int32)"
      ]
     },
     "execution_count": 15,
     "metadata": {},
     "output_type": "execute_result"
    }
   ],
   "source": [
    "r['class_ids']"
   ]
  },
  {
   "cell_type": "code",
   "execution_count": 16,
   "metadata": {},
   "outputs": [],
   "source": [
    "# r['rois']"
   ]
  },
  {
   "cell_type": "code",
   "execution_count": 17,
   "metadata": {},
   "outputs": [
    {
     "name": "stdout",
     "output_type": "stream",
     "text": [
      "Processing 1 images\n",
      "image                    shape: (1024, 1024, 3)       min:    5.00000  max:  252.00000  uint8\n",
      "image_meta (17,) [   0 1024 1024    3 1024 1024    3    0    0 1024 1024    1    0    0\n",
      "    0    0    0]\n",
      "(1, 17)\n",
      "molded_images            shape: (1, 1024, 1024, 3)    min: -118.70000  max:  128.30000  float64\n",
      "image_metas              shape: (1, 17)               min:    0.00000  max: 1024.00000  int64\n",
      "anchors                  shape: (1, 261888, 4)        min:   -0.08847  max:    1.02591  float32\n"
     ]
    },
    {
     "data": {
      "image/png": "[encoded data removed]",
      "text/plain": [
       "<matplotlib.figure.Figure at 0x7f86f6c7fcf8>"
      ]
     },
     "metadata": {
      "needs_background": "light"
     },
     "output_type": "display_data"
    }
   ],
   "source": [
    "results = model.detect([original_image], verbose=1)\n",
    "\n",
    "r = results[0]\n",
    "visualize.display_instances2(original_image, r['rois'], r['masks'], r['class_ids'], \n",
    "                            dataset_val.class_names, r['scores'], ax=get_ax())"
   ]
  },
  {
   "cell_type": "code",
   "execution_count": 30,
   "metadata": {},
   "outputs": [
    {
     "data": {
      "text/plain": [
       "[{'rois': array([], shape=(0, 4), dtype=int32),\n",
       "  'class_ids': array([], dtype=int32),\n",
       "  'scores': array([], dtype=float32),\n",
       "  'masks': array([], shape=(128, 128, 0), dtype=float64)}]"
      ]
     },
     "execution_count": 30,
     "metadata": {},
     "output_type": "execute_result"
    }
   ],
   "source": [
    "results"
   ]
  },
  {
   "cell_type": "code",
   "execution_count": 60,
   "metadata": {},
   "outputs": [],
   "source": [
    "# results"
   ]
  },
  {
   "cell_type": "markdown",
   "metadata": {},
   "source": [
    "## Evaluation"
   ]
  },
  {
   "cell_type": "code",
   "execution_count": 14,
   "metadata": {},
   "outputs": [
    {
     "name": "stdout",
     "output_type": "stream",
     "text": [
      "mAP:  0.95\n"
     ]
    }
   ],
   "source": [
    "# Compute VOC-Style mAP @ IoU=0.5\n",
    "# Running on 10 images. Increase for better accuracy.\n",
    "image_ids = np.random.choice(dataset_val.image_ids, 10)\n",
    "APs = []\n",
    "for image_id in image_ids:\n",
    "    # Load image and ground truth data\n",
    "    image, image_meta, gt_class_id, gt_bbox, gt_mask =\\\n",
    "        modellib.load_image_gt(dataset_val, inference_config,\n",
    "                               image_id, use_mini_mask=False)\n",
    "    molded_images = np.expand_dims(modellib.mold_image(image, inference_config), 0)\n",
    "    # Run object detection\n",
    "    results = model.detect([image], verbose=0)\n",
    "    r = results[0]\n",
    "    # Compute AP\n",
    "    AP, precisions, recalls, overlaps =\\\n",
    "        utils.compute_ap(gt_bbox, gt_class_id, gt_mask,\n",
    "                         r[\"rois\"], r[\"class_ids\"], r[\"scores\"], r['masks'])\n",
    "    APs.append(AP)\n",
    "    \n",
    "print(\"mAP: \", np.mean(APs))"
   ]
  },
  {
   "cell_type": "code",
   "execution_count": null,
   "metadata": {
    "collapsed": true
   },
   "outputs": [],
   "source": [
    "Function for classification loss\n",
    "def mrcnn_class_loss_graph(target_class_ids, pred_class_logits,\n",
    "                           active_class_ids):\n",
    "    \"\"\"Loss for the classifier head of Mask RCNN.\n",
    "\n",
    "    target_class_ids: [batch, num_rois]. Integer class IDs. Uses zero\n",
    "        padding to fill in the array.\n",
    "    pred_class_logits: [batch, num_rois, num_classes]\n",
    "    active_class_ids: [batch, num_classes]. Has a value of 1 for\n",
    "        classes that are in the dataset of the image, and 0\n",
    "        for classes that are not in the dataset."
   ]
  },
  {
   "cell_type": "code",
   "execution_count": null,
   "metadata": {},
   "outputs": [],
   "source": [
    "class_loss = KL.Lambda(lambda x: mrcnn_class_loss_graph(*x), name=\"mrcnn_class_loss\")(\n",
    "    [target_class_ids, mrcnn_class_logits, active_class_ids])"
   ]
  },
  {
   "cell_type": "code",
   "execution_count": null,
   "metadata": {},
   "outputs": [],
   "source": [
    "rois, target_class_ids, target_bbox, target_mask =\\\n",
    "    DetectionTargetLayer(config, name=\"proposal_targets\")([\n",
    "        target_rois, input_gt_class_ids, gt_boxes, input_gt_masks])"
   ]
  },
  {
   "cell_type": "code",
   "execution_count": null,
   "metadata": {},
   "outputs": [],
   "source": [
    "class DetectionTargetLayer(KE.Layer):\n",
    "    \"\"\"Subsamples proposals and generates target box refinement, class_ids,\n",
    "    and masks for each.\n",
    "\n",
    "    Inputs:\n",
    "    proposals: [batch, N, (y1, x1, y2, x2)] in normalized coordinates. Might\n",
    "               be zero padded if there are not enough proposals.\n",
    "    gt_class_ids: [batch, MAX_GT_INSTANCES] Integer class IDs.\n",
    "    gt_boxes: [batch, MAX_GT_INSTANCES, (y1, x1, y2, x2)] in normalized\n",
    "              coordinates.\n",
    "    gt_masks: [batch, height, width, MAX_GT_INSTANCES] of boolean type\n",
    "\n",
    "    Returns: Target ROIs and corresponding class IDs, bounding box shifts,\n",
    "    and masks.\n",
    "    rois: [batch, TRAIN_ROIS_PER_IMAGE, (y1, x1, y2, x2)] in normalized\n",
    "          coordinates\n",
    "    target_class_ids: [batch, TRAIN_ROIS_PER_IMAGE]. Integer class IDs.\n",
    "    target_deltas: [batch, TRAIN_ROIS_PER_IMAGE, (dy, dx, log(dh), log(dw)]\n",
    "    target_mask: [batch, TRAIN_ROIS_PER_IMAGE, height, width]\n",
    "                 Masks cropped to bbox boundaries and resized to neural\n",
    "                 network output size.\n",
    "\n",
    "    Note: Returned arrays might be zero padded if not enough target ROIs.\n",
    "    \"\"\""
   ]
  },
  {
   "cell_type": "code",
   "execution_count": null,
   "metadata": {},
   "outputs": [],
   "source": [
    "I want to manipulate conversion of \"gt_class_ids\" to \"target_class_ids\"\\\n",
    "in the above function for clustering samples and reassign the labels "
   ]
  },
  {
   "cell_type": "code",
   "execution_count": 16,
   "metadata": {},
   "outputs": [
    {
     "name": "stderr",
     "output_type": "stream",
     "text": [
      "/home/marziehhaghighi/.local/lib/python3.6/site-packages/dask/dataframe/utils.py:13: FutureWarning: pandas.util.testing is deprecated. Use the functions in the public API at pandas.testing instead.\n",
      "  import pandas.util.testing as tm\n"
     ]
    }
   ],
   "source": [
    "# import tensorflow as tf\n",
    "from tensorflow.contrib.factorization import KMeans"
   ]
  },
  {
   "cell_type": "code",
   "execution_count": null,
   "metadata": {},
   "outputs": [],
   "source": [
    "# Change:\n",
    "mrcnn_class_logits, mrcnn_class, mrcnn_bbox =\\\n",
    "fpn_classifier_graph(rois, mrcnn_feature_maps, input_image_meta,\n",
    "                     config.POOL_SIZE, config.NUM_CLASSES,\n",
    "                     train_bn=config.TRAIN_BN,\n",
    "                     fc_layers_size=config.FPN_CLASSIF_FC_LAYERS_SIZE)"
   ]
  },
  {
   "cell_type": "code",
   "execution_count": null,
   "metadata": {},
   "outputs": [],
   "source": []
  },
  {
   "cell_type": "code",
   "execution_count": null,
   "metadata": {},
   "outputs": [],
   "source": [
    "# ------------------------------------------\n",
    "# TensorFlow Implementation for kmeans\n",
    "# ------------------------------------------\n",
    "# Extract the features from the training data\n",
    "feats = tf.contrib.learn.infer_real_valued_columns_from_input(x_train)\n",
    "# Building a 3-layer DNN with 50 units each.\n",
    "classifier_tf = tf.contrib.learn.DNNClassifier(feature_columns=feats, \n",
    "                                               hidden_units=[50, 50, 50], \n",
    "                                               n_classes=3)\n",
    "# Use the train data to train this classifier\n",
    "classifier_tf.fit(x_train, y_train, steps=5000)\n",
    "# Use the trained model to predict on the test data\n",
    "predictions = list(classifier_tf.predict(x_test, as_iterable=True))\n",
    "score = metrics.accuracy_score(y_test, predictions)"
   ]
  },
  {
   "cell_type": "code",
   "execution_count": 22,
   "metadata": {},
   "outputs": [
    {
     "data": {
      "text/plain": [
       "<function tensorflow.contrib.learn.python.learn.estimators.estimator.infer_real_valued_columns_from_input(x)>"
      ]
     },
     "execution_count": 22,
     "metadata": {},
     "output_type": "execute_result"
    }
   ],
   "source": [
    "tf.contrib.learn.infer_real_valued_columns_from_input"
   ]
  },
  {
   "cell_type": "code",
   "execution_count": null,
   "metadata": {},
   "outputs": [],
   "source": [
    "kmeans = tf.contrib.factorization.KMeans(\n",
    "  inp,\n",
    "  num_clusters,\n",
    "  distance_metric=tf.contrib.factorization.COSINE_DISTANCE,\n",
    "  # TODO(agarwal): kmeans++ is currently causing crash in dbg mode.\n",
    "  # Enable this after fixing.\n",
    "  # initial_clusters=tf.contrib.factorization.KMEANS_PLUS_PLUS_INIT,\n",
    "  use_mini_batch=True)\n",
    "\n",
    "all_scores, _, clustering_scores, kmeans_training_op = kmeans.training_graph()"
   ]
  },
  {
   "cell_type": "code",
   "execution_count": 26,
   "metadata": {},
   "outputs": [
    {
     "ename": "AttributeError",
     "evalue": "module 'tensorflow.contrib.learn' has no attribute 'KMeans'",
     "output_type": "error",
     "traceback": [
      "\u001b[0;31m---------------------------------------------------------------------------\u001b[0m",
      "\u001b[0;31mAttributeError\u001b[0m                            Traceback (most recent call last)",
      "\u001b[0;32m<ipython-input-26-2e563dab8dd5>\u001b[0m in \u001b[0;36m<module>\u001b[0;34m\u001b[0m\n\u001b[0;32m----> 1\u001b[0;31m \u001b[0mtf\u001b[0m\u001b[0;34m.\u001b[0m\u001b[0mcontrib\u001b[0m\u001b[0;34m.\u001b[0m\u001b[0mlearn\u001b[0m\u001b[0;34m.\u001b[0m\u001b[0mKMeans\u001b[0m\u001b[0;34m\u001b[0m\u001b[0m\n\u001b[0m",
      "\u001b[0;31mAttributeError\u001b[0m: module 'tensorflow.contrib.learn' has no attribute 'KMeans'"
     ]
    }
   ],
   "source": [
    "tf.contrib.learn.KMeans"
   ]
  },
  {
   "cell_type": "code",
   "execution_count": 27,
   "metadata": {},
   "outputs": [
    {
     "data": {
      "text/plain": [
       "tensorflow.contrib.factorization.python.ops.kmeans.KMeansClustering"
      ]
     },
     "execution_count": 27,
     "metadata": {},
     "output_type": "execute_result"
    }
   ],
   "source": [
    "tf.contrib.factorization.KMeansClustering"
   ]
  },
  {
   "cell_type": "code",
   "execution_count": 4,
   "metadata": {},
   "outputs": [
    {
     "ename": "NameError",
     "evalue": "name 'tf' is not defined",
     "output_type": "error",
     "traceback": [
      "\u001b[0;31m---------------------------------------------------------------------------\u001b[0m",
      "\u001b[0;31mNameError\u001b[0m                                 Traceback (most recent call last)",
      "\u001b[0;32m<ipython-input-4-713a194185f6>\u001b[0m in \u001b[0;36m<module>\u001b[0;34m\u001b[0m\n\u001b[1;32m      4\u001b[0m \u001b[0mpoints\u001b[0m \u001b[0;34m=\u001b[0m \u001b[0mnp\u001b[0m\u001b[0;34m.\u001b[0m\u001b[0mrandom\u001b[0m\u001b[0;34m.\u001b[0m\u001b[0muniform\u001b[0m\u001b[0;34m(\u001b[0m\u001b[0;36m0\u001b[0m\u001b[0;34m,\u001b[0m \u001b[0;36m1000\u001b[0m\u001b[0;34m,\u001b[0m \u001b[0;34m[\u001b[0m\u001b[0mn\u001b[0m\u001b[0;34m,\u001b[0m \u001b[0mvariables\u001b[0m\u001b[0;34m]\u001b[0m\u001b[0;34m)\u001b[0m\u001b[0;34m\u001b[0m\u001b[0m\n\u001b[1;32m      5\u001b[0m \u001b[0minput_fn\u001b[0m\u001b[0;34m=\u001b[0m\u001b[0;32mlambda\u001b[0m\u001b[0;34m:\u001b[0m \u001b[0mtf\u001b[0m\u001b[0;34m.\u001b[0m\u001b[0mtrain\u001b[0m\u001b[0;34m.\u001b[0m\u001b[0mlimit_epochs\u001b[0m\u001b[0;34m(\u001b[0m\u001b[0mtf\u001b[0m\u001b[0;34m.\u001b[0m\u001b[0mconvert_to_tensor\u001b[0m\u001b[0;34m(\u001b[0m\u001b[0mpoints\u001b[0m\u001b[0;34m,\u001b[0m \u001b[0mdtype\u001b[0m\u001b[0;34m=\u001b[0m\u001b[0mtf\u001b[0m\u001b[0;34m.\u001b[0m\u001b[0mfloat32\u001b[0m\u001b[0;34m)\u001b[0m\u001b[0;34m,\u001b[0m \u001b[0mnum_epochs\u001b[0m\u001b[0;34m=\u001b[0m\u001b[0;36m1\u001b[0m\u001b[0;34m)\u001b[0m\u001b[0;34m\u001b[0m\u001b[0m\n\u001b[0;32m----> 6\u001b[0;31m \u001b[0mkmeans\u001b[0m\u001b[0;34m=\u001b[0m\u001b[0mtf\u001b[0m\u001b[0;34m.\u001b[0m\u001b[0mcontrib\u001b[0m\u001b[0;34m.\u001b[0m\u001b[0mfactorization\u001b[0m\u001b[0;34m.\u001b[0m\u001b[0mKMeansClustering\u001b[0m\u001b[0;34m(\u001b[0m\u001b[0mnum_clusters\u001b[0m\u001b[0;34m=\u001b[0m\u001b[0mk\u001b[0m\u001b[0;34m,\u001b[0m \u001b[0muse_mini_batch\u001b[0m\u001b[0;34m=\u001b[0m\u001b[0;32mFalse\u001b[0m\u001b[0;34m)\u001b[0m\u001b[0;34m\u001b[0m\u001b[0m\n\u001b[0m\u001b[1;32m      7\u001b[0m \u001b[0mprevious_centers\u001b[0m \u001b[0;34m=\u001b[0m \u001b[0;32mNone\u001b[0m\u001b[0;34m\u001b[0m\u001b[0m\n\u001b[1;32m      8\u001b[0m \u001b[0;31m# for _ in range(10):\u001b[0m\u001b[0;34m\u001b[0m\u001b[0;34m\u001b[0m\u001b[0m\n",
      "\u001b[0;31mNameError\u001b[0m: name 'tf' is not defined"
     ]
    }
   ],
   "source": [
    "k = 5\n",
    "n = 100\n",
    "variables = 2\n",
    "points = np.random.uniform(0, 1000, [n, variables])\n",
    "input_fn=lambda: tf.train.limit_epochs(tf.convert_to_tensor(points, dtype=tf.float32), num_epochs=1)\n",
    "kmeans=tf.contrib.factorization.KMeansClustering(num_clusters=k, use_mini_batch=False)\n",
    "previous_centers = None\n",
    "# for _ in range(10):\n",
    "kmeans.train(input_fn)\n",
    "centers = kmeans.cluster_centers()\n",
    "#   if previous_centers is not None:\n",
    "#     print 'delta:', centers - previous_centers\n",
    "#   previous_centers = centers\n",
    "#   print 'score:', kmeans.score(input_fn)\n",
    "# print 'centers:', centers\n",
    "cluster_indices = list(kmeans.predict_cluster_index(input_fn))\n",
    "for i, point in enumerate(points):\n",
    "    cluster_index = cluster_indices[i]\n",
    "#   print 'point:', point, 'is in cluster', cluster_index, 'centered at', centers[cluster_index]"
   ]
  },
  {
   "cell_type": "code",
   "execution_count": 41,
   "metadata": {},
   "outputs": [
    {
     "data": {
      "text/plain": [
       "100"
      ]
     },
     "execution_count": 41,
     "metadata": {},
     "output_type": "execute_result"
    }
   ],
   "source": [
    "len(cluster_indices)"
   ]
  },
  {
   "cell_type": "code",
   "execution_count": 47,
   "metadata": {},
   "outputs": [
    {
     "data": {
      "text/plain": [
       "<tf.Tensor 'Const_4:0' shape=(100, 2) dtype=float32>"
      ]
     },
     "execution_count": 47,
     "metadata": {},
     "output_type": "execute_result"
    }
   ],
   "source": [
    "testT=tf.convert_to_tensor(points, dtype=tf.float32)\n",
    "testT"
   ]
  },
  {
   "cell_type": "code",
   "execution_count": 53,
   "metadata": {},
   "outputs": [
    {
     "data": {
      "text/plain": [
       "<tf.Tensor 'Reshape_7:0' shape=(2, 100) dtype=float32>"
      ]
     },
     "execution_count": 53,
     "metadata": {},
     "output_type": "execute_result"
    }
   ],
   "source": [
    "tf.reshape(\n",
    "    testT, (testT.shape[1],testT.shape[0]), name=None\n",
    ")"
   ]
  },
  {
   "cell_type": "code",
   "execution_count": 51,
   "metadata": {},
   "outputs": [
    {
     "data": {
      "text/plain": [
       "Dimension(100)"
      ]
     },
     "execution_count": 51,
     "metadata": {},
     "output_type": "execute_result"
    }
   ],
   "source": []
  },
  {
   "cell_type": "markdown",
   "metadata": {},
   "source": [
    "# Clustering details:\n",
    "- test both of the following, when doing clustering at each iteration:\n",
    "    - Predict based on random initialization at first at the first iteration, then for the next one instialize clusters based on predictions \n",
    "    - At each iteration permute labels so that it has the minimum hamming distance to the predicted ones "
   ]
  },
  {
   "cell_type": "code",
   "execution_count": null,
   "metadata": {},
   "outputs": [],
   "source": []
  },
  {
   "cell_type": "code",
   "execution_count": 18,
   "metadata": {},
   "outputs": [
    {
     "data": {
      "text/plain": [
       "array([1, 0, 2])"
      ]
     },
     "execution_count": 18,
     "metadata": {},
     "output_type": "execute_result"
    }
   ],
   "source": [
    "cost = np.array([[4, 1, 3],\n",
    "                 [2, 0, 5],\n",
    "                 [3, 2, 2],\n",
    "                 [3, 2, 2]])\n",
    "from scipy.optimize import linear_sum_assignment\n",
    "row_ind, col_ind = linear_sum_assignment(cost)\n",
    "col_ind\n"
   ]
  },
  {
   "cell_type": "code",
   "execution_count": 17,
   "metadata": {},
   "outputs": [
    {
     "data": {
      "text/plain": [
       "array([1, 3, 4])"
      ]
     },
     "execution_count": 17,
     "metadata": {},
     "output_type": "execute_result"
    }
   ],
   "source": [
    "Input Shape (8, 32, 1024)"
   ]
  },
  {
   "cell_type": "code",
   "execution_count": null,
   "metadata": {},
   "outputs": [],
   "source": [
    "X=np.array([[[1,1,1],[2,2,2],[3,3,3]],\n",
    "           [[4,4,4],[5,5,5],[6,6,6]],\n",
    "           [[7,7,7],[8,8,8],[9,9,9]],\n",
    "           [[10,10,10],[11,11,11],[12,12,12]]])"
   ]
  },
  {
   "cell_type": "code",
   "execution_count": 28,
   "metadata": {},
   "outputs": [],
   "source": [
    "X1=np.array([[1,2,3],\n",
    "           [4,5,6],\n",
    "           [7,8,9],\n",
    "           [10,11,12]])\n",
    "\n",
    "\n"
   ]
  },
  {
   "cell_type": "code",
   "execution_count": 30,
   "metadata": {},
   "outputs": [
    {
     "data": {
      "text/plain": [
       "array([ 1,  2,  3,  4,  5,  6,  7,  8,  9, 10, 11, 12])"
      ]
     },
     "execution_count": 30,
     "metadata": {},
     "output_type": "execute_result"
    }
   ],
   "source": [
    "X1.flatten()"
   ]
  },
  {
   "cell_type": "code",
   "execution_count": 26,
   "metadata": {},
   "outputs": [
    {
     "data": {
      "text/plain": [
       "(4, 3, 3)"
      ]
     },
     "execution_count": 26,
     "metadata": {},
     "output_type": "execute_result"
    }
   ],
   "source": [
    "X.shape"
   ]
  },
  {
   "cell_type": "code",
   "execution_count": 27,
   "metadata": {},
   "outputs": [
    {
     "data": {
      "text/plain": [
       "array([[ 1,  1,  1],\n",
       "       [ 2,  2,  2],\n",
       "       [ 3,  3,  3],\n",
       "       [ 4,  4,  4],\n",
       "       [ 5,  5,  5],\n",
       "       [ 6,  6,  6],\n",
       "       [ 7,  7,  7],\n",
       "       [ 8,  8,  8],\n",
       "       [ 9,  9,  9],\n",
       "       [10, 10, 10],\n",
       "       [11, 11, 11],\n",
       "       [12, 12, 12]])"
      ]
     },
     "execution_count": 27,
     "metadata": {},
     "output_type": "execute_result"
    }
   ],
   "source": [
    "X.reshape([12,3])"
   ]
  },
  {
   "cell_type": "code",
   "execution_count": 16,
   "metadata": {},
   "outputs": [
    {
     "data": {
      "text/plain": [
       "array([[10.,  3.],\n",
       "       [ 1.,  2.],\n",
       "       [10.,  0.]])"
      ]
     },
     "execution_count": 16,
     "metadata": {},
     "output_type": "execute_result"
    }
   ],
   "source": [
    "from sklearn.cluster import KMeans\n",
    "import numpy as np\n",
    "X = np.array([[1, 2], [1, 4], [1, 0],[10, 2], [10, 4], [10, 0]])\n",
    "kmeans = KMeans(n_clusters=3, random_state=0).fit(X)\n",
    "# kmeans.labels_\n",
    "# array([1, 1, 1, 0, 0, 0], dtype=int32)\n",
    "# kmeans.predict([[0, 0], [12, 3]])\n",
    "# array([1, 0], dtype=int32)\n",
    "cents=kmeans.cluster_centers_\n",
    "cents"
   ]
  },
  {
   "cell_type": "code",
   "execution_count": 42,
   "metadata": {},
   "outputs": [
    {
     "data": {
      "text/plain": [
       "2"
      ]
     },
     "execution_count": 42,
     "metadata": {},
     "output_type": "execute_result"
    }
   ],
   "source": [
    "from numpy import linalg as LA\n",
    "np.argmin(LA.norm(cents-[10,0],1,axis=1))"
   ]
  },
  {
   "cell_type": "code",
   "execution_count": 19,
   "metadata": {},
   "outputs": [],
   "source": [
    "list(kmeans.labels_).remove(0)"
   ]
  },
  {
   "cell_type": "code",
   "execution_count": 23,
   "metadata": {},
   "outputs": [
    {
     "data": {
      "text/plain": [
       "[1, 1, 1, 0, 2]"
      ]
     },
     "execution_count": 23,
     "metadata": {},
     "output_type": "execute_result"
    }
   ],
   "source": [
    "b=list(kmeans.labels_)\n",
    "b.remove(0)\n",
    "b"
   ]
  },
  {
   "cell_type": "code",
   "execution_count": 22,
   "metadata": {},
   "outputs": [],
   "source": [
    "b"
   ]
  },
  {
   "cell_type": "code",
   "execution_count": null,
   "metadata": {},
   "outputs": [],
   "source": []
  }
 ],
 "metadata": {
  "kernelspec": {
   "display_name": "Python 3",
   "language": "python",
   "name": "python3"
  },
  "language_info": {
   "codemirror_mode": {
    "name": "ipython",
    "version": 3
   },
   "file_extension": ".py",
   "mimetype": "text/x-python",
   "name": "python",
   "nbconvert_exporter": "python",
   "pygments_lexer": "ipython3",
   "version": "3.6.4"
  }
 },
 "nbformat": 4,
 "nbformat_minor": 2
}
